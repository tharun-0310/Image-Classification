{
 "cells": [
  {
   "cell_type": "code",
   "execution_count": 1,
   "id": "f2996df0",
   "metadata": {},
   "outputs": [],
   "source": [
    "#pip install opencv-python\n",
    "\n",
    "# =====================\n",
    "# Imports\n",
    "# =====================\n",
    "import os\n",
    "import cv2\n",
    "import pywt\n",
    "import torch\n",
    "import torch.nn as nn\n",
    "import torch.optim as optim\n",
    "import numpy as np\n",
    "import matplotlib.pyplot as plt\n",
    "import seaborn as sns\n",
    "from tqdm import tqdm\n",
    "from torchvision import datasets, transforms, models\n",
    "from torch.utils.data import DataLoader\n",
    "from sklearn.metrics import (\n",
    "    accuracy_score, precision_score, recall_score, f1_score,\n",
    "    confusion_matrix\n",
    ")\n",
    "from scipy.signal import stft\n",
    "from tabulate import tabulate"
   ]
  },
  {
   "cell_type": "code",
   "execution_count": 2,
   "id": "0d5fbdfc",
   "metadata": {},
   "outputs": [],
   "source": [
    "# =====================\n",
    "# Custom Transforms\n",
    "# =====================\n",
    "class DCTTransform:\n",
    "    def __call__(self, img):\n",
    "        img = np.array(img)\n",
    "        img = cv2.cvtColor(img, cv2.COLOR_RGB2GRAY)\n",
    "        dct = cv2.dct(np.float32(img))\n",
    "        dct = cv2.resize(dct, (224, 224))\n",
    "        dct = np.stack([dct, dct, dct], axis=-1)\n",
    "        return torch.tensor(dct.transpose(2, 0, 1), dtype=torch.float32)\n",
    "\n",
    "class STFTTransform:\n",
    "    def __call__(self, img):\n",
    "        img = np.array(img)\n",
    "        img = cv2.cvtColor(img, cv2.COLOR_RGB2GRAY)\n",
    "        f, t, Zxx = stft(img, nperseg=64)\n",
    "        magnitude = np.abs(Zxx)\n",
    "        magnitude = cv2.resize(magnitude, (224, 224))\n",
    "        magnitude = np.stack([magnitude, magnitude, magnitude], axis=-1)\n",
    "        return torch.tensor(magnitude.transpose(2, 0, 1), dtype=torch.float32)\n",
    "\n",
    "class WaveletTransform:\n",
    "    def __call__(self, img):\n",
    "        img = np.array(img)\n",
    "        img = cv2.cvtColor(img, cv2.COLOR_RGB2GRAY)\n",
    "        coeffs2 = pywt.dwt2(img, 'haar')\n",
    "        LL, (LH, HL, HH) = coeffs2\n",
    "        wavelet_img = np.abs(LL)\n",
    "        wavelet_img = cv2.resize(wavelet_img, (224, 224))\n",
    "        wavelet_img = np.stack([wavelet_img, wavelet_img, wavelet_img], axis=-1)\n",
    "        return torch.tensor(wavelet_img.transpose(2, 0, 1), dtype=torch.float32)\n",
    "\n",
    "class LearnableFrequencyTransform(nn.Module):\n",
    "    def __init__(self):\n",
    "        super(LearnableFrequencyTransform, self).__init__()\n",
    "        self.freq_filter = nn.Parameter(torch.randn(1, 224, 224))\n",
    "\n",
    "    def forward(self, img):\n",
    "        if isinstance(img, torch.Tensor):\n",
    "            img = img.squeeze().numpy()\n",
    "        img = cv2.cvtColor(np.array(img), cv2.COLOR_RGB2GRAY)\n",
    "        img = cv2.resize(img, (224, 224))\n",
    "        img_tensor = torch.tensor(img, dtype=torch.float32).unsqueeze(0)\n",
    "        filtered = img_tensor * self.freq_filter\n",
    "        filtered = filtered.squeeze(0).detach().numpy()\n",
    "        filtered = np.stack([filtered, filtered, filtered], axis=-1)\n",
    "        return torch.tensor(filtered.transpose(2, 0, 1), dtype=torch.float32)"
   ]
  },
  {
   "cell_type": "code",
   "execution_count": 3,
   "id": "08a38b9a",
   "metadata": {},
   "outputs": [],
   "source": [
    "# =====================\n",
    "# CONFIGURATION\n",
    "# =====================\n",
    "config = {\n",
    "    \"epochs\": 50,\n",
    "    \"batch_size\": 32,\n",
    "    \"lr\": 1e-3,\n",
    "    \"early_stopping_patience\": 7,\n",
    "    \"dropout\": 0.4,\n",
    "    \"num_classes\": 5,  # update based on dataset\n",
    "    \"train_dir\": r\"F:\\final project\\Capstone Prj\\Dataset\\dataset_split\\train\",\n",
    "    \"val_dir\": r\"F:\\final project\\Capstone Prj\\Dataset\\dataset_split\\val\",\n",
    "    \"test_dir\": r\"F:\\final project\\Capstone Prj\\Dataset\\dataset_split\\test\",\n",
    "    \"save_dir\": r\"F:\\final project\\Capstone Prj\\ConNxt\",\n",
    "    \"transform_type\": \"wavelet\",  # options: dct, stft, wavelet, learnable\n",
    "    \"model\": \"convnext\",          # only convnext is supported\n",
    "    \"device\": \"cuda\" if torch.cuda.is_available() else \"cpu\"\n",
    "}\n",
    "os.makedirs(config[\"save_dir\"], exist_ok=True)\n",
    "\n",
    "# =====================\n",
    "# Select Transform\n",
    "# =====================\n",
    "if config[\"transform_type\"] == \"dct\":\n",
    "    transform_fn = DCTTransform()\n",
    "elif config[\"transform_type\"] == \"stft\":\n",
    "    transform_fn = STFTTransform()\n",
    "elif config[\"transform_type\"] == \"wavelet\":\n",
    "    transform_fn = WaveletTransform()\n",
    "elif config[\"transform_type\"] == \"learnable\":\n",
    "    transform_fn = LearnableFrequencyTransform()\n",
    "else:\n",
    "    raise ValueError(\"Invalid transform_type in config\")\n",
    "\n",
    "train_transforms = transforms.Compose([\n",
    "    transform_fn,\n",
    "    transforms.Normalize([0.5], [0.5])\n",
    "])\n",
    "test_transforms = transforms.Compose([\n",
    "    transform_fn,\n",
    "    transforms.Normalize([0.5], [0.5])\n",
    "])\n",
    "\n",
    "train_dataset = datasets.ImageFolder(root=config[\"train_dir\"], transform=train_transforms)\n",
    "val_dataset = datasets.ImageFolder(root=config[\"val_dir\"], transform=test_transforms)\n",
    "test_dataset = datasets.ImageFolder(root=config[\"test_dir\"], transform=test_transforms)\n",
    "\n",
    "train_loader = DataLoader(train_dataset, batch_size=config[\"batch_size\"], shuffle=True)\n",
    "val_loader = DataLoader(val_dataset, batch_size=config[\"batch_size\"], shuffle=False)\n",
    "test_loader = DataLoader(test_dataset, batch_size=config[\"batch_size\"], shuffle=False)\n",
    "\n",
    "# =====================\n",
    "# Model Selection\n",
    "# =====================\n",
    "def get_model(config):\n",
    "    if config[\"model\"] == \"convnext\":\n",
    "        base = models.convnext_tiny(weights=\"IMAGENET1K_V1\")\n",
    "        in_features = base.classifier[2].in_features\n",
    "        base.classifier[2] = nn.Linear(in_features, config[\"num_classes\"])\n",
    "        return base\n",
    "    else:\n",
    "        raise ValueError(\"Invalid model type in config\")\n",
    "\n",
    "model = get_model(config).to(config[\"device\"])\n",
    "\n",
    "# =====================\n",
    "# Loss & Optimizer\n",
    "# =====================\n",
    "criterion = nn.CrossEntropyLoss()\n",
    "optimizer = optim.Adam(model.parameters(), lr=config[\"lr\"])\n"
   ]
  },
  {
   "cell_type": "code",
   "execution_count": 4,
   "id": "f5df00e6",
   "metadata": {},
   "outputs": [],
   "source": [
    "# =====================\n",
    "# Training Function\n",
    "# =====================\n",
    "def train_model(model, train_loader, val_loader, criterion, optimizer, num_epochs, patience):\n",
    "    best_loss = float(\"inf\")\n",
    "    patience_counter = 0\n",
    "    train_losses, val_losses, train_accs, val_accs = [], [], [], []\n",
    "\n",
    "    for epoch in range(num_epochs):\n",
    "        model.train()\n",
    "        running_loss, correct, total = 0.0, 0, 0\n",
    "\n",
    "        for inputs, labels in tqdm(train_loader, desc=f\"Epoch {epoch+1}/{num_epochs}\"):\n",
    "            inputs, labels = inputs.to(config[\"device\"]), labels.to(config[\"device\"])\n",
    "\n",
    "            optimizer.zero_grad()\n",
    "            outputs = model(inputs)\n",
    "            loss = criterion(outputs, labels)\n",
    "            loss.backward()\n",
    "            optimizer.step()\n",
    "\n",
    "            running_loss += loss.item()\n",
    "            _, preds = torch.max(outputs, 1)\n",
    "            correct += (preds == labels).sum().item()\n",
    "            total += labels.size(0)\n",
    "\n",
    "        train_loss = running_loss / len(train_loader)\n",
    "        train_acc = correct / total\n",
    "        train_losses.append(train_loss)\n",
    "        train_accs.append(train_acc)\n",
    "\n",
    "        # Validation\n",
    "        model.eval()\n",
    "        val_loss, val_correct, val_total = 0.0, 0, 0\n",
    "        with torch.no_grad():\n",
    "            for inputs, labels in val_loader:\n",
    "                inputs, labels = inputs.to(config[\"device\"]), labels.to(config[\"device\"])\n",
    "                outputs = model(inputs)\n",
    "                loss = criterion(outputs, labels)\n",
    "                val_loss += loss.item()\n",
    "                _, preds = torch.max(outputs, 1)\n",
    "                val_correct += (preds == labels).sum().item()\n",
    "                val_total += labels.size(0)\n",
    "\n",
    "        val_loss /= len(val_loader)\n",
    "        val_acc = val_correct / val_total\n",
    "        val_losses.append(val_loss)\n",
    "        val_accs.append(val_acc)\n",
    "\n",
    "        print(f\"Epoch {epoch+1}/{num_epochs} - \"\n",
    "              f\"Train Loss: {train_loss:.4f}, Train Acc: {train_acc:.4f}, \"\n",
    "              f\"Val Loss: {val_loss:.4f}, Val Acc: {val_acc:.4f}\")\n",
    "\n",
    "        # Early stopping\n",
    "        if val_loss < best_loss:\n",
    "            best_loss = val_loss\n",
    "            patience_counter = 0\n",
    "            save_path = os.path.join(config[\"save_dir\"], \"convnext_tiny_freq_best.pth\")\n",
    "            torch.save(model.state_dict(), save_path)\n",
    "        else:\n",
    "            patience_counter += 1\n",
    "            if patience_counter >= patience:\n",
    "                print(\"Early stopping triggered!\")\n",
    "                break\n",
    "\n",
    "    # Plot curves\n",
    "    plt.figure(figsize=(12, 5))\n",
    "    plt.subplot(1, 2, 1)\n",
    "    plt.plot(train_losses, label=\"Train Loss\")\n",
    "    plt.plot(val_losses, label=\"Val Loss\")\n",
    "    plt.legend(), plt.title(\"Loss Curve\")\n",
    "\n",
    "    plt.subplot(1, 2, 2)\n",
    "    plt.plot(train_accs, label=\"Train Acc\")\n",
    "    plt.plot(val_accs, label=\"Val Acc\")\n",
    "    plt.legend(), plt.title(\"Accuracy Curve\")\n",
    "    plt.show()"
   ]
  },
  {
   "cell_type": "code",
   "execution_count": 5,
   "id": "e1d54115",
   "metadata": {},
   "outputs": [
    {
     "name": "stderr",
     "output_type": "stream",
     "text": [
      "Epoch 1/50: 100%|██████████| 393/393 [28:49<00:00,  4.40s/it]\n"
     ]
    },
    {
     "name": "stdout",
     "output_type": "stream",
     "text": [
      "Epoch 1/50 - Train Loss: 1.2002, Train Acc: 0.6128, Val Loss: 1.1882, Val Acc: 0.6153\n"
     ]
    },
    {
     "name": "stderr",
     "output_type": "stream",
     "text": [
      "Epoch 2/50: 100%|██████████| 393/393 [26:44<00:00,  4.08s/it]\n"
     ]
    },
    {
     "name": "stdout",
     "output_type": "stream",
     "text": [
      "Epoch 2/50 - Train Loss: 1.1914, Train Acc: 0.6147, Val Loss: 1.1853, Val Acc: 0.6153\n"
     ]
    },
    {
     "name": "stderr",
     "output_type": "stream",
     "text": [
      "Epoch 3/50: 100%|██████████| 393/393 [26:38<00:00,  4.07s/it]\n"
     ]
    },
    {
     "name": "stdout",
     "output_type": "stream",
     "text": [
      "Epoch 3/50 - Train Loss: 1.1887, Train Acc: 0.6147, Val Loss: 1.1853, Val Acc: 0.6153\n"
     ]
    },
    {
     "name": "stderr",
     "output_type": "stream",
     "text": [
      "Epoch 4/50: 100%|██████████| 393/393 [26:37<00:00,  4.06s/it]\n"
     ]
    },
    {
     "name": "stdout",
     "output_type": "stream",
     "text": [
      "Epoch 4/50 - Train Loss: 1.1868, Train Acc: 0.6147, Val Loss: 1.1841, Val Acc: 0.6153\n"
     ]
    },
    {
     "name": "stderr",
     "output_type": "stream",
     "text": [
      "Epoch 5/50: 100%|██████████| 393/393 [26:35<00:00,  4.06s/it]\n"
     ]
    },
    {
     "name": "stdout",
     "output_type": "stream",
     "text": [
      "Epoch 5/50 - Train Loss: 1.1873, Train Acc: 0.6148, Val Loss: 1.1853, Val Acc: 0.6153\n"
     ]
    },
    {
     "name": "stderr",
     "output_type": "stream",
     "text": [
      "Epoch 6/50: 100%|██████████| 393/393 [26:37<00:00,  4.06s/it]\n"
     ]
    },
    {
     "name": "stdout",
     "output_type": "stream",
     "text": [
      "Epoch 6/50 - Train Loss: 1.1867, Train Acc: 0.6148, Val Loss: 1.1872, Val Acc: 0.6153\n"
     ]
    },
    {
     "name": "stderr",
     "output_type": "stream",
     "text": [
      "Epoch 7/50: 100%|██████████| 393/393 [26:37<00:00,  4.07s/it]\n"
     ]
    },
    {
     "name": "stdout",
     "output_type": "stream",
     "text": [
      "Epoch 7/50 - Train Loss: 1.1870, Train Acc: 0.6148, Val Loss: 1.1845, Val Acc: 0.6153\n"
     ]
    },
    {
     "name": "stderr",
     "output_type": "stream",
     "text": [
      "Epoch 8/50: 100%|██████████| 393/393 [26:36<00:00,  4.06s/it]\n"
     ]
    },
    {
     "name": "stdout",
     "output_type": "stream",
     "text": [
      "Epoch 8/50 - Train Loss: 1.1857, Train Acc: 0.6148, Val Loss: 1.1852, Val Acc: 0.6153\n"
     ]
    },
    {
     "name": "stderr",
     "output_type": "stream",
     "text": [
      "Epoch 9/50: 100%|██████████| 393/393 [26:39<00:00,  4.07s/it]\n"
     ]
    },
    {
     "name": "stdout",
     "output_type": "stream",
     "text": [
      "Epoch 9/50 - Train Loss: 1.1855, Train Acc: 0.6148, Val Loss: 1.1841, Val Acc: 0.6153\n"
     ]
    },
    {
     "name": "stderr",
     "output_type": "stream",
     "text": [
      "Epoch 10/50: 100%|██████████| 393/393 [26:38<00:00,  4.07s/it]\n"
     ]
    },
    {
     "name": "stdout",
     "output_type": "stream",
     "text": [
      "Epoch 10/50 - Train Loss: 1.1870, Train Acc: 0.6146, Val Loss: 1.1841, Val Acc: 0.6153\n"
     ]
    },
    {
     "name": "stderr",
     "output_type": "stream",
     "text": [
      "Epoch 11/50: 100%|██████████| 393/393 [26:39<00:00,  4.07s/it]\n"
     ]
    },
    {
     "name": "stdout",
     "output_type": "stream",
     "text": [
      "Epoch 11/50 - Train Loss: 1.1858, Train Acc: 0.6148, Val Loss: 1.1831, Val Acc: 0.6153\n"
     ]
    },
    {
     "name": "stderr",
     "output_type": "stream",
     "text": [
      "Epoch 12/50: 100%|██████████| 393/393 [26:38<00:00,  4.07s/it]\n"
     ]
    },
    {
     "name": "stdout",
     "output_type": "stream",
     "text": [
      "Epoch 12/50 - Train Loss: 1.1852, Train Acc: 0.6148, Val Loss: 1.1857, Val Acc: 0.6153\n"
     ]
    },
    {
     "name": "stderr",
     "output_type": "stream",
     "text": [
      "Epoch 13/50: 100%|██████████| 393/393 [26:38<00:00,  4.07s/it]\n"
     ]
    },
    {
     "name": "stdout",
     "output_type": "stream",
     "text": [
      "Epoch 13/50 - Train Loss: 1.1849, Train Acc: 0.6148, Val Loss: 1.1832, Val Acc: 0.6153\n"
     ]
    },
    {
     "name": "stderr",
     "output_type": "stream",
     "text": [
      "Epoch 14/50: 100%|██████████| 393/393 [26:38<00:00,  4.07s/it]\n"
     ]
    },
    {
     "name": "stdout",
     "output_type": "stream",
     "text": [
      "Epoch 14/50 - Train Loss: 1.1849, Train Acc: 0.6148, Val Loss: 1.1865, Val Acc: 0.6153\n"
     ]
    },
    {
     "name": "stderr",
     "output_type": "stream",
     "text": [
      "Epoch 15/50: 100%|██████████| 393/393 [26:38<00:00,  4.07s/it]\n"
     ]
    },
    {
     "name": "stdout",
     "output_type": "stream",
     "text": [
      "Epoch 15/50 - Train Loss: 1.1860, Train Acc: 0.6147, Val Loss: 1.1833, Val Acc: 0.6153\n"
     ]
    },
    {
     "name": "stderr",
     "output_type": "stream",
     "text": [
      "Epoch 16/50: 100%|██████████| 393/393 [26:37<00:00,  4.06s/it]\n"
     ]
    },
    {
     "name": "stdout",
     "output_type": "stream",
     "text": [
      "Epoch 16/50 - Train Loss: 1.1858, Train Acc: 0.6148, Val Loss: 1.1860, Val Acc: 0.6153\n"
     ]
    },
    {
     "name": "stderr",
     "output_type": "stream",
     "text": [
      "Epoch 17/50: 100%|██████████| 393/393 [26:40<00:00,  4.07s/it]\n"
     ]
    },
    {
     "name": "stdout",
     "output_type": "stream",
     "text": [
      "Epoch 17/50 - Train Loss: 1.1854, Train Acc: 0.6148, Val Loss: 1.1835, Val Acc: 0.6153\n"
     ]
    },
    {
     "name": "stderr",
     "output_type": "stream",
     "text": [
      "Epoch 18/50: 100%|██████████| 393/393 [26:40<00:00,  4.07s/it]\n"
     ]
    },
    {
     "name": "stdout",
     "output_type": "stream",
     "text": [
      "Epoch 18/50 - Train Loss: 1.1852, Train Acc: 0.6147, Val Loss: 1.1847, Val Acc: 0.6153\n",
      "Early stopping triggered!\n"
     ]
    },
    {
     "data": {
      "image/png": "[encoded data removed]",
      "text/plain": [
       "<Figure size 1200x500 with 2 Axes>"
      ]
     },
     "metadata": {},
     "output_type": "display_data"
    },
    {
     "name": "stdout",
     "output_type": "stream",
     "text": [
      "\n",
      "=== Evaluation Results ===\n",
      "+-----------+---------+\n",
      "| Metric    |   Value |\n",
      "+===========+=========+\n",
      "| Accuracy  |  0.6139 |\n",
      "+-----------+---------+\n",
      "| Precision |  0.3768 |\n",
      "+-----------+---------+\n",
      "| Recall    |  0.6139 |\n",
      "+-----------+---------+\n",
      "| F1 Score  |  0.467  |\n",
      "+-----------+---------+\n"
     ]
    },
    {
     "data": {
      "image/png": "[encoded data removed]",
      "text/plain": [
       "<Figure size 600x500 with 2 Axes>"
      ]
     },
     "metadata": {},
     "output_type": "display_data"
    }
   ],
   "source": [
    "# =====================\n",
    "# Evaluation Function\n",
    "# =====================\n",
    "def evaluate_model(model, test_loader):\n",
    "    model.eval()\n",
    "    all_preds, all_labels = [], []\n",
    "    with torch.no_grad():\n",
    "        for inputs, labels in test_loader:\n",
    "            inputs, labels = inputs.to(config[\"device\"]), labels.to(config[\"device\"])\n",
    "            outputs = model(inputs)\n",
    "            _, preds = torch.max(outputs, 1)\n",
    "            all_preds.extend(preds.cpu().numpy())\n",
    "            all_labels.extend(labels.cpu().numpy())\n",
    "\n",
    "    acc = accuracy_score(all_labels, all_preds)\n",
    "    prec = precision_score(all_labels, all_preds, average=\"weighted\", zero_division=0)\n",
    "    rec = recall_score(all_labels, all_preds, average=\"weighted\", zero_division=0)\n",
    "    f1 = f1_score(all_labels, all_preds, average=\"weighted\", zero_division=0)\n",
    "    cm = confusion_matrix(all_labels, all_preds)\n",
    "\n",
    "    # Print results in table format\n",
    "    metrics_table = [\n",
    "        [\"Accuracy\", f\"{acc:.4f}\"],\n",
    "        [\"Precision\", f\"{prec:.4f}\"],\n",
    "        [\"Recall\", f\"{rec:.4f}\"],\n",
    "        [\"F1 Score\", f\"{f1:.4f}\"]\n",
    "    ]\n",
    "    print(\"\\n=== Evaluation Results ===\")\n",
    "    print(tabulate(metrics_table, headers=[\"Metric\", \"Value\"], tablefmt=\"grid\"))\n",
    "\n",
    "    # Confusion Matrix\n",
    "    plt.figure(figsize=(6,5))\n",
    "    sns.heatmap(cm, annot=True, fmt=\"d\", cmap=\"Blues\",\n",
    "                xticklabels=test_loader.dataset.classes,\n",
    "                yticklabels=test_loader.dataset.classes)\n",
    "    plt.xlabel(\"Predicted\"), plt.ylabel(\"True\")\n",
    "    plt.title(\"Confusion Matrix\")\n",
    "    plt.show()\n",
    "\n",
    "# =====================\n",
    "# Run\n",
    "# =====================\n",
    "train_model(model, train_loader, val_loader, criterion, optimizer,\n",
    "            config[\"epochs\"], config[\"early_stopping_patience\"])\n",
    "\n",
    "# Load best model for evaluation\n",
    "best_model_path = os.path.join(config[\"save_dir\"], \"convnext_tiny_freq_best.pth\")\n",
    "model.load_state_dict(torch.load(best_model_path, map_location=config[\"device\"]))\n",
    "evaluate_model(model, test_loader)\n"
   ]
  }
 ],
 "metadata": {
  "kernelspec": {
   "display_name": "Capstone",
   "language": "python",
   "name": "python3"
  },
  "language_info": {
   "codemirror_mode": {
    "name": "ipython",
    "version": 3
   },
   "file_extension": ".py",
   "mimetype": "text/x-python",
   "name": "python",
   "nbconvert_exporter": "python",
   "pygments_lexer": "ipython3",
   "version": "3.13.5"
  }
 },
 "nbformat": 4,
 "nbformat_minor": 5
}

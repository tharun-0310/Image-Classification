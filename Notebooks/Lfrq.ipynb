{
 "cells": [
  {
   "cell_type": "markdown",
   "id": "669befb8",
   "metadata": {},
   "source": [
    "# Imports"
   ]
  },
  {
   "cell_type": "code",
   "execution_count": 1,
   "id": "53d09998",
   "metadata": {},
   "outputs": [],
   "source": [
    "import torch\n",
    "import os\n",
    "import torch.nn as nn\n",
    "import torch.optim as optim\n",
    "from torch.utils.data import DataLoader\n",
    "from torchvision import datasets, transforms, models\n",
    "from sklearn.metrics import (\n",
    "    accuracy_score, precision_score, recall_score, f1_score,\n",
    "    roc_auc_score, confusion_matrix\n",
    ")\n",
    "import numpy as np\n",
    "from tqdm import tqdm\n",
    "import matplotlib.pyplot as plt\n",
    "import seaborn as sns"
   ]
  },
  {
   "cell_type": "markdown",
   "id": "aada4b65",
   "metadata": {},
   "source": [
    "# Configuration's"
   ]
  },
  {
   "cell_type": "code",
   "execution_count": 2,
   "id": "6c70c9b4",
   "metadata": {},
   "outputs": [
    {
     "name": "stdout",
     "output_type": "stream",
     "text": [
      "Models will be saved in: models\\learnable_freq\\best_auc.pth\n",
      "Models will be saved in: models\\learnable_freq\\best_loss.pth\n"
     ]
    }
   ],
   "source": [
    "# =====================\n",
    "# CONFIGURATION\n",
    "# =====================\n",
    "config = {\n",
    "    \"model\": \"learnable_freq\",   # Options: mobilenetv2, convnext, dct, stft, wavelet, learnable_freq\n",
    "    \"epochs\": 60,\n",
    "    \"batch_size\": 32,\n",
    "    \"lr\": 1e-3,\n",
    "    \"early_stopping_patience\": 7,\n",
    "    \"dropout\": 0.4,\n",
    "    \"num_classes\": 5,  # update based on dataset\n",
    "    \"train_dir\": r\"F:\\final project\\Capstone Prj\\Dataset\\dataset_split\\train\",\n",
    "    \"val_dir\": r\"F:\\final project\\Capstone Prj\\Dataset\\dataset_split\\val\",\n",
    "    \"test_dir\": r\"F:\\final project\\Capstone Prj\\Dataset\\dataset_split\\test\",\n",
    "}\n",
    "config[\"save_dir\"] = os.path.join(\"models\", config[\"model\"])\n",
    "os.makedirs(config[\"save_dir\"], exist_ok=True)\n",
    "\n",
    "config[\"model_path_auc\"] = os.path.join(config[\"save_dir\"], \"best_auc.pth\")\n",
    "config[\"model_path_loss\"] = os.path.join(config[\"save_dir\"], \"best_loss.pth\")\n",
    "print(f\"Models will be saved in: {config['model_path_auc']}\")\n",
    "print(f\"Models will be saved in: {config['model_path_loss']}\")"
   ]
  },
  {
   "cell_type": "markdown",
   "id": "5d4d1a25",
   "metadata": {},
   "source": [
    "# Transformation and DataLoader"
   ]
  },
  {
   "cell_type": "code",
   "execution_count": 3,
   "id": "ce07d88a",
   "metadata": {},
   "outputs": [
    {
     "name": "stdout",
     "output_type": "stream",
     "text": [
      "Using device: cuda - NVIDIA GeForce RTX 3050 Laptop GPU\n"
     ]
    }
   ],
   "source": [
    "# =====================\n",
    "# DATA PIPELINE\n",
    "# =====================\n",
    "transform = transforms.Compose([\n",
    "    transforms.Resize((224, 224)),\n",
    "    transforms.ToTensor(),\n",
    "])\n",
    "\n",
    "train_data = datasets.ImageFolder(config[\"train_dir\"], transform=transform)\n",
    "val_data = datasets.ImageFolder(config[\"val_dir\"], transform=transform)\n",
    "test_data = datasets.ImageFolder(config[\"test_dir\"], transform=transform)\n",
    "\n",
    "train_loader = DataLoader(train_data, batch_size=config[\"batch_size\"], shuffle=True)\n",
    "val_loader = DataLoader(val_data, batch_size=config[\"batch_size\"], shuffle=False)\n",
    "test_loader = DataLoader(test_data, batch_size=config[\"batch_size\"], shuffle=False)\n",
    "\n",
    "# =====================\n",
    "# DEVICE\n",
    "# =====================\n",
    "device = torch.device(\"cuda\" if torch.cuda.is_available() else \"cpu\")\n",
    "print(f\"Using device: {device}\" + (f\" - {torch.cuda.get_device_name(0)}\" if torch.cuda.is_available() else \"\"))"
   ]
  },
  {
   "cell_type": "markdown",
   "id": "a41c7b15",
   "metadata": {},
   "source": [
    "# Model Builder"
   ]
  },
  {
   "cell_type": "code",
   "execution_count": 4,
   "id": "322a3c86",
   "metadata": {},
   "outputs": [],
   "source": [
    "# =====================\n",
    "# MODEL BUILDER\n",
    "# =====================\n",
    "class ClassifierHead(nn.Module):\n",
    "    def __init__(self, in_features, num_classes, dropout=0.5):\n",
    "        super().__init__()\n",
    "        self.fc = nn.Sequential(\n",
    "            nn.BatchNorm1d(in_features),\n",
    "            nn.Dropout(dropout),\n",
    "            nn.Linear(in_features, num_classes)\n",
    "        )\n",
    "    def forward(self, x):\n",
    "        return self.fc(x)\n",
    "\n",
    "def build_model(config):\n",
    "    if config[\"model\"] == \"mobilenetv2\":\n",
    "        base = models.mobilenet_v2(weights=\"IMAGENET1K_V1\")\n",
    "        in_features = base.classifier[1].in_features\n",
    "        base.classifier = ClassifierHead(in_features, config[\"num_classes\"], config[\"dropout\"])\n",
    "        return base\n",
    "\n",
    "    elif config[\"model\"] == \"convnext\":\n",
    "        base = models.convnext_tiny(weights=\"IMAGENET1K_V1\")\n",
    "        in_features = base.classifier[2].in_features\n",
    "        base.classifier[2] = nn.Linear(in_features, config[\"num_classes\"])\n",
    "        return base\n",
    "\n",
    "    elif config[\"model\"] == \"dct\":\n",
    "        return nn.Sequential(\n",
    "            nn.Flatten(),\n",
    "            nn.Linear(224*224*3, 512),\n",
    "            nn.ReLU(),\n",
    "            nn.Dropout(config[\"dropout\"]),\n",
    "            nn.Linear(512, config[\"num_classes\"])\n",
    "        )\n",
    "\n",
    "    elif config[\"model\"] == \"stft\":\n",
    "        return nn.Sequential(\n",
    "            nn.Conv2d(3, 16, 3, padding=1),\n",
    "            nn.ReLU(),\n",
    "            nn.AdaptiveAvgPool2d((1, 1)),\n",
    "            nn.Flatten(),\n",
    "            nn.Linear(16, config[\"num_classes\"])\n",
    "        )\n",
    "\n",
    "    elif config[\"model\"] == \"wavelet\":\n",
    "        return nn.Sequential(\n",
    "            nn.Conv2d(3, 32, 3, padding=1),\n",
    "            nn.ReLU(),\n",
    "            nn.AdaptiveAvgPool2d((1, 1)),\n",
    "            nn.Flatten(),\n",
    "            nn.Linear(32, config[\"num_classes\"])\n",
    "        )\n",
    "\n",
    "    elif config[\"model\"] == \"learnable_freq\":\n",
    "        return nn.Sequential(\n",
    "            nn.Conv2d(3, 32, 3, stride=1, padding=1),\n",
    "            nn.ReLU(),\n",
    "            nn.AdaptiveAvgPool2d((1, 1)),\n",
    "            nn.Flatten(),\n",
    "            nn.Linear(32, config[\"num_classes\"])\n",
    "        )\n",
    "\n",
    "    else:\n",
    "        raise ValueError(f\"Unknown model type: {config['model']}\")\n",
    "\n",
    "model = build_model(config).to(device)\n",
    "\n",
    "# =====================\n",
    "# TRAINING SETUP\n",
    "# =====================\n",
    "criterion = nn.CrossEntropyLoss()\n",
    "optimizer = optim.Adam(model.parameters(), lr=config[\"lr\"])\n",
    "scheduler = optim.lr_scheduler.ReduceLROnPlateau(optimizer, patience=2, factor=0.5)"
   ]
  },
  {
   "cell_type": "markdown",
   "id": "93f5424e",
   "metadata": {},
   "source": [
    "# Helper Function's"
   ]
  },
  {
   "cell_type": "code",
   "execution_count": 5,
   "id": "5a948bce",
   "metadata": {},
   "outputs": [],
   "source": [
    "# =====================\n",
    "# HELPER FUNCTIONS\n",
    "# =====================\n",
    "def compute_metrics(y_true, y_pred, y_prob, average=\"macro\"):\n",
    "    acc = accuracy_score(y_true, y_pred)\n",
    "    prec = precision_score(y_true, y_pred, average=average, zero_division=0)\n",
    "    rec = recall_score(y_true, y_pred, average=average, zero_division=0)\n",
    "    f1 = f1_score(y_true, y_pred, average=average, zero_division=0)\n",
    "    try:\n",
    "        auc = roc_auc_score(y_true, y_prob, multi_class=\"ovr\")\n",
    "    except:\n",
    "        auc = 0.0\n",
    "    return acc, prec, rec, f1, auc"
   ]
  },
  {
   "cell_type": "markdown",
   "id": "05f71289",
   "metadata": {},
   "source": [
    "# Training and Validation"
   ]
  },
  {
   "cell_type": "code",
   "execution_count": 6,
   "id": "226a300a",
   "metadata": {},
   "outputs": [
    {
     "name": "stderr",
     "output_type": "stream",
     "text": [
      "Epoch 1/60 [Train]: 100%|██████████| 393/393 [02:04<00:00,  3.14it/s]\n",
      "Epoch 1/60 [Val]: 100%|██████████| 84/84 [00:23<00:00,  3.58it/s]\n"
     ]
    },
    {
     "name": "stdout",
     "output_type": "stream",
     "text": [
      "\n",
      "Epoch 1:\n",
      " Train -> Loss=1.2118, Acc=0.6048, Prec=0.1441, Rec=0.1996, F1=0.1573, AUC=0.5245\n",
      " Val   -> Loss=1.1793, Acc=0.6153, Prec=0.1231, Rec=0.2000, F1=0.1524, AUC=0.5441\n",
      "Best model (AUC) saved with AUC = 0.5441\n",
      "Best model (Loss) saved with Loss = 1.1793\n"
     ]
    },
    {
     "name": "stderr",
     "output_type": "stream",
     "text": [
      "Epoch 2/60 [Train]: 100%|██████████| 393/393 [01:52<00:00,  3.51it/s]\n",
      "Epoch 2/60 [Val]: 100%|██████████| 84/84 [00:21<00:00,  3.83it/s]\n"
     ]
    },
    {
     "name": "stdout",
     "output_type": "stream",
     "text": [
      "\n",
      "Epoch 2:\n",
      " Train -> Loss=1.1828, Acc=0.6148, Prec=0.1230, Rec=0.2000, F1=0.1523, AUC=0.5389\n",
      " Val   -> Loss=1.1760, Acc=0.6153, Prec=0.1231, Rec=0.2000, F1=0.1524, AUC=0.5663\n",
      "Best model (AUC) saved with AUC = 0.5663\n",
      "Best model (Loss) saved with Loss = 1.1760\n"
     ]
    },
    {
     "name": "stderr",
     "output_type": "stream",
     "text": [
      "Epoch 3/60 [Train]: 100%|██████████| 393/393 [01:50<00:00,  3.56it/s]\n",
      "Epoch 3/60 [Val]: 100%|██████████| 84/84 [00:22<00:00,  3.80it/s]\n"
     ]
    },
    {
     "name": "stdout",
     "output_type": "stream",
     "text": [
      "\n",
      "Epoch 3:\n",
      " Train -> Loss=1.1791, Acc=0.6148, Prec=0.1230, Rec=0.2000, F1=0.1523, AUC=0.5525\n",
      " Val   -> Loss=1.1699, Acc=0.6153, Prec=0.1231, Rec=0.2000, F1=0.1524, AUC=0.5800\n",
      "Best model (AUC) saved with AUC = 0.5800\n",
      "Best model (Loss) saved with Loss = 1.1699\n"
     ]
    },
    {
     "name": "stderr",
     "output_type": "stream",
     "text": [
      "Epoch 4/60 [Train]: 100%|██████████| 393/393 [01:50<00:00,  3.57it/s]\n",
      "Epoch 4/60 [Val]: 100%|██████████| 84/84 [00:22<00:00,  3.72it/s]\n"
     ]
    },
    {
     "name": "stdout",
     "output_type": "stream",
     "text": [
      "\n",
      "Epoch 4:\n",
      " Train -> Loss=1.1746, Acc=0.6148, Prec=0.1230, Rec=0.2000, F1=0.1523, AUC=0.5622\n",
      " Val   -> Loss=1.1627, Acc=0.6153, Prec=0.1231, Rec=0.2000, F1=0.1524, AUC=0.5873\n",
      "Best model (AUC) saved with AUC = 0.5873\n",
      "Best model (Loss) saved with Loss = 1.1627\n"
     ]
    },
    {
     "name": "stderr",
     "output_type": "stream",
     "text": [
      "Epoch 5/60 [Train]: 100%|██████████| 393/393 [01:49<00:00,  3.59it/s]\n",
      "Epoch 5/60 [Val]: 100%|██████████| 84/84 [00:19<00:00,  4.38it/s]\n"
     ]
    },
    {
     "name": "stdout",
     "output_type": "stream",
     "text": [
      "\n",
      "Epoch 5:\n",
      " Train -> Loss=1.1700, Acc=0.6148, Prec=0.1230, Rec=0.2000, F1=0.1523, AUC=0.5723\n",
      " Val   -> Loss=1.1618, Acc=0.6153, Prec=0.1231, Rec=0.2000, F1=0.1524, AUC=0.5937\n",
      "Best model (AUC) saved with AUC = 0.5937\n",
      "Best model (Loss) saved with Loss = 1.1618\n"
     ]
    },
    {
     "name": "stderr",
     "output_type": "stream",
     "text": [
      "Epoch 6/60 [Train]: 100%|██████████| 393/393 [01:33<00:00,  4.18it/s]\n",
      "Epoch 6/60 [Val]: 100%|██████████| 84/84 [00:18<00:00,  4.46it/s]\n"
     ]
    },
    {
     "name": "stdout",
     "output_type": "stream",
     "text": [
      "\n",
      "Epoch 6:\n",
      " Train -> Loss=1.1664, Acc=0.6149, Prec=0.3230, Rec=0.2002, F1=0.1526, AUC=0.5814\n",
      " Val   -> Loss=1.1547, Acc=0.6157, Prec=0.2232, Rec=0.2007, F1=0.1539, AUC=0.6032\n",
      "Best model (AUC) saved with AUC = 0.6032\n",
      "Best model (Loss) saved with Loss = 1.1547\n"
     ]
    },
    {
     "name": "stderr",
     "output_type": "stream",
     "text": [
      "Epoch 7/60 [Train]: 100%|██████████| 393/393 [01:34<00:00,  4.14it/s]\n",
      "Epoch 7/60 [Val]: 100%|██████████| 84/84 [00:20<00:00,  4.19it/s]\n"
     ]
    },
    {
     "name": "stdout",
     "output_type": "stream",
     "text": [
      "\n",
      "Epoch 7:\n",
      " Train -> Loss=1.1605, Acc=0.6152, Prec=0.2164, Rec=0.2010, F1=0.1545, AUC=0.5929\n",
      " Val   -> Loss=1.1552, Acc=0.6168, Prec=0.1963, Rec=0.2029, F1=0.1584, AUC=0.6159\n",
      "Best model (AUC) saved with AUC = 0.6159\n",
      "Validation Loss 1.1552 did not reduced from 1.1547\n"
     ]
    },
    {
     "name": "stderr",
     "output_type": "stream",
     "text": [
      "Epoch 8/60 [Train]: 100%|██████████| 393/393 [01:40<00:00,  3.93it/s]\n",
      "Epoch 8/60 [Val]: 100%|██████████| 84/84 [00:19<00:00,  4.25it/s]\n"
     ]
    },
    {
     "name": "stdout",
     "output_type": "stream",
     "text": [
      "\n",
      "Epoch 8:\n",
      " Train -> Loss=1.1549, Acc=0.6156, Prec=0.2137, Rec=0.2027, F1=0.1582, AUC=0.6022\n",
      " Val   -> Loss=1.1414, Acc=0.6172, Prec=0.1944, Rec=0.2043, F1=0.1611, AUC=0.6279\n",
      "Best model (AUC) saved with AUC = 0.6279\n",
      "Best model (Loss) saved with Loss = 1.1414\n"
     ]
    },
    {
     "name": "stderr",
     "output_type": "stream",
     "text": [
      "Epoch 9/60 [Train]: 100%|██████████| 393/393 [01:37<00:00,  4.01it/s]\n",
      "Epoch 9/60 [Val]: 100%|██████████| 84/84 [00:19<00:00,  4.26it/s]\n"
     ]
    },
    {
     "name": "stdout",
     "output_type": "stream",
     "text": [
      "\n",
      "Epoch 9:\n",
      " Train -> Loss=1.1489, Acc=0.6166, Prec=0.2009, Rec=0.2050, F1=0.1627, AUC=0.6157\n",
      " Val   -> Loss=1.1363, Acc=0.6194, Prec=0.2132, Rec=0.2111, F1=0.1738, AUC=0.6336\n",
      "Best model (AUC) saved with AUC = 0.6336\n",
      "Best model (Loss) saved with Loss = 1.1363\n"
     ]
    },
    {
     "name": "stderr",
     "output_type": "stream",
     "text": [
      "Epoch 10/60 [Train]: 100%|██████████| 393/393 [01:37<00:00,  4.04it/s]\n",
      "Epoch 10/60 [Val]: 100%|██████████| 84/84 [00:17<00:00,  4.69it/s]\n"
     ]
    },
    {
     "name": "stdout",
     "output_type": "stream",
     "text": [
      "\n",
      "Epoch 10:\n",
      " Train -> Loss=1.1453, Acc=0.6167, Prec=0.1882, Rec=0.2062, F1=0.1651, AUC=0.6254\n",
      " Val   -> Loss=1.1303, Acc=0.6183, Prec=0.2156, Rec=0.2077, F1=0.1677, AUC=0.6475\n",
      "Best model (AUC) saved with AUC = 0.6475\n",
      "Best model (Loss) saved with Loss = 1.1303\n"
     ]
    },
    {
     "name": "stderr",
     "output_type": "stream",
     "text": [
      "Epoch 11/60 [Train]: 100%|██████████| 393/393 [01:35<00:00,  4.13it/s]\n",
      "Epoch 11/60 [Val]: 100%|██████████| 84/84 [00:17<00:00,  4.76it/s]\n"
     ]
    },
    {
     "name": "stdout",
     "output_type": "stream",
     "text": [
      "\n",
      "Epoch 11:\n",
      " Train -> Loss=1.1400, Acc=0.6172, Prec=0.1917, Rec=0.2082, F1=0.1688, AUC=0.6344\n",
      " Val   -> Loss=1.1261, Acc=0.6205, Prec=0.2117, Rec=0.2139, F1=0.1784, AUC=0.6520\n",
      "Best model (AUC) saved with AUC = 0.6520\n",
      "Best model (Loss) saved with Loss = 1.1261\n"
     ]
    },
    {
     "name": "stderr",
     "output_type": "stream",
     "text": [
      "Epoch 12/60 [Train]: 100%|██████████| 393/393 [01:39<00:00,  3.95it/s]\n",
      "Epoch 12/60 [Val]: 100%|██████████| 84/84 [00:20<00:00,  4.05it/s]\n"
     ]
    },
    {
     "name": "stdout",
     "output_type": "stream",
     "text": [
      "\n",
      "Epoch 12:\n",
      " Train -> Loss=1.1360, Acc=0.6177, Prec=0.1911, Rec=0.2098, F1=0.1715, AUC=0.6424\n",
      " Val   -> Loss=1.1254, Acc=0.6202, Prec=0.2189, Rec=0.2119, F1=0.1752, AUC=0.6581\n",
      "Best model (AUC) saved with AUC = 0.6581\n",
      "Best model (Loss) saved with Loss = 1.1254\n"
     ]
    },
    {
     "name": "stderr",
     "output_type": "stream",
     "text": [
      "Epoch 13/60 [Train]: 100%|██████████| 393/393 [01:36<00:00,  4.06it/s]\n",
      "Epoch 13/60 [Val]: 100%|██████████| 84/84 [00:17<00:00,  4.81it/s]\n"
     ]
    },
    {
     "name": "stdout",
     "output_type": "stream",
     "text": [
      "\n",
      "Epoch 13:\n",
      " Train -> Loss=1.1330, Acc=0.6187, Prec=0.1912, Rec=0.2113, F1=0.1738, AUC=0.6463\n",
      " Val   -> Loss=1.1177, Acc=0.6213, Prec=0.2178, Rec=0.2141, F1=0.1788, AUC=0.6675\n",
      "Best model (AUC) saved with AUC = 0.6675\n",
      "Best model (Loss) saved with Loss = 1.1177\n"
     ]
    },
    {
     "name": "stderr",
     "output_type": "stream",
     "text": [
      "Epoch 14/60 [Train]: 100%|██████████| 393/393 [01:34<00:00,  4.14it/s]\n",
      "Epoch 14/60 [Val]: 100%|██████████| 84/84 [00:18<00:00,  4.46it/s]\n"
     ]
    },
    {
     "name": "stdout",
     "output_type": "stream",
     "text": [
      "\n",
      "Epoch 14:\n",
      " Train -> Loss=1.1279, Acc=0.6182, Prec=0.1875, Rec=0.2117, F1=0.1746, AUC=0.6550\n",
      " Val   -> Loss=1.1143, Acc=0.6231, Prec=0.2217, Rec=0.2190, F1=0.1865, AUC=0.6731\n",
      "Best model (AUC) saved with AUC = 0.6731\n",
      "Best model (Loss) saved with Loss = 1.1143\n"
     ]
    },
    {
     "name": "stderr",
     "output_type": "stream",
     "text": [
      "Epoch 15/60 [Train]: 100%|██████████| 393/393 [01:35<00:00,  4.12it/s]\n",
      "Epoch 15/60 [Val]: 100%|██████████| 84/84 [00:18<00:00,  4.47it/s]\n"
     ]
    },
    {
     "name": "stdout",
     "output_type": "stream",
     "text": [
      "\n",
      "Epoch 15:\n",
      " Train -> Loss=1.1237, Acc=0.6192, Prec=0.1907, Rec=0.2137, F1=0.1777, AUC=0.6611\n",
      " Val   -> Loss=1.1100, Acc=0.6235, Prec=0.2938, Rec=0.2204, F1=0.1897, AUC=0.6781\n",
      "Best model (AUC) saved with AUC = 0.6781\n",
      "Best model (Loss) saved with Loss = 1.1100\n"
     ]
    },
    {
     "name": "stderr",
     "output_type": "stream",
     "text": [
      "Epoch 16/60 [Train]: 100%|██████████| 393/393 [01:35<00:00,  4.10it/s]\n",
      "Epoch 16/60 [Val]: 100%|██████████| 84/84 [00:17<00:00,  4.77it/s]\n"
     ]
    },
    {
     "name": "stdout",
     "output_type": "stream",
     "text": [
      "\n",
      "Epoch 16:\n",
      " Train -> Loss=1.1207, Acc=0.6192, Prec=0.2229, Rec=0.2148, F1=0.1795, AUC=0.6660\n",
      " Val   -> Loss=1.1080, Acc=0.6217, Prec=0.2520, Rec=0.2168, F1=0.1839, AUC=0.6802\n",
      "Best model (AUC) saved with AUC = 0.6802\n",
      "Best model (Loss) saved with Loss = 1.1080\n"
     ]
    },
    {
     "name": "stderr",
     "output_type": "stream",
     "text": [
      "Epoch 17/60 [Train]: 100%|██████████| 393/393 [01:35<00:00,  4.12it/s]\n",
      "Epoch 17/60 [Val]: 100%|██████████| 84/84 [00:18<00:00,  4.44it/s]\n"
     ]
    },
    {
     "name": "stdout",
     "output_type": "stream",
     "text": [
      "\n",
      "Epoch 17:\n",
      " Train -> Loss=1.1176, Acc=0.6196, Prec=0.1901, Rec=0.2159, F1=0.1810, AUC=0.6705\n",
      " Val   -> Loss=1.1092, Acc=0.6246, Prec=0.2819, Rec=0.2236, F1=0.1934, AUC=0.6837\n",
      "Best model (AUC) saved with AUC = 0.6837\n",
      "Validation Loss 1.1092 did not reduced from 1.1080\n"
     ]
    },
    {
     "name": "stderr",
     "output_type": "stream",
     "text": [
      "Epoch 18/60 [Train]: 100%|██████████| 393/393 [01:35<00:00,  4.10it/s]\n",
      "Epoch 18/60 [Val]: 100%|██████████| 84/84 [00:18<00:00,  4.54it/s]\n"
     ]
    },
    {
     "name": "stdout",
     "output_type": "stream",
     "text": [
      "\n",
      "Epoch 18:\n",
      " Train -> Loss=1.1127, Acc=0.6202, Prec=0.2323, Rec=0.2165, F1=0.1821, AUC=0.6734\n",
      " Val   -> Loss=1.0989, Acc=0.6261, Prec=0.2168, Rec=0.2266, F1=0.1970, AUC=0.6882\n",
      "Best model (AUC) saved with AUC = 0.6882\n",
      "Best model (Loss) saved with Loss = 1.0989\n"
     ]
    },
    {
     "name": "stderr",
     "output_type": "stream",
     "text": [
      "Epoch 19/60 [Train]: 100%|██████████| 393/393 [01:35<00:00,  4.12it/s]\n",
      "Epoch 19/60 [Val]: 100%|██████████| 84/84 [00:19<00:00,  4.25it/s]\n"
     ]
    },
    {
     "name": "stdout",
     "output_type": "stream",
     "text": [
      "\n",
      "Epoch 19:\n",
      " Train -> Loss=1.1111, Acc=0.6203, Prec=0.2397, Rec=0.2173, F1=0.1832, AUC=0.6782\n",
      " Val   -> Loss=1.0948, Acc=0.6265, Prec=0.2522, Rec=0.2281, F1=0.1996, AUC=0.6913\n",
      "Best model (AUC) saved with AUC = 0.6913\n",
      "Best model (Loss) saved with Loss = 1.0948\n"
     ]
    },
    {
     "name": "stderr",
     "output_type": "stream",
     "text": [
      "Epoch 20/60 [Train]: 100%|██████████| 393/393 [01:34<00:00,  4.14it/s]\n",
      "Epoch 20/60 [Val]: 100%|██████████| 84/84 [00:17<00:00,  4.68it/s]\n"
     ]
    },
    {
     "name": "stdout",
     "output_type": "stream",
     "text": [
      "\n",
      "Epoch 20:\n",
      " Train -> Loss=1.1067, Acc=0.6205, Prec=0.2123, Rec=0.2179, F1=0.1840, AUC=0.6808\n",
      " Val   -> Loss=1.0944, Acc=0.6283, Prec=0.2127, Rec=0.2341, F1=0.2056, AUC=0.6936\n",
      "Best model (AUC) saved with AUC = 0.6936\n",
      "Best model (Loss) saved with Loss = 1.0944\n"
     ]
    },
    {
     "name": "stderr",
     "output_type": "stream",
     "text": [
      "Epoch 21/60 [Train]: 100%|██████████| 393/393 [01:35<00:00,  4.13it/s]\n",
      "Epoch 21/60 [Val]: 100%|██████████| 84/84 [00:17<00:00,  4.73it/s]\n"
     ]
    },
    {
     "name": "stdout",
     "output_type": "stream",
     "text": [
      "\n",
      "Epoch 21:\n",
      " Train -> Loss=1.1031, Acc=0.6214, Prec=0.3111, Rec=0.2195, F1=0.1864, AUC=0.6851\n",
      " Val   -> Loss=1.0904, Acc=0.6250, Prec=0.2661, Rec=0.2259, F1=0.1974, AUC=0.6948\n",
      "Best model (AUC) saved with AUC = 0.6948\n",
      "Best model (Loss) saved with Loss = 1.0904\n"
     ]
    },
    {
     "name": "stderr",
     "output_type": "stream",
     "text": [
      "Epoch 22/60 [Train]: 100%|██████████| 393/393 [01:35<00:00,  4.12it/s]\n",
      "Epoch 22/60 [Val]: 100%|██████████| 84/84 [00:20<00:00,  4.11it/s]\n"
     ]
    },
    {
     "name": "stdout",
     "output_type": "stream",
     "text": [
      "\n",
      "Epoch 22:\n",
      " Train -> Loss=1.1023, Acc=0.6215, Prec=0.2905, Rec=0.2213, F1=0.1895, AUC=0.6839\n",
      " Val   -> Loss=1.0888, Acc=0.6261, Prec=0.3804, Rec=0.2316, F1=0.2086, AUC=0.6978\n",
      "Best model (AUC) saved with AUC = 0.6978\n",
      "Best model (Loss) saved with Loss = 1.0888\n"
     ]
    },
    {
     "name": "stderr",
     "output_type": "stream",
     "text": [
      "Epoch 23/60 [Train]: 100%|██████████| 393/393 [01:36<00:00,  4.08it/s]\n",
      "Epoch 23/60 [Val]: 100%|██████████| 84/84 [00:17<00:00,  4.68it/s]\n"
     ]
    },
    {
     "name": "stdout",
     "output_type": "stream",
     "text": [
      "\n",
      "Epoch 23:\n",
      " Train -> Loss=1.0991, Acc=0.6208, Prec=0.3045, Rec=0.2204, F1=0.1876, AUC=0.6896\n",
      " Val   -> Loss=1.0865, Acc=0.6295, Prec=0.2665, Rec=0.2352, F1=0.2085, AUC=0.7000\n",
      "Best model (AUC) saved with AUC = 0.7000\n",
      "Best model (Loss) saved with Loss = 1.0865\n"
     ]
    },
    {
     "name": "stderr",
     "output_type": "stream",
     "text": [
      "Epoch 24/60 [Train]: 100%|██████████| 393/393 [01:35<00:00,  4.13it/s]\n",
      "Epoch 24/60 [Val]: 100%|██████████| 84/84 [00:18<00:00,  4.55it/s]\n"
     ]
    },
    {
     "name": "stdout",
     "output_type": "stream",
     "text": [
      "\n",
      "Epoch 24:\n",
      " Train -> Loss=1.0965, Acc=0.6220, Prec=0.2125, Rec=0.2206, F1=0.1877, AUC=0.6906\n",
      " Val   -> Loss=1.0815, Acc=0.6280, Prec=0.3252, Rec=0.2338, F1=0.2111, AUC=0.7010\n",
      "Best model (AUC) saved with AUC = 0.7010\n",
      "Best model (Loss) saved with Loss = 1.0815\n"
     ]
    },
    {
     "name": "stderr",
     "output_type": "stream",
     "text": [
      "Epoch 25/60 [Train]: 100%|██████████| 393/393 [01:35<00:00,  4.13it/s]\n",
      "Epoch 25/60 [Val]: 100%|██████████| 84/84 [00:18<00:00,  4.63it/s]\n"
     ]
    },
    {
     "name": "stdout",
     "output_type": "stream",
     "text": [
      "\n",
      "Epoch 25:\n",
      " Train -> Loss=1.0937, Acc=0.6215, Prec=0.4268, Rec=0.2221, F1=0.1907, AUC=0.6931\n",
      " Val   -> Loss=1.0800, Acc=0.6291, Prec=0.2701, Rec=0.2351, F1=0.2092, AUC=0.7025\n",
      "Best model (AUC) saved with AUC = 0.7025\n",
      "Best model (Loss) saved with Loss = 1.0800\n"
     ]
    },
    {
     "name": "stderr",
     "output_type": "stream",
     "text": [
      "Epoch 26/60 [Train]: 100%|██████████| 393/393 [01:35<00:00,  4.12it/s]\n",
      "Epoch 26/60 [Val]: 100%|██████████| 84/84 [00:18<00:00,  4.45it/s]\n"
     ]
    },
    {
     "name": "stdout",
     "output_type": "stream",
     "text": [
      "\n",
      "Epoch 26:\n",
      " Train -> Loss=1.0911, Acc=0.6220, Prec=0.2263, Rec=0.2228, F1=0.1913, AUC=0.6935\n",
      " Val   -> Loss=1.0789, Acc=0.6280, Prec=0.4104, Rec=0.2325, F1=0.2090, AUC=0.7036\n",
      "Best model (AUC) saved with AUC = 0.7036\n",
      "Best model (Loss) saved with Loss = 1.0789\n"
     ]
    },
    {
     "name": "stderr",
     "output_type": "stream",
     "text": [
      "Epoch 27/60 [Train]: 100%|██████████| 393/393 [01:34<00:00,  4.15it/s]\n",
      "Epoch 27/60 [Val]: 100%|██████████| 84/84 [00:18<00:00,  4.66it/s]\n"
     ]
    },
    {
     "name": "stdout",
     "output_type": "stream",
     "text": [
      "\n",
      "Epoch 27:\n",
      " Train -> Loss=1.0878, Acc=0.6212, Prec=0.2195, Rec=0.2212, F1=0.1891, AUC=0.6970\n",
      " Val   -> Loss=1.0749, Acc=0.6287, Prec=0.2696, Rec=0.2356, F1=0.2098, AUC=0.7056\n",
      "Best model (AUC) saved with AUC = 0.7056\n",
      "Best model (Loss) saved with Loss = 1.0749\n"
     ]
    },
    {
     "name": "stderr",
     "output_type": "stream",
     "text": [
      "Epoch 28/60 [Train]: 100%|██████████| 393/393 [01:35<00:00,  4.12it/s]\n",
      "Epoch 28/60 [Val]: 100%|██████████| 84/84 [00:17<00:00,  4.73it/s]\n"
     ]
    },
    {
     "name": "stdout",
     "output_type": "stream",
     "text": [
      "\n",
      "Epoch 28:\n",
      " Train -> Loss=1.0853, Acc=0.6227, Prec=0.2321, Rec=0.2242, F1=0.1936, AUC=0.6978\n",
      " Val   -> Loss=1.0772, Acc=0.6306, Prec=0.2897, Rec=0.2418, F1=0.2181, AUC=0.7076\n",
      "Best model (AUC) saved with AUC = 0.7076\n",
      "Validation Loss 1.0772 did not reduced from 1.0749\n"
     ]
    },
    {
     "name": "stderr",
     "output_type": "stream",
     "text": [
      "Epoch 29/60 [Train]: 100%|██████████| 393/393 [01:36<00:00,  4.07it/s]\n",
      "Epoch 29/60 [Val]: 100%|██████████| 84/84 [00:18<00:00,  4.46it/s]\n"
     ]
    },
    {
     "name": "stdout",
     "output_type": "stream",
     "text": [
      "\n",
      "Epoch 29:\n",
      " Train -> Loss=1.0852, Acc=0.6219, Prec=0.3474, Rec=0.2234, F1=0.1920, AUC=0.6981\n",
      " Val   -> Loss=1.0735, Acc=0.6295, Prec=0.3408, Rec=0.2364, F1=0.2132, AUC=0.7073\n",
      "Validation AUC 0.7073 did not improve from 0.7076\n",
      "Best model (Loss) saved with Loss = 1.0735\n"
     ]
    },
    {
     "name": "stderr",
     "output_type": "stream",
     "text": [
      "Epoch 30/60 [Train]: 100%|██████████| 393/393 [01:37<00:00,  4.01it/s]\n",
      "Epoch 30/60 [Val]: 100%|██████████| 84/84 [00:19<00:00,  4.23it/s]\n"
     ]
    },
    {
     "name": "stdout",
     "output_type": "stream",
     "text": [
      "\n",
      "Epoch 30:\n",
      " Train -> Loss=1.0829, Acc=0.6228, Prec=0.2370, Rec=0.2241, F1=0.1932, AUC=0.6967\n",
      " Val   -> Loss=1.0685, Acc=0.6295, Prec=0.2921, Rec=0.2372, F1=0.2131, AUC=0.7092\n",
      "Best model (AUC) saved with AUC = 0.7092\n",
      "Best model (Loss) saved with Loss = 1.0685\n"
     ]
    },
    {
     "name": "stderr",
     "output_type": "stream",
     "text": [
      "Epoch 31/60 [Train]: 100%|██████████| 393/393 [01:34<00:00,  4.15it/s]\n",
      "Epoch 31/60 [Val]: 100%|██████████| 84/84 [00:19<00:00,  4.41it/s]\n"
     ]
    },
    {
     "name": "stdout",
     "output_type": "stream",
     "text": [
      "\n",
      "Epoch 31:\n",
      " Train -> Loss=1.0813, Acc=0.6231, Prec=0.2909, Rec=0.2266, F1=0.1975, AUC=0.7012\n",
      " Val   -> Loss=1.0675, Acc=0.6280, Prec=0.3295, Rec=0.2336, F1=0.2092, AUC=0.7096\n",
      "Best model (AUC) saved with AUC = 0.7096\n",
      "Best model (Loss) saved with Loss = 1.0675\n"
     ]
    },
    {
     "name": "stderr",
     "output_type": "stream",
     "text": [
      "Epoch 32/60 [Train]: 100%|██████████| 393/393 [01:35<00:00,  4.11it/s]\n",
      "Epoch 32/60 [Val]: 100%|██████████| 84/84 [00:18<00:00,  4.46it/s]\n"
     ]
    },
    {
     "name": "stdout",
     "output_type": "stream",
     "text": [
      "\n",
      "Epoch 32:\n",
      " Train -> Loss=1.0776, Acc=0.6237, Prec=0.2881, Rec=0.2260, F1=0.1964, AUC=0.7018\n",
      " Val   -> Loss=1.0660, Acc=0.6295, Prec=0.3240, Rec=0.2377, F1=0.2143, AUC=0.7113\n",
      "Best model (AUC) saved with AUC = 0.7113\n",
      "Best model (Loss) saved with Loss = 1.0660\n"
     ]
    },
    {
     "name": "stderr",
     "output_type": "stream",
     "text": [
      "Epoch 33/60 [Train]: 100%|██████████| 393/393 [01:35<00:00,  4.13it/s]\n",
      "Epoch 33/60 [Val]: 100%|██████████| 84/84 [00:17<00:00,  4.69it/s]\n"
     ]
    },
    {
     "name": "stdout",
     "output_type": "stream",
     "text": [
      "\n",
      "Epoch 33:\n",
      " Train -> Loss=1.0767, Acc=0.6237, Prec=0.3169, Rec=0.2276, F1=0.1987, AUC=0.7041\n",
      " Val   -> Loss=1.0680, Acc=0.6257, Prec=0.3299, Rec=0.2287, F1=0.2033, AUC=0.7103\n",
      "Validation AUC 0.7103 did not improve from 0.7113\n",
      "Validation Loss 1.0680 did not reduced from 1.0660\n"
     ]
    },
    {
     "name": "stderr",
     "output_type": "stream",
     "text": [
      "Epoch 34/60 [Train]: 100%|██████████| 393/393 [01:35<00:00,  4.10it/s]\n",
      "Epoch 34/60 [Val]: 100%|██████████| 84/84 [00:18<00:00,  4.50it/s]\n"
     ]
    },
    {
     "name": "stdout",
     "output_type": "stream",
     "text": [
      "\n",
      "Epoch 34:\n",
      " Train -> Loss=1.0759, Acc=0.6224, Prec=0.2737, Rec=0.2256, F1=0.1962, AUC=0.7035\n",
      " Val   -> Loss=1.0659, Acc=0.6283, Prec=0.2740, Rec=0.2338, F1=0.2092, AUC=0.7124\n",
      "Best model (AUC) saved with AUC = 0.7124\n",
      "Best model (Loss) saved with Loss = 1.0659\n"
     ]
    },
    {
     "name": "stderr",
     "output_type": "stream",
     "text": [
      "Epoch 35/60 [Train]: 100%|██████████| 393/393 [01:36<00:00,  4.07it/s]\n",
      "Epoch 35/60 [Val]: 100%|██████████| 84/84 [00:18<00:00,  4.48it/s]\n"
     ]
    },
    {
     "name": "stdout",
     "output_type": "stream",
     "text": [
      "\n",
      "Epoch 35:\n",
      " Train -> Loss=1.0752, Acc=0.6235, Prec=0.2859, Rec=0.2270, F1=0.1988, AUC=0.7057\n",
      " Val   -> Loss=1.0705, Acc=0.6313, Prec=0.2870, Rec=0.2457, F1=0.2218, AUC=0.7148\n",
      "Best model (AUC) saved with AUC = 0.7148\n",
      "Validation Loss 1.0705 did not reduced from 1.0659\n"
     ]
    },
    {
     "name": "stderr",
     "output_type": "stream",
     "text": [
      "Epoch 36/60 [Train]: 100%|██████████| 393/393 [01:34<00:00,  4.14it/s]\n",
      "Epoch 36/60 [Val]: 100%|██████████| 84/84 [00:18<00:00,  4.61it/s]\n"
     ]
    },
    {
     "name": "stdout",
     "output_type": "stream",
     "text": [
      "\n",
      "Epoch 36:\n",
      " Train -> Loss=1.0714, Acc=0.6248, Prec=0.3079, Rec=0.2298, F1=0.2017, AUC=0.7073\n",
      " Val   -> Loss=1.0602, Acc=0.6280, Prec=0.2747, Rec=0.2350, F1=0.2110, AUC=0.7144\n",
      "Validation AUC 0.7144 did not improve from 0.7148\n",
      "Best model (Loss) saved with Loss = 1.0602\n"
     ]
    },
    {
     "name": "stderr",
     "output_type": "stream",
     "text": [
      "Epoch 37/60 [Train]: 100%|██████████| 393/393 [01:37<00:00,  4.05it/s]\n",
      "Epoch 37/60 [Val]: 100%|██████████| 84/84 [00:19<00:00,  4.22it/s]\n"
     ]
    },
    {
     "name": "stdout",
     "output_type": "stream",
     "text": [
      "\n",
      "Epoch 37:\n",
      " Train -> Loss=1.0705, Acc=0.6249, Prec=0.3394, Rec=0.2318, F1=0.2062, AUC=0.7082\n",
      " Val   -> Loss=1.0592, Acc=0.6328, Prec=0.2901, Rec=0.2468, F1=0.2232, AUC=0.7165\n",
      "Best model (AUC) saved with AUC = 0.7165\n",
      "Best model (Loss) saved with Loss = 1.0592\n"
     ]
    },
    {
     "name": "stderr",
     "output_type": "stream",
     "text": [
      "Epoch 38/60 [Train]: 100%|██████████| 393/393 [01:37<00:00,  4.04it/s]\n",
      "Epoch 38/60 [Val]: 100%|██████████| 84/84 [00:18<00:00,  4.47it/s]\n"
     ]
    },
    {
     "name": "stdout",
     "output_type": "stream",
     "text": [
      "\n",
      "Epoch 38:\n",
      " Train -> Loss=1.0707, Acc=0.6250, Prec=0.3105, Rec=0.2311, F1=0.2038, AUC=0.7076\n",
      " Val   -> Loss=1.0646, Acc=0.6321, Prec=0.3225, Rec=0.2464, F1=0.2241, AUC=0.7161\n",
      "Validation AUC 0.7161 did not improve from 0.7165\n",
      "Validation Loss 1.0646 did not reduced from 1.0592\n"
     ]
    },
    {
     "name": "stderr",
     "output_type": "stream",
     "text": [
      "Epoch 39/60 [Train]: 100%|██████████| 393/393 [01:37<00:00,  4.02it/s]\n",
      "Epoch 39/60 [Val]: 100%|██████████| 84/84 [00:18<00:00,  4.60it/s]\n"
     ]
    },
    {
     "name": "stdout",
     "output_type": "stream",
     "text": [
      "\n",
      "Epoch 39:\n",
      " Train -> Loss=1.0697, Acc=0.6261, Prec=0.3348, Rec=0.2339, F1=0.2085, AUC=0.7092\n",
      " Val   -> Loss=1.0587, Acc=0.6295, Prec=0.3400, Rec=0.2454, F1=0.2298, AUC=0.7192\n",
      "Best model (AUC) saved with AUC = 0.7192\n",
      "Best model (Loss) saved with Loss = 1.0587\n"
     ]
    },
    {
     "name": "stderr",
     "output_type": "stream",
     "text": [
      "Epoch 40/60 [Train]: 100%|██████████| 393/393 [01:39<00:00,  3.94it/s]\n",
      "Epoch 40/60 [Val]: 100%|██████████| 84/84 [00:17<00:00,  4.69it/s]\n"
     ]
    },
    {
     "name": "stdout",
     "output_type": "stream",
     "text": [
      "\n",
      "Epoch 40:\n",
      " Train -> Loss=1.0672, Acc=0.6247, Prec=0.2824, Rec=0.2314, F1=0.2050, AUC=0.7096\n",
      " Val   -> Loss=1.0568, Acc=0.6298, Prec=0.3533, Rec=0.2365, F1=0.2138, AUC=0.7168\n",
      "Validation AUC 0.7168 did not improve from 0.7192\n",
      "Best model (Loss) saved with Loss = 1.0568\n"
     ]
    },
    {
     "name": "stderr",
     "output_type": "stream",
     "text": [
      "Epoch 41/60 [Train]: 100%|██████████| 393/393 [01:38<00:00,  4.00it/s]\n",
      "Epoch 41/60 [Val]: 100%|██████████| 84/84 [00:20<00:00,  4.18it/s]\n"
     ]
    },
    {
     "name": "stdout",
     "output_type": "stream",
     "text": [
      "\n",
      "Epoch 41:\n",
      " Train -> Loss=1.0680, Acc=0.6255, Prec=0.3096, Rec=0.2327, F1=0.2068, AUC=0.7104\n",
      " Val   -> Loss=1.0538, Acc=0.6317, Prec=0.2961, Rec=0.2416, F1=0.2186, AUC=0.7183\n",
      "Validation AUC 0.7183 did not improve from 0.7192\n",
      "Best model (Loss) saved with Loss = 1.0538\n"
     ]
    },
    {
     "name": "stderr",
     "output_type": "stream",
     "text": [
      "Epoch 42/60 [Train]: 100%|██████████| 393/393 [01:36<00:00,  4.09it/s]\n",
      "Epoch 42/60 [Val]: 100%|██████████| 84/84 [00:19<00:00,  4.36it/s]\n"
     ]
    },
    {
     "name": "stdout",
     "output_type": "stream",
     "text": [
      "\n",
      "Epoch 42:\n",
      " Train -> Loss=1.0663, Acc=0.6260, Prec=0.2899, Rec=0.2329, F1=0.2060, AUC=0.7117\n",
      " Val   -> Loss=1.0587, Acc=0.6343, Prec=0.3602, Rec=0.2490, F1=0.2265, AUC=0.7192\n",
      "Validation AUC 0.7192 did not improve from 0.7192\n",
      "Validation Loss 1.0587 did not reduced from 1.0538\n"
     ]
    },
    {
     "name": "stderr",
     "output_type": "stream",
     "text": [
      "Epoch 43/60 [Train]: 100%|██████████| 393/393 [01:38<00:00,  4.01it/s]\n",
      "Epoch 43/60 [Val]: 100%|██████████| 84/84 [00:18<00:00,  4.44it/s]\n"
     ]
    },
    {
     "name": "stdout",
     "output_type": "stream",
     "text": [
      "\n",
      "Epoch 43:\n",
      " Train -> Loss=1.0640, Acc=0.6266, Prec=0.3369, Rec=0.2351, F1=0.2096, AUC=0.7124\n",
      " Val   -> Loss=1.0544, Acc=0.6324, Prec=0.3759, Rec=0.2467, F1=0.2246, AUC=0.7211\n",
      "Best model (AUC) saved with AUC = 0.7211\n",
      "Validation Loss 1.0544 did not reduced from 1.0538\n"
     ]
    },
    {
     "name": "stderr",
     "output_type": "stream",
     "text": [
      "Epoch 44/60 [Train]: 100%|██████████| 393/393 [01:36<00:00,  4.07it/s]\n",
      "Epoch 44/60 [Val]: 100%|██████████| 84/84 [00:18<00:00,  4.56it/s]\n"
     ]
    },
    {
     "name": "stdout",
     "output_type": "stream",
     "text": [
      "\n",
      "Epoch 44:\n",
      " Train -> Loss=1.0631, Acc=0.6257, Prec=0.2981, Rec=0.2338, F1=0.2078, AUC=0.7126\n",
      " Val   -> Loss=1.0495, Acc=0.6321, Prec=0.2857, Rec=0.2485, F1=0.2306, AUC=0.7223\n",
      "Best model (AUC) saved with AUC = 0.7223\n",
      "Best model (Loss) saved with Loss = 1.0495\n"
     ]
    },
    {
     "name": "stderr",
     "output_type": "stream",
     "text": [
      "Epoch 45/60 [Train]: 100%|██████████| 393/393 [01:35<00:00,  4.12it/s]\n",
      "Epoch 45/60 [Val]: 100%|██████████| 84/84 [00:18<00:00,  4.62it/s]\n"
     ]
    },
    {
     "name": "stdout",
     "output_type": "stream",
     "text": [
      "\n",
      "Epoch 45:\n",
      " Train -> Loss=1.0628, Acc=0.6267, Prec=0.3272, Rec=0.2363, F1=0.2120, AUC=0.7139\n",
      " Val   -> Loss=1.0500, Acc=0.6328, Prec=0.3497, Rec=0.2461, F1=0.2233, AUC=0.7219\n",
      "Validation AUC 0.7219 did not improve from 0.7223\n",
      "Validation Loss 1.0500 did not reduced from 1.0495\n"
     ]
    },
    {
     "name": "stderr",
     "output_type": "stream",
     "text": [
      "Epoch 46/60 [Train]: 100%|██████████| 393/393 [01:39<00:00,  3.94it/s]\n",
      "Epoch 46/60 [Val]: 100%|██████████| 84/84 [00:20<00:00,  4.18it/s]\n"
     ]
    },
    {
     "name": "stdout",
     "output_type": "stream",
     "text": [
      "\n",
      "Epoch 46:\n",
      " Train -> Loss=1.0604, Acc=0.6267, Prec=0.2983, Rec=0.2358, F1=0.2099, AUC=0.7151\n",
      " Val   -> Loss=1.0497, Acc=0.6321, Prec=0.3222, Rec=0.2423, F1=0.2205, AUC=0.7219\n",
      "Validation AUC 0.7219 did not improve from 0.7223\n",
      "Validation Loss 1.0497 did not reduced from 1.0495\n"
     ]
    },
    {
     "name": "stderr",
     "output_type": "stream",
     "text": [
      "Epoch 47/60 [Train]: 100%|██████████| 393/393 [01:37<00:00,  4.03it/s]\n",
      "Epoch 47/60 [Val]: 100%|██████████| 84/84 [00:18<00:00,  4.65it/s]\n"
     ]
    },
    {
     "name": "stdout",
     "output_type": "stream",
     "text": [
      "\n",
      "Epoch 47:\n",
      " Train -> Loss=1.0603, Acc=0.6265, Prec=0.3207, Rec=0.2372, F1=0.2133, AUC=0.7157\n",
      " Val   -> Loss=1.0519, Acc=0.6313, Prec=0.3046, Rec=0.2418, F1=0.2216, AUC=0.7229\n",
      "Best model (AUC) saved with AUC = 0.7229\n",
      "Validation Loss 1.0519 did not reduced from 1.0495\n"
     ]
    },
    {
     "name": "stderr",
     "output_type": "stream",
     "text": [
      "Epoch 48/60 [Train]: 100%|██████████| 393/393 [01:36<00:00,  4.05it/s]\n",
      "Epoch 48/60 [Val]: 100%|██████████| 84/84 [00:20<00:00,  4.16it/s]\n"
     ]
    },
    {
     "name": "stdout",
     "output_type": "stream",
     "text": [
      "\n",
      "Epoch 48:\n",
      " Train -> Loss=1.0586, Acc=0.6268, Prec=0.3113, Rec=0.2364, F1=0.2125, AUC=0.7173\n",
      " Val   -> Loss=1.0512, Acc=0.6321, Prec=0.3144, Rec=0.2478, F1=0.2258, AUC=0.7239\n",
      "Best model (AUC) saved with AUC = 0.7239\n",
      "Validation Loss 1.0512 did not reduced from 1.0495\n"
     ]
    },
    {
     "name": "stderr",
     "output_type": "stream",
     "text": [
      "Epoch 49/60 [Train]: 100%|██████████| 393/393 [01:39<00:00,  3.93it/s]\n",
      "Epoch 49/60 [Val]: 100%|██████████| 84/84 [00:18<00:00,  4.66it/s]\n"
     ]
    },
    {
     "name": "stdout",
     "output_type": "stream",
     "text": [
      "\n",
      "Epoch 49:\n",
      " Train -> Loss=1.0585, Acc=0.6272, Prec=0.3060, Rec=0.2375, F1=0.2134, AUC=0.7163\n",
      " Val   -> Loss=1.0483, Acc=0.6324, Prec=0.3378, Rec=0.2448, F1=0.2219, AUC=0.7240\n",
      "Best model (AUC) saved with AUC = 0.7240\n",
      "Best model (Loss) saved with Loss = 1.0483\n"
     ]
    },
    {
     "name": "stderr",
     "output_type": "stream",
     "text": [
      "Epoch 50/60 [Train]: 100%|██████████| 393/393 [01:35<00:00,  4.12it/s]\n",
      "Epoch 50/60 [Val]: 100%|██████████| 84/84 [00:19<00:00,  4.24it/s]\n"
     ]
    },
    {
     "name": "stdout",
     "output_type": "stream",
     "text": [
      "\n",
      "Epoch 50:\n",
      " Train -> Loss=1.0591, Acc=0.6259, Prec=0.3032, Rec=0.2364, F1=0.2112, AUC=0.7162\n",
      " Val   -> Loss=1.0457, Acc=0.6328, Prec=0.3478, Rec=0.2503, F1=0.2323, AUC=0.7265\n",
      "Best model (AUC) saved with AUC = 0.7265\n",
      "Best model (Loss) saved with Loss = 1.0457\n"
     ]
    },
    {
     "name": "stderr",
     "output_type": "stream",
     "text": [
      "Epoch 51/60 [Train]: 100%|██████████| 393/393 [01:36<00:00,  4.08it/s]\n",
      "Epoch 51/60 [Val]: 100%|██████████| 84/84 [00:19<00:00,  4.25it/s]\n"
     ]
    },
    {
     "name": "stdout",
     "output_type": "stream",
     "text": [
      "\n",
      "Epoch 51:\n",
      " Train -> Loss=1.0593, Acc=0.6267, Prec=0.3073, Rec=0.2385, F1=0.2154, AUC=0.7157\n",
      " Val   -> Loss=1.0526, Acc=0.6350, Prec=0.4199, Rec=0.2599, F1=0.2368, AUC=0.7267\n",
      "Best model (AUC) saved with AUC = 0.7267\n",
      "Validation Loss 1.0526 did not reduced from 1.0457\n"
     ]
    },
    {
     "name": "stderr",
     "output_type": "stream",
     "text": [
      "Epoch 52/60 [Train]: 100%|██████████| 393/393 [01:39<00:00,  3.94it/s]\n",
      "Epoch 52/60 [Val]: 100%|██████████| 84/84 [00:19<00:00,  4.42it/s]\n"
     ]
    },
    {
     "name": "stdout",
     "output_type": "stream",
     "text": [
      "\n",
      "Epoch 52:\n",
      " Train -> Loss=1.0541, Acc=0.6265, Prec=0.2927, Rec=0.2365, F1=0.2107, AUC=0.7214\n",
      " Val   -> Loss=1.0573, Acc=0.6291, Prec=0.3006, Rec=0.2439, F1=0.2265, AUC=0.7248\n",
      "Validation AUC 0.7248 did not improve from 0.7267\n",
      "Validation Loss 1.0573 did not reduced from 1.0457\n"
     ]
    },
    {
     "name": "stderr",
     "output_type": "stream",
     "text": [
      "Epoch 53/60 [Train]: 100%|██████████| 393/393 [01:35<00:00,  4.13it/s]\n",
      "Epoch 53/60 [Val]: 100%|██████████| 84/84 [00:18<00:00,  4.59it/s]\n"
     ]
    },
    {
     "name": "stdout",
     "output_type": "stream",
     "text": [
      "\n",
      "Epoch 53:\n",
      " Train -> Loss=1.0553, Acc=0.6262, Prec=0.2782, Rec=0.2364, F1=0.2114, AUC=0.7206\n",
      " Val   -> Loss=1.0456, Acc=0.6321, Prec=0.2918, Rec=0.2454, F1=0.2220, AUC=0.7256\n",
      "Validation AUC 0.7256 did not improve from 0.7267\n",
      "Best model (Loss) saved with Loss = 1.0456\n"
     ]
    },
    {
     "name": "stderr",
     "output_type": "stream",
     "text": [
      "Epoch 54/60 [Train]: 100%|██████████| 393/393 [01:35<00:00,  4.10it/s]\n",
      "Epoch 54/60 [Val]: 100%|██████████| 84/84 [00:19<00:00,  4.23it/s]\n"
     ]
    },
    {
     "name": "stdout",
     "output_type": "stream",
     "text": [
      "\n",
      "Epoch 54:\n",
      " Train -> Loss=1.0533, Acc=0.6274, Prec=0.3275, Rec=0.2371, F1=0.2130, AUC=0.7213\n",
      " Val   -> Loss=1.0429, Acc=0.6313, Prec=0.2827, Rec=0.2438, F1=0.2246, AUC=0.7278\n",
      "Best model (AUC) saved with AUC = 0.7278\n",
      "Best model (Loss) saved with Loss = 1.0429\n"
     ]
    },
    {
     "name": "stderr",
     "output_type": "stream",
     "text": [
      "Epoch 55/60 [Train]: 100%|██████████| 393/393 [01:46<00:00,  3.68it/s]\n",
      "Epoch 55/60 [Val]: 100%|██████████| 84/84 [00:19<00:00,  4.24it/s]\n"
     ]
    },
    {
     "name": "stdout",
     "output_type": "stream",
     "text": [
      "\n",
      "Epoch 55:\n",
      " Train -> Loss=1.0541, Acc=0.6269, Prec=0.3116, Rec=0.2382, F1=0.2145, AUC=0.7191\n",
      " Val   -> Loss=1.0436, Acc=0.6313, Prec=0.3099, Rec=0.2500, F1=0.2345, AUC=0.7294\n",
      "Best model (AUC) saved with AUC = 0.7294\n",
      "Validation Loss 1.0436 did not reduced from 1.0429\n"
     ]
    },
    {
     "name": "stderr",
     "output_type": "stream",
     "text": [
      "Epoch 56/60 [Train]: 100%|██████████| 393/393 [01:47<00:00,  3.66it/s]\n",
      "Epoch 56/60 [Val]: 100%|██████████| 84/84 [00:20<00:00,  4.15it/s]\n"
     ]
    },
    {
     "name": "stdout",
     "output_type": "stream",
     "text": [
      "\n",
      "Epoch 56:\n",
      " Train -> Loss=1.0519, Acc=0.6271, Prec=0.3152, Rec=0.2400, F1=0.2178, AUC=0.7227\n",
      " Val   -> Loss=1.0497, Acc=0.6302, Prec=0.3738, Rec=0.2394, F1=0.2190, AUC=0.7273\n",
      "Validation AUC 0.7273 did not improve from 0.7294\n",
      "Validation Loss 1.0497 did not reduced from 1.0429\n"
     ]
    },
    {
     "name": "stderr",
     "output_type": "stream",
     "text": [
      "Epoch 57/60 [Train]: 100%|██████████| 393/393 [01:48<00:00,  3.61it/s]\n",
      "Epoch 57/60 [Val]: 100%|██████████| 84/84 [00:21<00:00,  3.82it/s]\n"
     ]
    },
    {
     "name": "stdout",
     "output_type": "stream",
     "text": [
      "\n",
      "Epoch 57:\n",
      " Train -> Loss=1.0513, Acc=0.6280, Prec=0.3093, Rec=0.2391, F1=0.2150, AUC=0.7240\n",
      " Val   -> Loss=1.0452, Acc=0.6343, Prec=0.3837, Rec=0.2599, F1=0.2413, AUC=0.7314\n",
      "Best model (AUC) saved with AUC = 0.7314\n",
      "Validation Loss 1.0452 did not reduced from 1.0429\n"
     ]
    },
    {
     "name": "stderr",
     "output_type": "stream",
     "text": [
      "Epoch 58/60 [Train]: 100%|██████████| 393/393 [01:47<00:00,  3.66it/s]\n",
      "Epoch 58/60 [Val]: 100%|██████████| 84/84 [00:23<00:00,  3.61it/s]\n"
     ]
    },
    {
     "name": "stdout",
     "output_type": "stream",
     "text": [
      "\n",
      "Epoch 58:\n",
      " Train -> Loss=1.0522, Acc=0.6282, Prec=0.3255, Rec=0.2409, F1=0.2190, AUC=0.7221\n",
      " Val   -> Loss=1.0414, Acc=0.6310, Prec=0.3299, Rec=0.2398, F1=0.2193, AUC=0.7293\n",
      "Validation AUC 0.7293 did not improve from 0.7314\n",
      "Best model (Loss) saved with Loss = 1.0414\n"
     ]
    },
    {
     "name": "stderr",
     "output_type": "stream",
     "text": [
      "Epoch 59/60 [Train]: 100%|██████████| 393/393 [01:53<00:00,  3.47it/s]\n",
      "Epoch 59/60 [Val]: 100%|██████████| 84/84 [00:22<00:00,  3.68it/s]\n"
     ]
    },
    {
     "name": "stdout",
     "output_type": "stream",
     "text": [
      "\n",
      "Epoch 59:\n",
      " Train -> Loss=1.0501, Acc=0.6286, Prec=0.3126, Rec=0.2407, F1=0.2175, AUC=0.7232\n",
      " Val   -> Loss=1.0549, Acc=0.6295, Prec=0.4233, Rec=0.2389, F1=0.2199, AUC=0.7264\n",
      "Validation AUC 0.7264 did not improve from 0.7314\n",
      "Validation Loss 1.0549 did not reduced from 1.0414\n"
     ]
    },
    {
     "name": "stderr",
     "output_type": "stream",
     "text": [
      "Epoch 60/60 [Train]: 100%|██████████| 393/393 [01:51<00:00,  3.51it/s]\n",
      "Epoch 60/60 [Val]: 100%|██████████| 84/84 [00:23<00:00,  3.58it/s]"
     ]
    },
    {
     "name": "stdout",
     "output_type": "stream",
     "text": [
      "\n",
      "Epoch 60:\n",
      " Train -> Loss=1.0496, Acc=0.6290, Prec=0.3322, Rec=0.2415, F1=0.2188, AUC=0.7249\n",
      " Val   -> Loss=1.0412, Acc=0.6358, Prec=0.3562, Rec=0.2534, F1=0.2364, AUC=0.7308\n",
      "Validation AUC 0.7308 did not improve from 0.7314\n",
      "Best model (Loss) saved with Loss = 1.0412\n"
     ]
    },
    {
     "name": "stderr",
     "output_type": "stream",
     "text": [
      "\n"
     ]
    }
   ],
   "source": [
    "best_val_loss = np.inf\n",
    "best_val_auc = -np.inf\n",
    "patience_counter = 0\n",
    "\n",
    "# For tracking\n",
    "history = {\n",
    "    \"train_loss\": [], \"val_loss\": [],\n",
    "    \"train_acc\": [], \"val_acc\": [],\n",
    "    \"train_prec\": [], \"val_prec\": [],\n",
    "    \"train_rec\": [], \"val_rec\": [],\n",
    "    \"train_f1\": [], \"val_f1\": [],\n",
    "    \"train_auc\": [], \"val_auc\": []\n",
    "}\n",
    "\n",
    "# Adding SEED \n",
    "SEED = 42\n",
    "np.random.seed(SEED)\n",
    "torch.manual_seed(SEED)\n",
    "torch.cuda.manual_seed(SEED)\n",
    "torch.backends.cudnn.deterministic = True\n",
    "torch.backends.cudnn.benchmark = False\n",
    "\n",
    "# =====================\n",
    "# TRAINING LOOP\n",
    "# =====================\n",
    "for epoch in range(config[\"epochs\"]):\n",
    "    # -------- TRAIN --------\n",
    "    model.train()\n",
    "    train_loss, train_preds, train_labels, train_probs = 0, [], [], []\n",
    "    for images, labels in tqdm(train_loader, desc=f\"Epoch {epoch+1}/{config['epochs']} [Train]\"):\n",
    "        images, labels = images.to(device), labels.to(device)\n",
    "        optimizer.zero_grad()\n",
    "        preds = model(images)\n",
    "        loss = criterion(preds, labels)\n",
    "        loss.backward()\n",
    "        optimizer.step()\n",
    "        train_loss += loss.item()\n",
    "        probs = torch.softmax(preds, dim=1)\n",
    "        train_preds.extend(torch.argmax(preds, 1).cpu().numpy())\n",
    "        train_labels.extend(labels.cpu().numpy())\n",
    "        train_probs.extend(probs.cpu().detach().numpy())\n",
    "\n",
    "    train_loss /= len(train_loader)\n",
    "    train_acc, train_prec, train_rec, train_f1, train_auc = compute_metrics(\n",
    "        train_labels, train_preds, train_probs\n",
    "    )\n",
    "\n",
    "    # -------- VALIDATION --------\n",
    "    model.eval()\n",
    "    val_loss, val_preds, val_labels, val_probs = 0, [], [], []\n",
    "    with torch.no_grad():\n",
    "        for images, labels in tqdm(val_loader, desc=f\"Epoch {epoch+1}/{config['epochs']} [Val]\"):\n",
    "            images, labels = images.to(device), labels.to(device)\n",
    "            preds = model(images)\n",
    "            loss = criterion(preds, labels)\n",
    "            val_loss += loss.item()\n",
    "            probs = torch.softmax(preds, dim=1)\n",
    "            val_preds.extend(torch.argmax(preds, 1).cpu().numpy())\n",
    "            val_labels.extend(labels.cpu().numpy())\n",
    "            val_probs.extend(probs.cpu().numpy())\n",
    "\n",
    "    val_loss /= len(val_loader)\n",
    "    val_acc, val_prec, val_rec, val_f1, val_auc = compute_metrics(\n",
    "        val_labels, val_preds, val_probs\n",
    "    )\n",
    "\n",
    "    # Save history\n",
    "    history[\"train_loss\"].append(train_loss)\n",
    "    history[\"val_loss\"].append(val_loss)\n",
    "    history[\"train_acc\"].append(train_acc)\n",
    "    history[\"val_acc\"].append(val_acc)\n",
    "    history[\"train_prec\"].append(train_prec)\n",
    "    history[\"val_prec\"].append(val_prec)\n",
    "    history[\"train_rec\"].append(train_rec)\n",
    "    history[\"val_rec\"].append(val_rec)\n",
    "    history[\"train_f1\"].append(train_f1)\n",
    "    history[\"val_f1\"].append(val_f1)\n",
    "    history[\"train_auc\"].append(train_auc)\n",
    "    history[\"val_auc\"].append(val_auc)\n",
    "\n",
    "    # Print results like your screenshot\n",
    "    print(f\"\\nEpoch {epoch+1}:\")\n",
    "    print(f\" Train -> Loss={train_loss:.4f}, Acc={train_acc:.4f}, Prec={train_prec:.4f}, \"\n",
    "          f\"Rec={train_rec:.4f}, F1={train_f1:.4f}, AUC={train_auc:.4f}\")\n",
    "    print(f\" Val   -> Loss={val_loss:.4f}, Acc={val_acc:.4f}, Prec={val_prec:.4f}, \"\n",
    "          f\"Rec={val_rec:.4f}, F1={val_f1:.4f}, AUC={val_auc:.4f}\")\n",
    "\n",
    "    # Save best model based on AUC\n",
    "    if val_auc > best_val_auc:\n",
    "        best_val_auc = val_auc\n",
    "        patience_counter = 0\n",
    "        torch.save(model.state_dict(), config[\"model_path_auc\"])\n",
    "        print(f\"Best model (AUC) saved with AUC = {best_val_auc:.4f}\")\n",
    "    else:\n",
    "        print(f\"Validation AUC {val_auc:.4f} did not improve from {best_val_auc:.4f}\")\n",
    "\n",
    "    # Save best model based on Loss\n",
    "    if val_loss < best_val_loss:\n",
    "        best_val_loss = val_loss\n",
    "        torch.save(model.state_dict(), config[\"model_path_loss\"])\n",
    "        print(f\"Best model (Loss) saved with Loss = {best_val_loss:.4f}\")\n",
    "    else:\n",
    "        print(f\"Validation Loss {val_loss:.4f} did not reduced from {best_val_loss:.4f}\")\n",
    "\n",
    "    # Early stopping (based on AUC)\n",
    "    if val_auc <= best_val_auc:\n",
    "        patience_counter += 1\n",
    "        if patience_counter >= config[\"early_stopping_patience\"]:\n",
    "            print(\"Early stopping triggered!\")\n",
    "            break\n"
   ]
  },
  {
   "cell_type": "markdown",
   "id": "980e0d65",
   "metadata": {},
   "source": [
    "# Testing and Plotting"
   ]
  },
  {
   "cell_type": "code",
   "execution_count": 7,
   "id": "82fd5336",
   "metadata": {},
   "outputs": [
    {
     "name": "stdout",
     "output_type": "stream",
     "text": [
      "\n",
      "=== Test Results ===\n",
      " Loss=1.0589, Acc=0.6261, Prec=0.2732, Rec=0.2453, F1=0.2231, AUC=0.7275, Spec=0.8196\n"
     ]
    },
    {
     "data": {
      "image/png": "[encoded data removed]",
      "text/plain": [
       "<Figure size 1200x400 with 3 Axes>"
      ]
     },
     "metadata": {},
     "output_type": "display_data"
    }
   ],
   "source": [
    "# =====================\n",
    "# TESTING\n",
    "# =====================\n",
    "model.load_state_dict(torch.load(config[\"model_path_auc\"]))\n",
    "model.eval()\n",
    "test_loss, test_preds, test_labels, test_probs = 0, [], [], []\n",
    "with torch.no_grad():\n",
    "    for images, labels in test_loader:\n",
    "        images, labels = images.to(device), labels.to(device)\n",
    "        preds = model(images)\n",
    "        loss = criterion(preds, labels)\n",
    "        test_loss += loss.item()\n",
    "        probs = torch.softmax(preds, dim=1)\n",
    "        test_preds.extend(torch.argmax(preds, 1).cpu().numpy())\n",
    "        test_labels.extend(labels.cpu().numpy())\n",
    "        test_probs.extend(probs.cpu().numpy())\n",
    "\n",
    "test_loss /= len(test_loader)\n",
    "test_acc, test_prec, test_rec, test_f1, test_auc = compute_metrics(test_labels, test_preds, test_probs)\n",
    "\n",
    "# Specificity (macro-averaged)\n",
    "cm = confusion_matrix(test_labels, test_preds)\n",
    "tn = cm.sum() - (cm.sum(axis=1) + cm.sum(axis=0) - np.diag(cm))\n",
    "fp = cm.sum(axis=0) - np.diag(cm)\n",
    "specificity = np.mean(tn / (tn + fp + 1e-8))\n",
    "\n",
    "print(\"\\n=== Test Results ===\")\n",
    "print(f\" Loss={test_loss:.4f}, Acc={test_acc:.4f}, Prec={test_prec:.4f}, \"\n",
    "      f\"Rec={test_rec:.4f}, F1={test_f1:.4f}, AUC={test_auc:.4f}, Spec={specificity:.4f}\")\n",
    "\n",
    "# Confusion matrix plot\n",
    "plt.figure(figsize=(8, 6))\n",
    "sns.heatmap(cm, annot=True, fmt=\"d\", cmap=\"Blues\",\n",
    "            xticklabels=test_data.classes, yticklabels=test_data.classes)\n",
    "plt.xlabel(\"Predicted\")\n",
    "plt.ylabel(\"True\")\n",
    "plt.title(\"Confusion Matrix\")\n",
    "plt.tight_layout()\n",
    "plt.savefig(\"confusion_matrix.png\")\n",
    "plt.close()\n",
    "\n",
    "# =====================\n",
    "# FINAL SUMMARY PLOT\n",
    "# =====================\n",
    "plt.figure(figsize=(12, 4))\n",
    "plt.subplot(1, 3, 1)\n",
    "plt.plot(history[\"train_loss\"], label=\"Train\")\n",
    "plt.plot(history[\"val_loss\"], label=\"Val\")\n",
    "plt.title(\"Loss\")\n",
    "plt.legend()\n",
    "\n",
    "plt.subplot(1, 3, 2)\n",
    "plt.plot(history[\"train_acc\"], label=\"Train\")\n",
    "plt.plot(history[\"val_acc\"], label=\"Val\")\n",
    "plt.title(\"Accuracy\")\n",
    "plt.legend()\n",
    "\n",
    "plt.subplot(1, 3, 3)\n",
    "plt.plot(history[\"train_auc\"], label=\"Train\")\n",
    "plt.plot(history[\"val_auc\"], label=\"Val\")\n",
    "plt.title(\"AUC\")\n",
    "plt.legend()\n",
    "\n",
    "plt.tight_layout()\n",
    "plt.savefig(\"summary.png\")\n",
    "plt.show()"
   ]
  },
  {
   "cell_type": "markdown",
   "id": "02849eed",
   "metadata": {},
   "source": []
  }
 ],
 "metadata": {
  "kernelspec": {
   "display_name": "Capstone",
   "language": "python",
   "name": "python3"
  },
  "language_info": {
   "codemirror_mode": {
    "name": "ipython",
    "version": 3
   },
   "file_extension": ".py",
   "mimetype": "text/x-python",
   "name": "python",
   "nbconvert_exporter": "python",
   "pygments_lexer": "ipython3",
   "version": "3.13.5"
  }
 },
 "nbformat": 4,
 "nbformat_minor": 5
}

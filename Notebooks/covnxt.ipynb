{
 "cells": [
  {
   "cell_type": "markdown",
   "id": "c766a7f9",
   "metadata": {},
   "source": [
    "# Imports"
   ]
  },
  {
   "cell_type": "code",
   "execution_count": 1,
   "id": "681f8ed6",
   "metadata": {},
   "outputs": [],
   "source": [
    "import torch\n",
    "import os\n",
    "import torch.nn as nn\n",
    "import torch.optim as optim\n",
    "from torch.utils.data import DataLoader\n",
    "from torchvision import datasets, transforms, models\n",
    "from sklearn.metrics import (\n",
    "    accuracy_score, precision_score, recall_score, f1_score,\n",
    "    roc_auc_score, confusion_matrix\n",
    ")\n",
    "import numpy as np\n",
    "from tqdm import tqdm\n",
    "import matplotlib.pyplot as plt\n",
    "import seaborn as sns"
   ]
  },
  {
   "cell_type": "markdown",
   "id": "b9233b61",
   "metadata": {},
   "source": [
    "# Configuration's"
   ]
  },
  {
   "cell_type": "code",
   "execution_count": 2,
   "id": "b527d142",
   "metadata": {},
   "outputs": [
    {
     "name": "stdout",
     "output_type": "stream",
     "text": [
      "Models will be saved in: models\\convnext\\best_auc.pth\n",
      "Models will be saved in: models\\convnext\\best_loss.pth\n"
     ]
    }
   ],
   "source": [
    "# =====================\n",
    "# CONFIGURATION\n",
    "# =====================\n",
    "config = {\n",
    "    \"model\": \"convnext\",   # Options: mobilenetv2, convnext, dct, stft, wavelet, learnable_freq\n",
    "    \"epochs\": 60,\n",
    "    \"batch_size\": 32,\n",
    "    \"lr\": 1e-3,\n",
    "    \"early_stopping_patience\": 7,\n",
    "    \"dropout\": 0.4,\n",
    "    \"num_classes\": 5,  # update based on dataset\n",
    "    \"train_dir\": r\"F:\\final project\\Capstone Prj\\Dataset\\dataset_split\\train\",\n",
    "    \"val_dir\": r\"F:\\final project\\Capstone Prj\\Dataset\\dataset_split\\val\",\n",
    "    \"test_dir\": r\"F:\\final project\\Capstone Prj\\Dataset\\dataset_split\\test\",\n",
    "}\n",
    "config[\"save_dir\"] = os.path.join(\"models\", config[\"model\"])\n",
    "os.makedirs(config[\"save_dir\"], exist_ok=True)\n",
    "\n",
    "config[\"model_path_auc\"] = os.path.join(config[\"save_dir\"], \"best_auc.pth\")\n",
    "config[\"model_path_loss\"] = os.path.join(config[\"save_dir\"], \"best_loss.pth\")\n",
    "print(f\"Models will be saved in: {config['model_path_auc']}\")\n",
    "print(f\"Models will be saved in: {config['model_path_loss']}\")"
   ]
  },
  {
   "cell_type": "markdown",
   "id": "1b6929d1",
   "metadata": {},
   "source": [
    "# Transformation and DataLoader"
   ]
  },
  {
   "cell_type": "code",
   "execution_count": 3,
   "id": "01428321",
   "metadata": {},
   "outputs": [
    {
     "name": "stdout",
     "output_type": "stream",
     "text": [
      "Using device: cuda - NVIDIA GeForce RTX 3050 Laptop GPU\n"
     ]
    }
   ],
   "source": [
    "# =====================\n",
    "# DATA PIPELINE\n",
    "# =====================\n",
    "transform = transforms.Compose([\n",
    "    transforms.Resize((224, 224)),\n",
    "    transforms.ToTensor(),\n",
    "])\n",
    "\n",
    "train_data = datasets.ImageFolder(config[\"train_dir\"], transform=transform)\n",
    "val_data = datasets.ImageFolder(config[\"val_dir\"], transform=transform)\n",
    "test_data = datasets.ImageFolder(config[\"test_dir\"], transform=transform)\n",
    "\n",
    "train_loader = DataLoader(train_data, batch_size=config[\"batch_size\"], shuffle=True)\n",
    "val_loader = DataLoader(val_data, batch_size=config[\"batch_size\"], shuffle=False)\n",
    "test_loader = DataLoader(test_data, batch_size=config[\"batch_size\"], shuffle=False)\n",
    "\n",
    "# =====================\n",
    "# DEVICE\n",
    "# =====================\n",
    "device = torch.device(\"cuda\" if torch.cuda.is_available() else \"cpu\")\n",
    "print(f\"Using device: {device}\" + (f\" - {torch.cuda.get_device_name(0)}\" if torch.cuda.is_available() else \"\"))"
   ]
  },
  {
   "cell_type": "markdown",
   "id": "672ecd6e",
   "metadata": {},
   "source": [
    "# Model Builder"
   ]
  },
  {
   "cell_type": "code",
   "execution_count": 4,
   "id": "768c607b",
   "metadata": {},
   "outputs": [],
   "source": [
    "# =====================\n",
    "# MODEL BUILDER\n",
    "# =====================\n",
    "class ClassifierHead(nn.Module):\n",
    "    def __init__(self, in_features, num_classes, dropout=0.5):\n",
    "        super().__init__()\n",
    "        self.fc = nn.Sequential(\n",
    "            nn.BatchNorm1d(in_features),\n",
    "            nn.Dropout(dropout),\n",
    "            nn.Linear(in_features, num_classes)\n",
    "        )\n",
    "    def forward(self, x):\n",
    "        return self.fc(x)\n",
    "\n",
    "def build_model(config):\n",
    "    if config[\"model\"] == \"mobilenetv2\":\n",
    "        base = models.mobilenet_v2(weights=\"IMAGENET1K_V1\")\n",
    "        in_features = base.classifier[1].in_features\n",
    "        base.classifier = ClassifierHead(in_features, config[\"num_classes\"], config[\"dropout\"])\n",
    "        return base\n",
    "\n",
    "    elif config[\"model\"] == \"convnext\":\n",
    "        base = models.convnext_tiny(weights=\"IMAGENET1K_V1\")\n",
    "        in_features = base.classifier[2].in_features\n",
    "        base.classifier[2] = nn.Linear(in_features, config[\"num_classes\"])\n",
    "        return base\n",
    "\n",
    "    elif config[\"model\"] == \"dct\":\n",
    "        return nn.Sequential(\n",
    "            nn.Flatten(),\n",
    "            nn.Linear(224*224*3, 512),\n",
    "            nn.ReLU(),\n",
    "            nn.Dropout(config[\"dropout\"]),\n",
    "            nn.Linear(512, config[\"num_classes\"])\n",
    "        )\n",
    "\n",
    "    elif config[\"model\"] == \"stft\":\n",
    "        return nn.Sequential(\n",
    "            nn.Conv2d(3, 16, 3, padding=1),\n",
    "            nn.ReLU(),\n",
    "            nn.AdaptiveAvgPool2d((1, 1)),\n",
    "            nn.Flatten(),\n",
    "            nn.Linear(16, config[\"num_classes\"])\n",
    "        )\n",
    "\n",
    "    elif config[\"model\"] == \"wavelet\":\n",
    "        return nn.Sequential(\n",
    "            nn.Conv2d(3, 32, 3, padding=1),\n",
    "            nn.ReLU(),\n",
    "            nn.AdaptiveAvgPool2d((1, 1)),\n",
    "            nn.Flatten(),\n",
    "            nn.Linear(32, config[\"num_classes\"])\n",
    "        )\n",
    "\n",
    "    elif config[\"model\"] == \"learnable_freq\":\n",
    "        return nn.Sequential(\n",
    "            nn.Conv2d(3, 32, 3, stride=1, padding=1),\n",
    "            nn.ReLU(),\n",
    "            nn.AdaptiveAvgPool2d((1, 1)),\n",
    "            nn.Flatten(),\n",
    "            nn.Linear(32, config[\"num_classes\"])\n",
    "        )\n",
    "\n",
    "    else:\n",
    "        raise ValueError(f\"Unknown model type: {config['model']}\")\n",
    "\n",
    "model = build_model(config).to(device)\n",
    "\n",
    "# =====================\n",
    "# TRAINING SETUP\n",
    "# =====================\n",
    "criterion = nn.CrossEntropyLoss()\n",
    "optimizer = optim.Adam(model.parameters(), lr=config[\"lr\"])\n",
    "scheduler = optim.lr_scheduler.ReduceLROnPlateau(optimizer, patience=2, factor=0.5)"
   ]
  },
  {
   "cell_type": "markdown",
   "id": "3b366fd0",
   "metadata": {},
   "source": [
    "# Helper Function's"
   ]
  },
  {
   "cell_type": "code",
   "execution_count": 5,
   "id": "ff890ff4",
   "metadata": {},
   "outputs": [],
   "source": [
    "# =====================\n",
    "# HELPER FUNCTIONS\n",
    "# =====================\n",
    "def compute_metrics(y_true, y_pred, y_prob, average=\"macro\"):\n",
    "    acc = accuracy_score(y_true, y_pred)\n",
    "    prec = precision_score(y_true, y_pred, average=average, zero_division=0)\n",
    "    rec = recall_score(y_true, y_pred, average=average, zero_division=0)\n",
    "    f1 = f1_score(y_true, y_pred, average=average, zero_division=0)\n",
    "    try:\n",
    "        auc = roc_auc_score(y_true, y_prob, multi_class=\"ovr\")\n",
    "    except:\n",
    "        auc = 0.0\n",
    "    return acc, prec, rec, f1, auc"
   ]
  },
  {
   "cell_type": "markdown",
   "id": "12462023",
   "metadata": {},
   "source": [
    "# Training and Validation"
   ]
  },
  {
   "cell_type": "code",
   "execution_count": 6,
   "id": "d5e202c8",
   "metadata": {},
   "outputs": [
    {
     "name": "stderr",
     "output_type": "stream",
     "text": [
      "Epoch 1/60 [Train]: 100%|██████████| 393/393 [25:44<00:00,  3.93s/it]\n",
      "Epoch 1/60 [Val]: 100%|██████████| 84/84 [00:27<00:00,  3.03it/s]\n"
     ]
    },
    {
     "name": "stdout",
     "output_type": "stream",
     "text": [
      "\n",
      "Epoch 1:\n",
      " Train -> Loss=1.1991, Acc=0.6137, Prec=0.1946, Rec=0.2002, F1=0.1536, AUC=0.4979\n",
      " Val   -> Loss=1.1868, Acc=0.6153, Prec=0.1231, Rec=0.2000, F1=0.1524, AUC=0.6438\n",
      "Best model (AUC) saved with AUC = 0.6438\n",
      "Best model (Loss) saved with Loss = 1.1868\n"
     ]
    },
    {
     "name": "stderr",
     "output_type": "stream",
     "text": [
      "Epoch 2/60 [Train]: 100%|██████████| 393/393 [25:40<00:00,  3.92s/it]\n",
      "Epoch 2/60 [Val]: 100%|██████████| 84/84 [00:27<00:00,  3.04it/s]\n"
     ]
    },
    {
     "name": "stdout",
     "output_type": "stream",
     "text": [
      "\n",
      "Epoch 2:\n",
      " Train -> Loss=1.1905, Acc=0.6148, Prec=0.2030, Rec=0.2003, F1=0.1529, AUC=0.4956\n",
      " Val   -> Loss=1.1841, Acc=0.6153, Prec=0.1231, Rec=0.2000, F1=0.1524, AUC=0.6604\n",
      "Best model (AUC) saved with AUC = 0.6604\n",
      "Best model (Loss) saved with Loss = 1.1841\n"
     ]
    },
    {
     "name": "stderr",
     "output_type": "stream",
     "text": [
      "Epoch 3/60 [Train]: 100%|██████████| 393/393 [25:39<00:00,  3.92s/it]\n",
      "Epoch 3/60 [Val]: 100%|██████████| 84/84 [00:27<00:00,  3.08it/s]\n"
     ]
    },
    {
     "name": "stdout",
     "output_type": "stream",
     "text": [
      "\n",
      "Epoch 3:\n",
      " Train -> Loss=1.1897, Acc=0.6147, Prec=0.1230, Rec=0.2000, F1=0.1523, AUC=0.5010\n",
      " Val   -> Loss=1.1884, Acc=0.6153, Prec=0.1231, Rec=0.2000, F1=0.1524, AUC=0.5931\n",
      "Validation AUC 0.5931 did not improve from 0.6604\n",
      "Validation Loss 1.1884 did not reduced from 1.1841\n"
     ]
    },
    {
     "name": "stderr",
     "output_type": "stream",
     "text": [
      "Epoch 4/60 [Train]: 100%|██████████| 393/393 [25:27<00:00,  3.89s/it]\n",
      "Epoch 4/60 [Val]: 100%|██████████| 84/84 [00:25<00:00,  3.33it/s]\n"
     ]
    },
    {
     "name": "stdout",
     "output_type": "stream",
     "text": [
      "\n",
      "Epoch 4:\n",
      " Train -> Loss=1.1881, Acc=0.6148, Prec=0.1230, Rec=0.2000, F1=0.1523, AUC=0.5024\n",
      " Val   -> Loss=1.1835, Acc=0.6153, Prec=0.1231, Rec=0.2000, F1=0.1524, AUC=0.5427\n",
      "Validation AUC 0.5427 did not improve from 0.6604\n",
      "Best model (Loss) saved with Loss = 1.1835\n"
     ]
    },
    {
     "name": "stderr",
     "output_type": "stream",
     "text": [
      "Epoch 5/60 [Train]: 100%|██████████| 393/393 [25:29<00:00,  3.89s/it]\n",
      "Epoch 5/60 [Val]: 100%|██████████| 84/84 [00:27<00:00,  3.03it/s]\n"
     ]
    },
    {
     "name": "stdout",
     "output_type": "stream",
     "text": [
      "\n",
      "Epoch 5:\n",
      " Train -> Loss=1.1871, Acc=0.6148, Prec=0.1230, Rec=0.2000, F1=0.1523, AUC=0.5056\n",
      " Val   -> Loss=1.1906, Acc=0.6153, Prec=0.1231, Rec=0.2000, F1=0.1524, AUC=0.5592\n",
      "Validation AUC 0.5592 did not improve from 0.6604\n",
      "Validation Loss 1.1906 did not reduced from 1.1835\n"
     ]
    },
    {
     "name": "stderr",
     "output_type": "stream",
     "text": [
      "Epoch 6/60 [Train]: 100%|██████████| 393/393 [25:53<00:00,  3.95s/it]\n",
      "Epoch 6/60 [Val]: 100%|██████████| 84/84 [00:34<00:00,  2.43it/s]\n"
     ]
    },
    {
     "name": "stdout",
     "output_type": "stream",
     "text": [
      "\n",
      "Epoch 6:\n",
      " Train -> Loss=1.1873, Acc=0.6148, Prec=0.1230, Rec=0.2000, F1=0.1523, AUC=0.4974\n",
      " Val   -> Loss=1.1836, Acc=0.6153, Prec=0.1231, Rec=0.2000, F1=0.1524, AUC=0.5526\n",
      "Validation AUC 0.5526 did not improve from 0.6604\n",
      "Validation Loss 1.1836 did not reduced from 1.1835\n"
     ]
    },
    {
     "name": "stderr",
     "output_type": "stream",
     "text": [
      "Epoch 7/60 [Train]: 100%|██████████| 393/393 [25:50<00:00,  3.94s/it]\n",
      "Epoch 7/60 [Val]: 100%|██████████| 84/84 [00:24<00:00,  3.38it/s]\n"
     ]
    },
    {
     "name": "stdout",
     "output_type": "stream",
     "text": [
      "\n",
      "Epoch 7:\n",
      " Train -> Loss=1.1865, Acc=0.6148, Prec=0.1230, Rec=0.2000, F1=0.1523, AUC=0.4981\n",
      " Val   -> Loss=1.1880, Acc=0.6153, Prec=0.1231, Rec=0.2000, F1=0.1524, AUC=0.5162\n",
      "Validation AUC 0.5162 did not improve from 0.6604\n",
      "Validation Loss 1.1880 did not reduced from 1.1835\n"
     ]
    },
    {
     "name": "stderr",
     "output_type": "stream",
     "text": [
      "Epoch 8/60 [Train]: 100%|██████████| 393/393 [25:23<00:00,  3.88s/it]\n",
      "Epoch 8/60 [Val]: 100%|██████████| 84/84 [00:24<00:00,  3.42it/s]"
     ]
    },
    {
     "name": "stdout",
     "output_type": "stream",
     "text": [
      "\n",
      "Epoch 8:\n",
      " Train -> Loss=1.1859, Acc=0.6148, Prec=0.1230, Rec=0.2000, F1=0.1523, AUC=0.5029\n",
      " Val   -> Loss=1.1842, Acc=0.6153, Prec=0.1231, Rec=0.2000, F1=0.1524, AUC=0.5487\n",
      "Validation AUC 0.5487 did not improve from 0.6604\n",
      "Validation Loss 1.1842 did not reduced from 1.1835\n",
      "Early stopping triggered!\n"
     ]
    },
    {
     "name": "stderr",
     "output_type": "stream",
     "text": [
      "\n"
     ]
    }
   ],
   "source": [
    "best_val_loss = np.inf\n",
    "best_val_auc = -np.inf\n",
    "patience_counter = 0\n",
    "\n",
    "# For tracking\n",
    "history = {\n",
    "    \"train_loss\": [], \"val_loss\": [],\n",
    "    \"train_acc\": [], \"val_acc\": [],\n",
    "    \"train_prec\": [], \"val_prec\": [],\n",
    "    \"train_rec\": [], \"val_rec\": [],\n",
    "    \"train_f1\": [], \"val_f1\": [],\n",
    "    \"train_auc\": [], \"val_auc\": []\n",
    "}\n",
    "\n",
    "# Adding SEED \n",
    "SEED = 42\n",
    "np.random.seed(SEED)\n",
    "torch.manual_seed(SEED)\n",
    "torch.cuda.manual_seed(SEED)\n",
    "torch.backends.cudnn.deterministic = True\n",
    "torch.backends.cudnn.benchmark = False\n",
    "\n",
    "# =====================\n",
    "# TRAINING LOOP\n",
    "# =====================\n",
    "for epoch in range(config[\"epochs\"]):\n",
    "    # -------- TRAIN --------\n",
    "    model.train()\n",
    "    train_loss, train_preds, train_labels, train_probs = 0, [], [], []\n",
    "    for images, labels in tqdm(train_loader, desc=f\"Epoch {epoch+1}/{config['epochs']} [Train]\"):\n",
    "        images, labels = images.to(device), labels.to(device)\n",
    "        optimizer.zero_grad()\n",
    "        preds = model(images)\n",
    "        loss = criterion(preds, labels)\n",
    "        loss.backward()\n",
    "        optimizer.step()\n",
    "        train_loss += loss.item()\n",
    "        probs = torch.softmax(preds, dim=1)\n",
    "        train_preds.extend(torch.argmax(preds, 1).cpu().numpy())\n",
    "        train_labels.extend(labels.cpu().numpy())\n",
    "        train_probs.extend(probs.cpu().detach().numpy())\n",
    "\n",
    "    train_loss /= len(train_loader)\n",
    "    train_acc, train_prec, train_rec, train_f1, train_auc = compute_metrics(\n",
    "        train_labels, train_preds, train_probs\n",
    "    )\n",
    "\n",
    "    # -------- VALIDATION --------\n",
    "    model.eval()\n",
    "    val_loss, val_preds, val_labels, val_probs = 0, [], [], []\n",
    "    with torch.no_grad():\n",
    "        for images, labels in tqdm(val_loader, desc=f\"Epoch {epoch+1}/{config['epochs']} [Val]\"):\n",
    "            images, labels = images.to(device), labels.to(device)\n",
    "            preds = model(images)\n",
    "            loss = criterion(preds, labels)\n",
    "            val_loss += loss.item()\n",
    "            probs = torch.softmax(preds, dim=1)\n",
    "            val_preds.extend(torch.argmax(preds, 1).cpu().numpy())\n",
    "            val_labels.extend(labels.cpu().numpy())\n",
    "            val_probs.extend(probs.cpu().numpy())\n",
    "\n",
    "    val_loss /= len(val_loader)\n",
    "    val_acc, val_prec, val_rec, val_f1, val_auc = compute_metrics(\n",
    "        val_labels, val_preds, val_probs\n",
    "    )\n",
    "\n",
    "    # Save history\n",
    "    history[\"train_loss\"].append(train_loss)\n",
    "    history[\"val_loss\"].append(val_loss)\n",
    "    history[\"train_acc\"].append(train_acc)\n",
    "    history[\"val_acc\"].append(val_acc)\n",
    "    history[\"train_prec\"].append(train_prec)\n",
    "    history[\"val_prec\"].append(val_prec)\n",
    "    history[\"train_rec\"].append(train_rec)\n",
    "    history[\"val_rec\"].append(val_rec)\n",
    "    history[\"train_f1\"].append(train_f1)\n",
    "    history[\"val_f1\"].append(val_f1)\n",
    "    history[\"train_auc\"].append(train_auc)\n",
    "    history[\"val_auc\"].append(val_auc)\n",
    "\n",
    "    # Print results like your screenshot\n",
    "    print(f\"\\nEpoch {epoch+1}:\")\n",
    "    print(f\" Train -> Loss={train_loss:.4f}, Acc={train_acc:.4f}, Prec={train_prec:.4f}, \"\n",
    "          f\"Rec={train_rec:.4f}, F1={train_f1:.4f}, AUC={train_auc:.4f}\")\n",
    "    print(f\" Val   -> Loss={val_loss:.4f}, Acc={val_acc:.4f}, Prec={val_prec:.4f}, \"\n",
    "          f\"Rec={val_rec:.4f}, F1={val_f1:.4f}, AUC={val_auc:.4f}\")\n",
    "\n",
    "    # Save best model based on AUC\n",
    "    if val_auc > best_val_auc:\n",
    "        best_val_auc = val_auc\n",
    "        patience_counter = 0\n",
    "        torch.save(model.state_dict(), config[\"model_path_auc\"])\n",
    "        print(f\"Best model (AUC) saved with AUC = {best_val_auc:.4f}\")\n",
    "    else:\n",
    "        print(f\"Validation AUC {val_auc:.4f} did not improve from {best_val_auc:.4f}\")\n",
    "\n",
    "    # Save best model based on Loss\n",
    "    if val_loss < best_val_loss:\n",
    "        best_val_loss = val_loss\n",
    "        torch.save(model.state_dict(), config[\"model_path_loss\"])\n",
    "        print(f\"Best model (Loss) saved with Loss = {best_val_loss:.4f}\")\n",
    "    else:\n",
    "        print(f\"Validation Loss {val_loss:.4f} did not reduced from {best_val_loss:.4f}\")\n",
    "\n",
    "    # Early stopping (based on AUC)\n",
    "    if val_auc <= best_val_auc:\n",
    "        patience_counter += 1\n",
    "        if patience_counter >= config[\"early_stopping_patience\"]:\n",
    "            print(\"Early stopping triggered!\")\n",
    "            break\n"
   ]
  },
  {
   "cell_type": "markdown",
   "id": "f38a366e",
   "metadata": {},
   "source": [
    "# Testing and Plotting"
   ]
  },
  {
   "cell_type": "code",
   "execution_count": 7,
   "id": "41b79860",
   "metadata": {},
   "outputs": [
    {
     "name": "stdout",
     "output_type": "stream",
     "text": [
      "\n",
      "=== Test Results ===\n",
      " Loss=1.1958, Acc=0.6139, Prec=0.1228, Rec=0.2000, F1=0.1521, AUC=0.6476, Spec=0.8000\n"
     ]
    },
    {
     "data": {
      "image/png": "[encoded data removed]",
      "text/plain": [
       "<Figure size 1200x400 with 3 Axes>"
      ]
     },
     "metadata": {},
     "output_type": "display_data"
    }
   ],
   "source": [
    "# =====================\n",
    "# TESTING\n",
    "# =====================\n",
    "model.load_state_dict(torch.load(config[\"model_path_auc\"]))\n",
    "model.eval()\n",
    "test_loss, test_preds, test_labels, test_probs = 0, [], [], []\n",
    "with torch.no_grad():\n",
    "    for images, labels in test_loader:\n",
    "        images, labels = images.to(device), labels.to(device)\n",
    "        preds = model(images)\n",
    "        loss = criterion(preds, labels)\n",
    "        test_loss += loss.item()\n",
    "        probs = torch.softmax(preds, dim=1)\n",
    "        test_preds.extend(torch.argmax(preds, 1).cpu().numpy())\n",
    "        test_labels.extend(labels.cpu().numpy())\n",
    "        test_probs.extend(probs.cpu().numpy())\n",
    "\n",
    "test_loss /= len(test_loader)\n",
    "test_acc, test_prec, test_rec, test_f1, test_auc = compute_metrics(test_labels, test_preds, test_probs)\n",
    "\n",
    "# Specificity (macro-averaged)\n",
    "cm = confusion_matrix(test_labels, test_preds)\n",
    "tn = cm.sum() - (cm.sum(axis=1) + cm.sum(axis=0) - np.diag(cm))\n",
    "fp = cm.sum(axis=0) - np.diag(cm)\n",
    "specificity = np.mean(tn / (tn + fp + 1e-8))\n",
    "\n",
    "print(\"\\n=== Test Results ===\")\n",
    "print(f\" Loss={test_loss:.4f}, Acc={test_acc:.4f}, Prec={test_prec:.4f}, \"\n",
    "      f\"Rec={test_rec:.4f}, F1={test_f1:.4f}, AUC={test_auc:.4f}, Spec={specificity:.4f}\")\n",
    "\n",
    "# Confusion matrix plot\n",
    "plt.figure(figsize=(8, 6))\n",
    "sns.heatmap(cm, annot=True, fmt=\"d\", cmap=\"Blues\",\n",
    "            xticklabels=test_data.classes, yticklabels=test_data.classes)\n",
    "plt.xlabel(\"Predicted\")\n",
    "plt.ylabel(\"True\")\n",
    "plt.title(\"Confusion Matrix\")\n",
    "plt.tight_layout()\n",
    "plt.savefig(\"confusion_matrix.png\")\n",
    "plt.close()\n",
    "\n",
    "# =====================\n",
    "# FINAL SUMMARY PLOT\n",
    "# =====================\n",
    "plt.figure(figsize=(12, 4))\n",
    "plt.subplot(1, 3, 1)\n",
    "plt.plot(history[\"train_loss\"], label=\"Train\")\n",
    "plt.plot(history[\"val_loss\"], label=\"Val\")\n",
    "plt.title(\"Loss\")\n",
    "plt.legend()\n",
    "\n",
    "plt.subplot(1, 3, 2)\n",
    "plt.plot(history[\"train_acc\"], label=\"Train\")\n",
    "plt.plot(history[\"val_acc\"], label=\"Val\")\n",
    "plt.title(\"Accuracy\")\n",
    "plt.legend()\n",
    "\n",
    "plt.subplot(1, 3, 3)\n",
    "plt.plot(history[\"train_auc\"], label=\"Train\")\n",
    "plt.plot(history[\"val_auc\"], label=\"Val\")\n",
    "plt.title(\"AUC\")\n",
    "plt.legend()\n",
    "\n",
    "plt.tight_layout()\n",
    "plt.savefig(\"summary.png\")\n",
    "plt.show()"
   ]
  },
  {
   "cell_type": "markdown",
   "id": "40a64e47",
   "metadata": {},
   "source": []
  }
 ],
 "metadata": {
  "kernelspec": {
   "display_name": "Capstone",
   "language": "python",
   "name": "python3"
  },
  "language_info": {
   "codemirror_mode": {
    "name": "ipython",
    "version": 3
   },
   "file_extension": ".py",
   "mimetype": "text/x-python",
   "name": "python",
   "nbconvert_exporter": "python",
   "pygments_lexer": "ipython3",
   "version": "3.13.5"
  }
 },
 "nbformat": 4,
 "nbformat_minor": 5
}

{
 "cells": [
  {
   "cell_type": "markdown",
   "id": "a7598ce4",
   "metadata": {},
   "source": [
    "# Imports Tab"
   ]
  },
  {
   "cell_type": "code",
   "execution_count": 1,
   "id": "e4b90440",
   "metadata": {},
   "outputs": [],
   "source": [
    "import torch\n",
    "import torch.nn as nn\n",
    "import torch.optim as optim\n",
    "from torch.utils.data import DataLoader\n",
    "from torchvision import datasets, transforms, models\n",
    "from sklearn.metrics import (\n",
    "    accuracy_score, precision_score, recall_score, f1_score,\n",
    "    roc_auc_score, confusion_matrix\n",
    ")\n",
    "import numpy as np\n",
    "from tqdm import tqdm\n",
    "import matplotlib.pyplot as plt\n",
    "import seaborn as sns"
   ]
  },
  {
   "cell_type": "markdown",
   "id": "32195fb9",
   "metadata": {},
   "source": [
    "# Configuration's "
   ]
  },
  {
   "cell_type": "code",
   "execution_count": 2,
   "id": "cada4d6e",
   "metadata": {},
   "outputs": [
    {
     "name": "stdout",
     "output_type": "stream",
     "text": [
      "Using cuda\n"
     ]
    }
   ],
   "source": [
    "# =====================\n",
    "# CONFIGURATION\n",
    "# =====================\n",
    "config = {\n",
    "    \"model\": \"mobilenetv2\",   # Options: mobilenetv2, convnext, dct, stft, wavelet, learnable_freq\n",
    "    \"epochs\": 50,\n",
    "    \"batch_size\": 32,\n",
    "    \"lr\": 1e-3,\n",
    "    \"early_stopping_patience\": 5,\n",
    "    \"dropout\": 0.5,\n",
    "    \"num_classes\": 5,  # update based on dataset\n",
    "    \"train_dir\": r\"F:\\final project\\Capstone Prj\\Dataset\\dataset_split\\train\",\n",
    "    \"val_dir\": r\"F:\\final project\\Capstone Prj\\Dataset\\dataset_split\\val\",\n",
    "    \"test_dir\": r\"F:\\final project\\Capstone Prj\\Dataset\\dataset_split\\test\",\n",
    "}\n",
    "\n",
    "# =====================\n",
    "# DATA PIPELINE\n",
    "# =====================\n",
    "transform = transforms.Compose([\n",
    "    transforms.Resize((224, 224)),\n",
    "    transforms.ToTensor(),\n",
    "])\n",
    "\n",
    "train_data = datasets.ImageFolder(config[\"train_dir\"], transform=transform)\n",
    "val_data = datasets.ImageFolder(config[\"val_dir\"], transform=transform)\n",
    "test_data = datasets.ImageFolder(config[\"test_dir\"], transform=transform)\n",
    "\n",
    "train_loader = DataLoader(train_data, batch_size=config[\"batch_size\"], shuffle=True)\n",
    "val_loader = DataLoader(val_data, batch_size=config[\"batch_size\"], shuffle=False)\n",
    "test_loader = DataLoader(test_data, batch_size=config[\"batch_size\"], shuffle=False)\n",
    "\n",
    "# =====================\n",
    "# DEVICE\n",
    "# =====================\n",
    "device = torch.device(\"cuda\" if torch.cuda.is_available() else \"cpu\")\n",
    "print(f\"Using {device}\")"
   ]
  },
  {
   "cell_type": "code",
   "execution_count": null,
   "id": "5435fb44",
   "metadata": {},
   "outputs": [],
   "source": [
    "# =====================\n",
    "# MODEL BUILDER\n",
    "# =====================\n",
    "class ClassifierHead(nn.Module):\n",
    "    def __init__(self, in_features, num_classes, dropout=0.5):\n",
    "        super().__init__()\n",
    "        self.fc = nn.Sequential(\n",
    "            nn.BatchNorm1d(in_features),\n",
    "            nn.Dropout(dropout),\n",
    "            nn.Linear(in_features, num_classes)\n",
    "        )\n",
    "    def forward(self, x):\n",
    "        return self.fc(x)\n",
    "\n",
    "def build_model(config):\n",
    "    if config[\"model\"] == \"mobilenetv2\":\n",
    "        base = models.mobilenet_v2(weights=\"IMAGENET1K_V1\")\n",
    "        in_features = base.classifier[1].in_features\n",
    "        base.classifier = ClassifierHead(in_features, config[\"num_classes\"], config[\"dropout\"])\n",
    "        return base\n",
    "\n",
    "    elif config[\"model\"] == \"convnext\":\n",
    "        base = models.convnext_tiny(weights=\"IMAGENET1K_V1\")\n",
    "        in_features = base.classifier[2].in_features\n",
    "        base.classifier[2] = nn.Linear(in_features, config[\"num_classes\"])\n",
    "        return base\n",
    "\n",
    "    elif config[\"model\"] == \"dct\":\n",
    "        return nn.Sequential(\n",
    "            nn.Flatten(),\n",
    "            nn.Linear(224*224*3, 512),\n",
    "            nn.ReLU(),\n",
    "            nn.Dropout(config[\"dropout\"]),\n",
    "            nn.Linear(512, config[\"num_classes\"])\n",
    "        )\n",
    "\n",
    "    elif config[\"model\"] == \"stft\":\n",
    "        return nn.Sequential(\n",
    "            nn.Conv2d(3, 16, 3, padding=1),\n",
    "            nn.ReLU(),\n",
    "            nn.AdaptiveAvgPool2d((1, 1)),\n",
    "            nn.Flatten(),\n",
    "            nn.Linear(16, config[\"num_classes\"])\n",
    "        )\n",
    "\n",
    "    elif config[\"model\"] == \"wavelet\":\n",
    "        return nn.Sequential(\n",
    "            nn.Conv2d(3, 32, 3, padding=1),\n",
    "            nn.ReLU(),\n",
    "            nn.AdaptiveAvgPool2d((1, 1)),\n",
    "            nn.Flatten(),\n",
    "            nn.Linear(32, config[\"num_classes\"])\n",
    "        )\n",
    "\n",
    "    elif config[\"model\"] == \"learnable_freq\":\n",
    "        return nn.Sequential(\n",
    "            nn.Conv2d(3, 32, 3, stride=1, padding=1),\n",
    "            nn.ReLU(),\n",
    "            nn.AdaptiveAvgPool2d((1, 1)),\n",
    "            nn.Flatten(),\n",
    "            nn.Linear(32, config[\"num_classes\"])\n",
    "        )\n",
    "\n",
    "    else:\n",
    "        raise ValueError(f\"Unknown model type: {config['model']}\")\n",
    "\n",
    "\n",
    "model = build_model(config).to(device)"
   ]
  },
  {
   "cell_type": "code",
   "execution_count": null,
   "id": "e107f399",
   "metadata": {},
   "outputs": [
    {
     "name": "stderr",
     "output_type": "stream",
     "text": [
      "Epoch 1/50 [Train]: 100%|██████████| 393/393 [03:25<00:00,  1.91it/s]\n",
      "Epoch 1/50 [Val]: 100%|██████████| 84/84 [00:28<00:00,  2.96it/s]\n"
     ]
    },
    {
     "name": "stdout",
     "output_type": "stream",
     "text": [
      "\n",
      "Epoch 1:\n",
      " Train -> Loss=0.8959, Acc=0.7108, Prec=0.5094, Rec=0.4784, F1=0.4911, AUC=0.8444\n",
      " Val   -> Loss=0.6464, Acc=0.7842, Prec=0.7037, Rec=0.5595, F1=0.5512, AUC=0.9257\n",
      "Best model (AUC) saved with AUC = 0.9257\n",
      "Best model (Loss) saved with Loss = 0.6464\n"
     ]
    },
    {
     "name": "stderr",
     "output_type": "stream",
     "text": [
      "Epoch 2/50 [Train]: 100%|██████████| 393/393 [02:49<00:00,  2.32it/s]\n",
      "Epoch 2/50 [Val]: 100%|██████████| 84/84 [00:24<00:00,  3.40it/s]\n"
     ]
    },
    {
     "name": "stdout",
     "output_type": "stream",
     "text": [
      "\n",
      "Epoch 2:\n",
      " Train -> Loss=0.7068, Acc=0.7592, Prec=0.5860, Rec=0.5443, F1=0.5595, AUC=0.9002\n",
      " Val   -> Loss=0.6655, Acc=0.7731, Prec=0.6895, Rec=0.5483, F1=0.5713, AUC=0.9108\n",
      "Validation Loss 0.9108 did not improved from 0.9257\n",
      "Validation Loss 0.6655 did not reduced from 0.6464\n"
     ]
    },
    {
     "name": "stderr",
     "output_type": "stream",
     "text": [
      "Epoch 3/50 [Train]: 100%|██████████| 393/393 [02:26<00:00,  2.68it/s]\n",
      "Epoch 3/50 [Val]: 100%|██████████| 84/84 [00:21<00:00,  3.89it/s]\n"
     ]
    },
    {
     "name": "stdout",
     "output_type": "stream",
     "text": [
      "\n",
      "Epoch 3:\n",
      " Train -> Loss=0.5690, Acc=0.8033, Prec=0.6727, Rec=0.6263, F1=0.6451, AUC=0.9320\n",
      " Val   -> Loss=0.5019, Acc=0.8259, Prec=0.7278, Rec=0.6272, F1=0.6366, AUC=0.9479\n",
      "Best model (AUC) saved with AUC = 0.9479\n",
      "Best model (Loss) saved with Loss = 0.5019\n"
     ]
    },
    {
     "name": "stderr",
     "output_type": "stream",
     "text": [
      "Epoch 4/50 [Train]: 100%|██████████| 393/393 [02:03<00:00,  3.17it/s]\n",
      "Epoch 4/50 [Val]: 100%|██████████| 84/84 [00:22<00:00,  3.81it/s]\n"
     ]
    },
    {
     "name": "stdout",
     "output_type": "stream",
     "text": [
      "\n",
      "Epoch 4:\n",
      " Train -> Loss=0.5102, Acc=0.8225, Prec=0.7031, Rec=0.6637, F1=0.6804, AUC=0.9433\n",
      " Val   -> Loss=0.5888, Acc=0.7965, Prec=0.7559, Rec=0.5603, F1=0.6027, AUC=0.9408\n",
      "Validation Loss 0.9408 did not improved from 0.9479\n",
      "Validation Loss 0.5888 did not reduced from 0.5019\n"
     ]
    },
    {
     "name": "stderr",
     "output_type": "stream",
     "text": [
      "Epoch 5/50 [Train]: 100%|██████████| 393/393 [02:05<00:00,  3.12it/s]\n",
      "Epoch 5/50 [Val]: 100%|██████████| 84/84 [00:20<00:00,  4.10it/s]\n"
     ]
    },
    {
     "name": "stdout",
     "output_type": "stream",
     "text": [
      "\n",
      "Epoch 5:\n",
      " Train -> Loss=0.4820, Acc=0.8303, Prec=0.7163, Rec=0.6799, F1=0.6957, AUC=0.9503\n",
      " Val   -> Loss=0.5494, Acc=0.8058, Prec=0.7239, Rec=0.6056, F1=0.6167, AUC=0.9400\n",
      "Validation Loss 0.9400 did not improved from 0.9479\n",
      "Validation Loss 0.5494 did not reduced from 0.5019\n"
     ]
    },
    {
     "name": "stderr",
     "output_type": "stream",
     "text": [
      "Epoch 6/50 [Train]: 100%|██████████| 393/393 [02:00<00:00,  3.27it/s]\n",
      "Epoch 6/50 [Val]: 100%|██████████| 84/84 [00:20<00:00,  4.08it/s]\n"
     ]
    },
    {
     "name": "stdout",
     "output_type": "stream",
     "text": [
      "\n",
      "Epoch 6:\n",
      " Train -> Loss=0.4604, Acc=0.8378, Prec=0.7296, Rec=0.6977, F1=0.7118, AUC=0.9548\n",
      " Val   -> Loss=0.5053, Acc=0.8348, Prec=0.7346, Rec=0.6883, F1=0.7051, AUC=0.9493\n",
      "Best model (AUC) saved with AUC = 0.9493\n",
      "Validation Loss 0.5053 did not reduced from 0.5019\n"
     ]
    },
    {
     "name": "stderr",
     "output_type": "stream",
     "text": [
      "Epoch 7/50 [Train]: 100%|██████████| 393/393 [02:06<00:00,  3.10it/s]\n",
      "Epoch 7/50 [Val]: 100%|██████████| 84/84 [00:20<00:00,  4.05it/s]\n"
     ]
    },
    {
     "name": "stdout",
     "output_type": "stream",
     "text": [
      "\n",
      "Epoch 7:\n",
      " Train -> Loss=0.4188, Acc=0.8526, Prec=0.7527, Rec=0.7219, F1=0.7356, AUC=0.9627\n",
      " Val   -> Loss=0.5786, Acc=0.8337, Prec=0.7547, Rec=0.6595, F1=0.6916, AUC=0.9405\n",
      "Validation Loss 0.9405 did not improved from 0.9493\n",
      "Validation Loss 0.5786 did not reduced from 0.5019\n"
     ]
    },
    {
     "name": "stderr",
     "output_type": "stream",
     "text": [
      "Epoch 8/50 [Train]: 100%|██████████| 393/393 [02:00<00:00,  3.27it/s]\n",
      "Epoch 8/50 [Val]: 100%|██████████| 84/84 [00:20<00:00,  4.05it/s]\n"
     ]
    },
    {
     "name": "stdout",
     "output_type": "stream",
     "text": [
      "\n",
      "Epoch 8:\n",
      " Train -> Loss=0.3861, Acc=0.8652, Prec=0.7744, Rec=0.7494, F1=0.7607, AUC=0.9678\n",
      " Val   -> Loss=0.6064, Acc=0.8106, Prec=0.6981, Rec=0.6622, F1=0.6441, AUC=0.9318\n",
      "Validation Loss 0.9318 did not improved from 0.9493\n",
      "Validation Loss 0.6064 did not reduced from 0.5019\n"
     ]
    },
    {
     "name": "stderr",
     "output_type": "stream",
     "text": [
      "Epoch 9/50 [Train]: 100%|██████████| 393/393 [02:26<00:00,  2.69it/s]\n",
      "Epoch 9/50 [Val]: 100%|██████████| 84/84 [00:20<00:00,  4.07it/s]\n"
     ]
    },
    {
     "name": "stdout",
     "output_type": "stream",
     "text": [
      "\n",
      "Epoch 9:\n",
      " Train -> Loss=0.3885, Acc=0.8648, Prec=0.7769, Rec=0.7486, F1=0.7615, AUC=0.9675\n",
      " Val   -> Loss=0.6061, Acc=0.8144, Prec=0.7181, Rec=0.6426, F1=0.6547, AUC=0.9358\n",
      "Validation Loss 0.9358 did not improved from 0.9493\n",
      "Validation Loss 0.6061 did not reduced from 0.5019\n"
     ]
    },
    {
     "name": "stderr",
     "output_type": "stream",
     "text": [
      "Epoch 10/50 [Train]: 100%|██████████| 393/393 [02:23<00:00,  2.75it/s]\n",
      "Epoch 10/50 [Val]: 100%|██████████| 84/84 [00:20<00:00,  4.07it/s]"
     ]
    },
    {
     "name": "stdout",
     "output_type": "stream",
     "text": [
      "\n",
      "Epoch 10:\n",
      " Train -> Loss=0.3498, Acc=0.8745, Prec=0.7882, Rec=0.7646, F1=0.7756, AUC=0.9735\n",
      " Val   -> Loss=0.5804, Acc=0.8266, Prec=0.7430, Rec=0.6545, F1=0.6786, AUC=0.9473\n",
      "Validation Loss 0.9473 did not improved from 0.9493\n",
      "Validation Loss 0.5804 did not reduced from 0.5019\n",
      "Early stopping triggered!\n"
     ]
    },
    {
     "name": "stderr",
     "output_type": "stream",
     "text": [
      "\n"
     ]
    }
   ],
   "source": [
    "# =====================\n",
    "# TRAINING SETUP\n",
    "# =====================\n",
    "criterion = nn.CrossEntropyLoss()\n",
    "optimizer = optim.Adam(model.parameters(), lr=config[\"lr\"])\n",
    "scheduler = optim.lr_scheduler.ReduceLROnPlateau(optimizer, patience=2, factor=0.5)\n",
    "\n",
    "best_val_loss = np.inf\n",
    "best_val_auc = -np.inf\n",
    "\n",
    "patience_counter = 0\n",
    "\n",
    "# For tracking\n",
    "history = {\n",
    "    \"train_loss\": [], \"val_loss\": [],\n",
    "    \"train_acc\": [], \"val_acc\": [],\n",
    "    \"train_prec\": [], \"val_prec\": [],\n",
    "    \"train_rec\": [], \"val_rec\": [],\n",
    "    \"train_f1\": [], \"val_f1\": [],\n",
    "    \"train_auc\": [], \"val_auc\": []\n",
    "}\n",
    "\n",
    "# =====================\n",
    "# HELPER FUNCTIONS\n",
    "# =====================\n",
    "def compute_metrics(y_true, y_pred, y_prob, average=\"macro\"):\n",
    "    acc = accuracy_score(y_true, y_pred)\n",
    "    prec = precision_score(y_true, y_pred, average=average, zero_division=0)\n",
    "    rec = recall_score(y_true, y_pred, average=average, zero_division=0)\n",
    "    f1 = f1_score(y_true, y_pred, average=average, zero_division=0)\n",
    "    try:\n",
    "        auc = roc_auc_score(y_true, y_prob, multi_class=\"ovr\")\n",
    "    except:\n",
    "        auc = 0.0\n",
    "    return acc, prec, rec, f1, auc\n",
    "\n",
    "# =====================\n",
    "# TRAINING LOOP\n",
    "# =====================\n",
    "for epoch in range(config[\"epochs\"]):\n",
    "    # -------- TRAIN --------\n",
    "    model.train()\n",
    "    train_loss, train_preds, train_labels, train_probs = 0, [], [], []\n",
    "    for images, labels in tqdm(train_loader, desc=f\"Epoch {epoch+1}/{config['epochs']} [Train]\"):\n",
    "        images, labels = images.to(device), labels.to(device)\n",
    "        optimizer.zero_grad()\n",
    "        preds = model(images)\n",
    "        loss = criterion(preds, labels)\n",
    "        loss.backward()\n",
    "        optimizer.step()\n",
    "        train_loss += loss.item()\n",
    "        probs = torch.softmax(preds, dim=1)\n",
    "        train_preds.extend(torch.argmax(preds, 1).cpu().numpy())\n",
    "        train_labels.extend(labels.cpu().numpy())\n",
    "        train_probs.extend(probs.cpu().detach().numpy())\n",
    "\n",
    "    train_loss /= len(train_loader)\n",
    "    train_acc, train_prec, train_rec, train_f1, train_auc = compute_metrics(\n",
    "        train_labels, train_preds, train_probs\n",
    "    )\n",
    "\n",
    "    # -------- VALIDATION --------\n",
    "    model.eval()\n",
    "    val_loss, val_preds, val_labels, val_probs = 0, [], [], []\n",
    "    with torch.no_grad():\n",
    "        for images, labels in tqdm(val_loader, desc=f\"Epoch {epoch+1}/{config['epochs']} [Val]\"):\n",
    "            images, labels = images.to(device), labels.to(device)\n",
    "            preds = model(images)\n",
    "            loss = criterion(preds, labels)\n",
    "            val_loss += loss.item()\n",
    "            probs = torch.softmax(preds, dim=1)\n",
    "            val_preds.extend(torch.argmax(preds, 1).cpu().numpy())\n",
    "            val_labels.extend(labels.cpu().numpy())\n",
    "            val_probs.extend(probs.cpu().numpy())\n",
    "\n",
    "    val_loss /= len(val_loader)\n",
    "    val_acc, val_prec, val_rec, val_f1, val_auc = compute_metrics(\n",
    "        val_labels, val_preds, val_probs\n",
    "    )\n",
    "\n",
    "    # Save history\n",
    "    history[\"train_loss\"].append(train_loss)\n",
    "    history[\"val_loss\"].append(val_loss)\n",
    "    history[\"train_acc\"].append(train_acc)\n",
    "    history[\"val_acc\"].append(val_acc)\n",
    "    history[\"train_prec\"].append(train_prec)\n",
    "    history[\"val_prec\"].append(val_prec)\n",
    "    history[\"train_rec\"].append(train_rec)\n",
    "    history[\"val_rec\"].append(val_rec)\n",
    "    history[\"train_f1\"].append(train_f1)\n",
    "    history[\"val_f1\"].append(val_f1)\n",
    "    history[\"train_auc\"].append(train_auc)\n",
    "    history[\"val_auc\"].append(val_auc)\n",
    "\n",
    "    # Print like your screenshot\n",
    "    print(f\"\\nEpoch {epoch+1}:\")\n",
    "    print(f\" Train -> Loss={train_loss:.4f}, Acc={train_acc:.4f}, Prec={train_prec:.4f}, \"\n",
    "          f\"Rec={train_rec:.4f}, F1={train_f1:.4f}, AUC={train_auc:.4f}\")\n",
    "    print(f\" Val   -> Loss={val_loss:.4f}, Acc={val_acc:.4f}, Prec={val_prec:.4f}, \"\n",
    "          f\"Rec={val_rec:.4f}, F1={val_f1:.4f}, AUC={val_auc:.4f}\")\n",
    "\n",
    "    # Save best model\n",
    "    # Save best model based on AUC\n",
    "    if val_auc > best_val_auc:\n",
    "        best_val_auc = val_auc\n",
    "        patience_counter = 0\n",
    "        torch.save(model.state_dict(), \"best_model_auc.pth\")\n",
    "        print(f\"Best model (AUC) saved with AUC = {best_val_auc:.4f}\")\n",
    "    else:\n",
    "        print(f\"Validation Loss {val_auc:.4f} did not improved from {best_val_auc:.4f}\")\n",
    "\n",
    "    # Save best model based on Loss\n",
    "    if val_loss < best_val_loss:\n",
    "        best_val_loss = val_loss\n",
    "        torch.save(model.state_dict(), \"best_model_loss.pth\")\n",
    "        print(f\"Best model (Loss) saved with Loss = {best_val_loss:.4f}\")\n",
    "    else:\n",
    "        print(f\"Validation Loss {val_loss:.4f} did not reduced from {best_val_loss:.4f}\")\n",
    "\n",
    "    # Early stopping (based on AUC, but can be based on loss too)\n",
    "    if val_auc <= best_val_auc:\n",
    "        patience_counter += 1\n",
    "        if patience_counter >= config[\"early_stopping_patience\"]:\n",
    "            print(\"Early stopping triggered!\")\n",
    "            break"
   ]
  },
  {
   "cell_type": "code",
   "execution_count": 5,
   "id": "559e9439",
   "metadata": {},
   "outputs": [
    {
     "name": "stdout",
     "output_type": "stream",
     "text": [
      "\n",
      "=== Test Results ===\n",
      " Loss=0.5028, Acc=0.8323, Prec=0.7366, Rec=0.6828, F1=0.7039, AUC=0.9484, Spec=0.9450\n"
     ]
    },
    {
     "data": {
      "image/png": "[encoded data removed]",
      "text/plain": [
       "<Figure size 1200x400 with 3 Axes>"
      ]
     },
     "metadata": {},
     "output_type": "display_data"
    }
   ],
   "source": [
    "# =====================\n",
    "# TESTING\n",
    "# =====================\n",
    "model_path = r\"F:\\final project\\Capstone Prj\\Notebooks\\best_model_auc.pth\"\n",
    "model.load_state_dict(torch.load(model_path))\n",
    "model.eval()\n",
    "test_loss, test_preds, test_labels, test_probs = 0, [], [], []\n",
    "with torch.no_grad():\n",
    "    for images, labels in test_loader:\n",
    "        images, labels = images.to(device), labels.to(device)\n",
    "        preds = model(images)\n",
    "        loss = criterion(preds, labels)\n",
    "        test_loss += loss.item()\n",
    "        probs = torch.softmax(preds, dim=1)\n",
    "        test_preds.extend(torch.argmax(preds, 1).cpu().numpy())\n",
    "        test_labels.extend(labels.cpu().numpy())\n",
    "        test_probs.extend(probs.cpu().numpy())\n",
    "\n",
    "test_loss /= len(test_loader)\n",
    "test_acc, test_prec, test_rec, test_f1, test_auc = compute_metrics(test_labels, test_preds, test_probs)\n",
    "\n",
    "# Specificity (per class, averaged)\n",
    "cm = confusion_matrix(test_labels, test_preds)\n",
    "tn = cm.sum() - (cm.sum(axis=1) + cm.sum(axis=0) - np.diag(cm))\n",
    "fp = cm.sum(axis=0) - np.diag(cm)\n",
    "specificity = np.mean(tn / (tn + fp + 1e-8))\n",
    "\n",
    "print(\"\\n=== Test Results ===\")\n",
    "print(f\" Loss={test_loss:.4f}, Acc={test_acc:.4f}, Prec={test_prec:.4f}, \"\n",
    "      f\"Rec={test_rec:.4f}, F1={test_f1:.4f}, AUC={test_auc:.4f}, Spec={specificity:.4f}\")\n",
    "\n",
    "# Confusion matrix plot\n",
    "plt.figure(figsize=(8, 6))\n",
    "sns.heatmap(cm, annot=True, fmt=\"d\", cmap=\"Blues\",\n",
    "            xticklabels=test_data.classes, yticklabels=test_data.classes)\n",
    "plt.xlabel(\"Predicted\")\n",
    "plt.ylabel(\"True\")\n",
    "plt.title(\"Confusion Matrix\")\n",
    "plt.tight_layout()\n",
    "plt.savefig(\"confusion_matrix.png\")\n",
    "plt.close()\n",
    "\n",
    "# =====================\n",
    "# FINAL SUMMARY PLOT\n",
    "# =====================\n",
    "plt.figure(figsize=(12, 4))\n",
    "plt.subplot(1, 3, 1)\n",
    "plt.plot(history[\"train_loss\"], label=\"Train\")\n",
    "plt.plot(history[\"val_loss\"], label=\"Val\")\n",
    "plt.title(\"Loss\")\n",
    "plt.legend()\n",
    "\n",
    "plt.subplot(1, 3, 2)\n",
    "plt.plot(history[\"train_acc\"], label=\"Train\")\n",
    "plt.plot(history[\"val_acc\"], label=\"Val\")\n",
    "plt.title(\"Accuracy\")\n",
    "plt.legend()\n",
    "\n",
    "plt.subplot(1, 3, 3)\n",
    "plt.plot(history[\"train_auc\"], label=\"Train\")\n",
    "plt.plot(history[\"val_auc\"], label=\"Val\")\n",
    "plt.title(\"AUC\")\n",
    "plt.legend()\n",
    "\n",
    "plt.tight_layout()\n",
    "plt.savefig(\"summary.png\")\n",
    "plt.show()"
   ]
  },
  {
   "cell_type": "code",
   "execution_count": null,
   "id": "e1603523",
   "metadata": {},
   "outputs": [
    {
     "name": "stdout",
     "output_type": "stream",
     "text": [
      "Using cuda\n"
     ]
    },
    {
     "name": "stderr",
     "output_type": "stream",
     "text": [
      "Epoch 1/50 [Train]: 100%|██████████| 393/393 [02:29<00:00,  2.63it/s]\n",
      "Epoch 1/50 [Val]: 100%|██████████| 84/84 [00:23<00:00,  3.58it/s]\n"
     ]
    },
    {
     "name": "stdout",
     "output_type": "stream",
     "text": [
      "\n",
      "Epoch 1:\n",
      " Train -> Loss=0.8844, Acc=0.7164, Prec=0.5222, Rec=0.4982, F1=0.5087, AUC=0.8471\n",
      " Val   -> Loss=0.8568, Acc=0.7481, Prec=0.5775, Rec=0.5480, F1=0.5399, AUC=0.8766\n",
      "Best model (AUC) saved with AUC = 0.8766\n",
      "Best model (Loss) saved with Loss = 0.8568\n"
     ]
    },
    {
     "name": "stderr",
     "output_type": "stream",
     "text": [
      "Epoch 2/50 [Train]: 100%|██████████| 393/393 [02:31<00:00,  2.60it/s]\n",
      "Epoch 2/50 [Val]: 100%|██████████| 84/84 [00:23<00:00,  3.51it/s]\n"
     ]
    },
    {
     "name": "stdout",
     "output_type": "stream",
     "text": [
      "\n",
      "Epoch 2:\n",
      " Train -> Loss=0.6627, Acc=0.7797, Prec=0.6214, Rec=0.5847, F1=0.6007, AUC=0.9089\n",
      " Val   -> Loss=0.5962, Acc=0.7939, Prec=0.6927, Rec=0.6115, F1=0.6306, AUC=0.9276\n",
      "Best model (AUC) saved with AUC = 0.9276\n",
      "Best model (Loss) saved with Loss = 0.5962\n"
     ]
    },
    {
     "name": "stderr",
     "output_type": "stream",
     "text": [
      "Epoch 3/50 [Train]: 100%|██████████| 393/393 [02:32<00:00,  2.58it/s]\n",
      "Epoch 3/50 [Val]: 100%|██████████| 84/84 [00:22<00:00,  3.67it/s]\n"
     ]
    },
    {
     "name": "stdout",
     "output_type": "stream",
     "text": [
      "\n",
      "Epoch 3:\n",
      " Train -> Loss=0.5985, Acc=0.7976, Prec=0.6529, Rec=0.6189, F1=0.6341, AUC=0.9247\n",
      " Val   -> Loss=0.7353, Acc=0.8110, Prec=0.6810, Rec=0.6444, F1=0.6470, AUC=0.9102\n",
      "Validation AUC 0.9102 did not improve from 0.9276\n",
      "Validation Loss 0.7353 did not reduce from 0.5962\n"
     ]
    },
    {
     "name": "stderr",
     "output_type": "stream",
     "text": [
      "Epoch 4/50 [Train]: 100%|██████████| 393/393 [02:30<00:00,  2.61it/s]\n",
      "Epoch 4/50 [Val]: 100%|██████████| 84/84 [00:22<00:00,  3.66it/s]\n"
     ]
    },
    {
     "name": "stdout",
     "output_type": "stream",
     "text": [
      "\n",
      "Epoch 4:\n",
      " Train -> Loss=0.5557, Acc=0.8101, Prec=0.6732, Rec=0.6355, F1=0.6521, AUC=0.9339\n",
      " Val   -> Loss=0.6076, Acc=0.8132, Prec=0.6906, Rec=0.6714, F1=0.6722, AUC=0.9375\n",
      "Best model (AUC) saved with AUC = 0.9375\n",
      "Validation Loss 0.6076 did not reduce from 0.5962\n"
     ]
    },
    {
     "name": "stderr",
     "output_type": "stream",
     "text": [
      "Epoch 5/50 [Train]: 100%|██████████| 393/393 [02:31<00:00,  2.60it/s]\n",
      "Epoch 5/50 [Val]: 100%|██████████| 84/84 [00:23<00:00,  3.65it/s]\n"
     ]
    },
    {
     "name": "stdout",
     "output_type": "stream",
     "text": [
      "\n",
      "Epoch 5:\n",
      " Train -> Loss=0.5013, Acc=0.8303, Prec=0.7142, Rec=0.6793, F1=0.6949, AUC=0.9468\n",
      " Val   -> Loss=0.5921, Acc=0.7898, Prec=0.6704, Rec=0.6252, F1=0.6273, AUC=0.9332\n",
      "Validation AUC 0.9332 did not improve from 0.9375\n",
      "Best model (Loss) saved with Loss = 0.5921\n"
     ]
    },
    {
     "name": "stderr",
     "output_type": "stream",
     "text": [
      "Epoch 6/50 [Train]: 100%|██████████| 393/393 [02:32<00:00,  2.57it/s]\n",
      "Epoch 6/50 [Val]: 100%|██████████| 84/84 [00:23<00:00,  3.65it/s]\n"
     ]
    },
    {
     "name": "stdout",
     "output_type": "stream",
     "text": [
      "\n",
      "Epoch 6:\n",
      " Train -> Loss=0.4941, Acc=0.8300, Prec=0.7118, Rec=0.6772, F1=0.6923, AUC=0.9475\n",
      " Val   -> Loss=0.4963, Acc=0.8322, Prec=0.7098, Rec=0.7384, F1=0.7226, AUC=0.9548\n",
      "Best model (AUC) saved with AUC = 0.9548\n",
      "Best model (Loss) saved with Loss = 0.4963\n"
     ]
    },
    {
     "name": "stderr",
     "output_type": "stream",
     "text": [
      "Epoch 7/50 [Train]: 100%|██████████| 393/393 [02:35<00:00,  2.53it/s]\n",
      "Epoch 7/50 [Val]: 100%|██████████| 84/84 [00:23<00:00,  3.54it/s]\n"
     ]
    },
    {
     "name": "stdout",
     "output_type": "stream",
     "text": [
      "\n",
      "Epoch 7:\n",
      " Train -> Loss=0.4407, Acc=0.8509, Prec=0.7487, Rec=0.7193, F1=0.7328, AUC=0.9582\n",
      " Val   -> Loss=0.5724, Acc=0.8110, Prec=0.7057, Rec=0.6512, F1=0.6712, AUC=0.9424\n",
      "Validation AUC 0.9424 did not improve from 0.9548\n",
      "Validation Loss 0.5724 did not reduce from 0.4963\n"
     ]
    },
    {
     "name": "stderr",
     "output_type": "stream",
     "text": [
      "Epoch 8/50 [Train]: 100%|██████████| 393/393 [02:33<00:00,  2.57it/s]\n",
      "Epoch 8/50 [Val]: 100%|██████████| 84/84 [00:22<00:00,  3.65it/s]\n"
     ]
    },
    {
     "name": "stdout",
     "output_type": "stream",
     "text": [
      "\n",
      "Epoch 8:\n",
      " Train -> Loss=0.4197, Acc=0.8526, Prec=0.7526, Rec=0.7248, F1=0.7376, AUC=0.9630\n",
      " Val   -> Loss=0.5404, Acc=0.8400, Prec=0.7399, Rec=0.6971, F1=0.7108, AUC=0.9483\n",
      "Validation AUC 0.9483 did not improve from 0.9548\n",
      "Validation Loss 0.5404 did not reduce from 0.4963\n"
     ]
    },
    {
     "name": "stderr",
     "output_type": "stream",
     "text": [
      "Epoch 9/50 [Train]: 100%|██████████| 393/393 [02:00<00:00,  3.26it/s]\n",
      "Epoch 9/50 [Val]: 100%|██████████| 84/84 [00:20<00:00,  4.13it/s]\n"
     ]
    },
    {
     "name": "stdout",
     "output_type": "stream",
     "text": [
      "\n",
      "Epoch 9:\n",
      " Train -> Loss=0.3735, Acc=0.8714, Prec=0.7819, Rec=0.7583, F1=0.7693, AUC=0.9698\n",
      " Val   -> Loss=0.5507, Acc=0.8170, Prec=0.6885, Rec=0.6565, F1=0.6651, AUC=0.9425\n",
      "Validation AUC 0.9425 did not improve from 0.9548\n",
      "Validation Loss 0.5507 did not reduce from 0.4963\n"
     ]
    },
    {
     "name": "stderr",
     "output_type": "stream",
     "text": [
      "Epoch 10/50 [Train]: 100%|██████████| 393/393 [02:26<00:00,  2.68it/s]\n",
      "Epoch 10/50 [Val]: 100%|██████████| 84/84 [00:47<00:00,  1.76it/s]\n"
     ]
    },
    {
     "name": "stdout",
     "output_type": "stream",
     "text": [
      "\n",
      "Epoch 10:\n",
      " Train -> Loss=0.3419, Acc=0.8800, Prec=0.7898, Rec=0.7703, F1=0.7794, AUC=0.9747\n",
      " Val   -> Loss=0.5709, Acc=0.8315, Prec=0.7098, Rec=0.6746, F1=0.6869, AUC=0.9423\n",
      "Validation AUC 0.9423 did not improve from 0.9548\n",
      "Validation Loss 0.5709 did not reduce from 0.4963\n",
      "Early stopping triggered!\n",
      "\n",
      "=== Test Results ===\n",
      " Loss=0.4859, Acc=0.8346, Prec=0.7073, Rec=0.7255, F1=0.7153, AUC=0.9529, Spec=0.9545\n"
     ]
    },
    {
     "data": {
      "image/png": "[encoded data removed]",
      "text/plain": [
       "<Figure size 1200x400 with 3 Axes>"
      ]
     },
     "metadata": {},
     "output_type": "display_data"
    }
   ],
   "source": [
    "import torch\n",
    "import os\n",
    "import torch.nn as nn\n",
    "import torch.optim as optim\n",
    "from torch.utils.data import DataLoader\n",
    "from torchvision import datasets, transforms, models\n",
    "from sklearn.metrics import (\n",
    "    accuracy_score, precision_score, recall_score, f1_score,\n",
    "    roc_auc_score, confusion_matrix\n",
    ")\n",
    "import numpy as np\n",
    "from tqdm import tqdm\n",
    "import matplotlib.pyplot as plt\n",
    "import seaborn as sns\n",
    "\n",
    "# =====================\n",
    "# CONFIGURATION\n",
    "# =====================\n",
    "config = {\n",
    "    \"model\": \"mobilenetv2\",   # Options: mobilenetv2, convnext\n",
    "    \"epochs\": 50,\n",
    "    \"batch_size\": 32,\n",
    "    \"lr\": 1e-3,\n",
    "    \"early_stopping_patience\": 5,\n",
    "    \"dropout\": 0.5,\n",
    "    \"num_classes\": 5,  # update based on dataset\n",
    "    \"train_dir\": r\"F:\\final project\\Capstone Prj\\Dataset\\dataset_split\\train\",\n",
    "    \"val_dir\": r\"F:\\final project\\Capstone Prj\\Dataset\\dataset_split\\val\",\n",
    "    \"test_dir\": r\"F:\\final project\\Capstone Prj\\Dataset\\dataset_split\\test\",\n",
    "}\n",
    "config[\"save_dir\"] = os.path.join(\"models\", config[\"model\"])\n",
    "os.makedirs(config[\"save_dir\"], exist_ok=True)\n",
    "\n",
    "print(f\"Models will be saved in: {config['save_dir']}\")\n",
    "config[\"model_path_auc\"] = os.path.join(config[\"save_dir\"], \"best_auc.pth\")\n",
    "config[\"model_path_loss\"] = os.path.join(config[\"save_dir\"], \"best_loss.pth\")\n",
    "\n",
    "# =====================\n",
    "# DATA PIPELINE\n",
    "# =====================\n",
    "transform = transforms.Compose([\n",
    "    transforms.Resize((224, 224)),\n",
    "    transforms.ToTensor(),\n",
    "])\n",
    "\n",
    "train_data = datasets.ImageFolder(config[\"train_dir\"], transform=transform)\n",
    "val_data = datasets.ImageFolder(config[\"val_dir\"], transform=transform)\n",
    "test_data = datasets.ImageFolder(config[\"test_dir\"], transform=transform)\n",
    "\n",
    "train_loader = DataLoader(train_data, batch_size=config[\"batch_size\"], shuffle=True)\n",
    "val_loader = DataLoader(val_data, batch_size=config[\"batch_size\"], shuffle=False)\n",
    "test_loader = DataLoader(test_data, batch_size=config[\"batch_size\"], shuffle=False)\n",
    "\n",
    "# =====================\n",
    "# DEVICE\n",
    "# =====================\n",
    "device = torch.device(\"cuda\" if torch.cuda.is_available() else \"cpu\")\n",
    "print(f\"Using {device}\")\n",
    "\n",
    "# =====================\n",
    "# MODEL BUILDER\n",
    "# =====================\n",
    "class ClassifierHead(nn.Module):\n",
    "    def __init__(self, in_features, num_classes, dropout=0.5):\n",
    "        super().__init__()\n",
    "        self.fc = nn.Sequential(\n",
    "            nn.BatchNorm1d(in_features),\n",
    "            nn.Dropout(dropout),\n",
    "            nn.Linear(in_features, num_classes)\n",
    "        )\n",
    "    def forward(self, x):\n",
    "        return self.fc(x)\n",
    "\n",
    "def build_model(config):\n",
    "    if config[\"model\"] == \"mobilenetv2\":\n",
    "        base = models.mobilenet_v2(weights=\"IMAGENET1K_V1\")\n",
    "        in_features = base.classifier[1].in_features\n",
    "        base.classifier = ClassifierHead(in_features, config[\"num_classes\"], config[\"dropout\"])\n",
    "        return base\n",
    "\n",
    "    elif config[\"model\"] == \"convnext\":\n",
    "        base = models.convnext_tiny(weights=\"IMAGENET1K_V1\")\n",
    "        in_features = base.classifier[2].in_features\n",
    "        base.classifier[2] = nn.Linear(in_features, config[\"num_classes\"])\n",
    "        return base\n",
    "\n",
    "    elif config[\"model\"] == \"dct\":\n",
    "        return nn.Sequential(\n",
    "            nn.Flatten(),\n",
    "            nn.Linear(224*224*3, 512),\n",
    "            nn.ReLU(),\n",
    "            nn.Dropout(config[\"dropout\"]),\n",
    "            nn.Linear(512, config[\"num_classes\"])\n",
    "        )\n",
    "\n",
    "    elif config[\"model\"] == \"stft\":\n",
    "        return nn.Sequential(\n",
    "            nn.Conv2d(3, 16, 3, padding=1),\n",
    "            nn.ReLU(),\n",
    "            nn.AdaptiveAvgPool2d((1, 1)),\n",
    "            nn.Flatten(),\n",
    "            nn.Linear(16, config[\"num_classes\"])\n",
    "        )\n",
    "\n",
    "    elif config[\"model\"] == \"wavelet\":\n",
    "        return nn.Sequential(\n",
    "            nn.Conv2d(3, 32, 3, padding=1),\n",
    "            nn.ReLU(),\n",
    "            nn.AdaptiveAvgPool2d((1, 1)),\n",
    "            nn.Flatten(),\n",
    "            nn.Linear(32, config[\"num_classes\"])\n",
    "        )\n",
    "\n",
    "    elif config[\"model\"] == \"learnable_freq\":\n",
    "        return nn.Sequential(\n",
    "            nn.Conv2d(3, 32, 3, stride=1, padding=1),\n",
    "            nn.ReLU(),\n",
    "            nn.AdaptiveAvgPool2d((1, 1)),\n",
    "            nn.Flatten(),\n",
    "            nn.Linear(32, config[\"num_classes\"])\n",
    "        )\n",
    "\n",
    "    else:\n",
    "        raise ValueError(f\"Unknown model type: {config['model']}\")\n",
    "\n",
    "model = build_model(config).to(device)\n",
    "\n",
    "# =====================\n",
    "# TRAINING SETUP\n",
    "# =====================\n",
    "criterion = nn.CrossEntropyLoss()\n",
    "optimizer = optim.Adam(model.parameters(), lr=config[\"lr\"])\n",
    "scheduler = optim.lr_scheduler.ReduceLROnPlateau(optimizer, patience=2, factor=0.5)\n",
    "\n",
    "best_val_loss = np.inf\n",
    "best_val_auc = -np.inf\n",
    "patience_counter = 0\n",
    "\n",
    "# For tracking\n",
    "history = {\n",
    "    \"train_loss\": [], \"val_loss\": [],\n",
    "    \"train_acc\": [], \"val_acc\": [],\n",
    "    \"train_prec\": [], \"val_prec\": [],\n",
    "    \"train_rec\": [], \"val_rec\": [],\n",
    "    \"train_f1\": [], \"val_f1\": [],\n",
    "    \"train_auc\": [], \"val_auc\": []\n",
    "}\n",
    "\n",
    "# Adding SEED \n",
    "SEED = 42\n",
    "np.random.seed(SEED)\n",
    "torch.manual_seed(SEED)\n",
    "torch.cuda.manual_seed(SEED)\n",
    "torch.backends.cudnn.deterministic = True\n",
    "torch.backends.cudnn.benchmark = False\n",
    "\n",
    "# =====================\n",
    "# HELPER FUNCTIONS\n",
    "# =====================\n",
    "def compute_metrics(y_true, y_pred, y_prob, average=\"macro\"):\n",
    "    acc = accuracy_score(y_true, y_pred)\n",
    "    prec = precision_score(y_true, y_pred, average=average, zero_division=0)\n",
    "    rec = recall_score(y_true, y_pred, average=average, zero_division=0)\n",
    "    f1 = f1_score(y_true, y_pred, average=average, zero_division=0)\n",
    "    try:\n",
    "        auc = roc_auc_score(y_true, y_prob, multi_class=\"ovr\")\n",
    "    except:\n",
    "        auc = 0.0\n",
    "    return acc, prec, rec, f1, auc\n",
    "\n",
    "# =====================\n",
    "# TRAINING LOOP\n",
    "# =====================\n",
    "for epoch in range(config[\"epochs\"]):\n",
    "    # -------- TRAIN --------\n",
    "    model.train()\n",
    "    train_loss, train_preds, train_labels, train_probs = 0, [], [], []\n",
    "    for images, labels in tqdm(train_loader, desc=f\"Epoch {epoch+1}/{config['epochs']} [Train]\"):\n",
    "        images, labels = images.to(device), labels.to(device)\n",
    "        optimizer.zero_grad()\n",
    "        preds = model(images)\n",
    "        loss = criterion(preds, labels)\n",
    "        loss.backward()\n",
    "        optimizer.step()\n",
    "        train_loss += loss.item()\n",
    "        probs = torch.softmax(preds, dim=1)\n",
    "        train_preds.extend(torch.argmax(preds, 1).cpu().numpy())\n",
    "        train_labels.extend(labels.cpu().numpy())\n",
    "        train_probs.extend(probs.cpu().detach().numpy())\n",
    "\n",
    "    train_loss /= len(train_loader)\n",
    "    train_acc, train_prec, train_rec, train_f1, train_auc = compute_metrics(\n",
    "        train_labels, train_preds, train_probs\n",
    "    )\n",
    "\n",
    "    # -------- VALIDATION --------\n",
    "    model.eval()\n",
    "    val_loss, val_preds, val_labels, val_probs = 0, [], [], []\n",
    "    with torch.no_grad():\n",
    "        for images, labels in tqdm(val_loader, desc=f\"Epoch {epoch+1}/{config['epochs']} [Val]\"):\n",
    "            images, labels = images.to(device), labels.to(device)\n",
    "            preds = model(images)\n",
    "            loss = criterion(preds, labels)\n",
    "            val_loss += loss.item()\n",
    "            probs = torch.softmax(preds, dim=1)\n",
    "            val_preds.extend(torch.argmax(preds, 1).cpu().numpy())\n",
    "            val_labels.extend(labels.cpu().numpy())\n",
    "            val_probs.extend(probs.cpu().numpy())\n",
    "\n",
    "    val_loss /= len(val_loader)\n",
    "    val_acc, val_prec, val_rec, val_f1, val_auc = compute_metrics(\n",
    "        val_labels, val_preds, val_probs\n",
    "    )\n",
    "\n",
    "    # Save history\n",
    "    history[\"train_loss\"].append(train_loss)\n",
    "    history[\"val_loss\"].append(val_loss)\n",
    "    history[\"train_acc\"].append(train_acc)\n",
    "    history[\"val_acc\"].append(val_acc)\n",
    "    history[\"train_prec\"].append(train_prec)\n",
    "    history[\"val_prec\"].append(val_prec)\n",
    "    history[\"train_rec\"].append(train_rec)\n",
    "    history[\"val_rec\"].append(val_rec)\n",
    "    history[\"train_f1\"].append(train_f1)\n",
    "    history[\"val_f1\"].append(val_f1)\n",
    "    history[\"train_auc\"].append(train_auc)\n",
    "    history[\"val_auc\"].append(val_auc)\n",
    "\n",
    "    # Print results like your screenshot\n",
    "    print(f\"\\nEpoch {epoch+1}:\")\n",
    "    print(f\" Train -> Loss={train_loss:.4f}, Acc={train_acc:.4f}, Prec={train_prec:.4f}, \"\n",
    "          f\"Rec={train_rec:.4f}, F1={train_f1:.4f}, AUC={train_auc:.4f}\")\n",
    "    print(f\" Val   -> Loss={val_loss:.4f}, Acc={val_acc:.4f}, Prec={val_prec:.4f}, \"\n",
    "          f\"Rec={val_rec:.4f}, F1={val_f1:.4f}, AUC={val_auc:.4f}\")\n",
    "\n",
    "    # Save best model based on AUC\n",
    "    if val_auc > best_val_auc:\n",
    "        best_val_auc = val_auc\n",
    "        patience_counter = 0\n",
    "        torch.save(model.state_dict(), config[\"model_path_auc\"])\n",
    "        print(f\"Best model (AUC) saved with AUC = {best_val_auc:.4f}\")\n",
    "    else:\n",
    "        print(f\"Validation AUC {val_auc:.4f} did not improve from {best_val_auc:.4f}\")\n",
    "\n",
    "    # Save best model based on Loss\n",
    "    if val_loss < best_val_loss:\n",
    "        best_val_loss = val_loss\n",
    "        torch.save(model.state_dict(), config[\"model_path_loss\"])\n",
    "        print(f\"Best model (Loss) saved with Loss = {best_val_loss:.4f}\")\n",
    "    else:\n",
    "        print(f\"Validation Loss {val_loss:.4f} did not reduced from {best_val_loss:.4f}\")\n",
    "\n",
    "    # Early stopping (based on AUC)\n",
    "    if val_auc <= best_val_auc:\n",
    "        patience_counter += 1\n",
    "        if patience_counter >= config[\"early_stopping_patience\"]:\n",
    "            print(\"Early stopping triggered!\")\n",
    "            break\n",
    "\n",
    "    # Save plots every epoch\n",
    "    plt.figure(figsize=(12, 4))\n",
    "    plt.subplot(1, 3, 1)\n",
    "    plt.plot(history[\"train_loss\"], label=\"Train\")\n",
    "    plt.plot(history[\"val_loss\"], label=\"Val\")\n",
    "    plt.title(\"Loss\")\n",
    "    plt.legend()\n",
    "\n",
    "    plt.subplot(1, 3, 2)\n",
    "    plt.plot(history[\"train_acc\"], label=\"Train\")\n",
    "    plt.plot(history[\"val_acc\"], label=\"Val\")\n",
    "    plt.title(\"Accuracy\")\n",
    "    plt.legend()\n",
    "\n",
    "    plt.subplot(1, 3, 3)\n",
    "    plt.plot(history[\"train_auc\"], label=\"Train\")\n",
    "    plt.plot(history[\"val_auc\"], label=\"Val\")\n",
    "    plt.title(\"AUC\")\n",
    "    plt.legend()\n",
    "\n",
    "    plt.tight_layout()\n",
    "    plt.savefig(f\"epoch_{epoch+1}_plots.png\")\n",
    "    plt.close()\n",
    "\n",
    "# =====================\n",
    "# TESTING\n",
    "# =====================\n",
    "model_path = \"best_model_auc.pth\"  # load best by AUC\n",
    "model.load_state_dict(torch.load(model_path))\n",
    "model.eval()\n",
    "test_loss, test_preds, test_labels, test_probs = 0, [], [], []\n",
    "with torch.no_grad():\n",
    "    for images, labels in test_loader:\n",
    "        images, labels = images.to(device), labels.to(device)\n",
    "        preds = model(images)\n",
    "        loss = criterion(preds, labels)\n",
    "        test_loss += loss.item()\n",
    "        probs = torch.softmax(preds, dim=1)\n",
    "        test_preds.extend(torch.argmax(preds, 1).cpu().numpy())\n",
    "        test_labels.extend(labels.cpu().numpy())\n",
    "        test_probs.extend(probs.cpu().numpy())\n",
    "\n",
    "test_loss /= len(test_loader)\n",
    "test_acc, test_prec, test_rec, test_f1, test_auc = compute_metrics(test_labels, test_preds, test_probs)\n",
    "\n",
    "# Specificity (macro-averaged)\n",
    "cm = confusion_matrix(test_labels, test_preds)\n",
    "tn = cm.sum() - (cm.sum(axis=1) + cm.sum(axis=0) - np.diag(cm))\n",
    "fp = cm.sum(axis=0) - np.diag(cm)\n",
    "specificity = np.mean(tn / (tn + fp + 1e-8))\n",
    "\n",
    "print(\"\\n=== Test Results ===\")\n",
    "print(f\" Loss={test_loss:.4f}, Acc={test_acc:.4f}, Prec={test_prec:.4f}, \"\n",
    "      f\"Rec={test_rec:.4f}, F1={test_f1:.4f}, AUC={test_auc:.4f}, Spec={specificity:.4f}\")\n",
    "\n",
    "# Confusion matrix plot\n",
    "plt.figure(figsize=(8, 6))\n",
    "sns.heatmap(cm, annot=True, fmt=\"d\", cmap=\"Blues\",\n",
    "            xticklabels=test_data.classes, yticklabels=test_data.classes)\n",
    "plt.xlabel(\"Predicted\")\n",
    "plt.ylabel(\"True\")\n",
    "plt.title(\"Confusion Matrix\")\n",
    "plt.tight_layout()\n",
    "plt.savefig(\"confusion_matrix.png\")\n",
    "plt.close()\n",
    "\n",
    "# =====================\n",
    "# FINAL SUMMARY PLOT\n",
    "# =====================\n",
    "plt.figure(figsize=(12, 4))\n",
    "plt.subplot(1, 3, 1)\n",
    "plt.plot(history[\"train_loss\"], label=\"Train\")\n",
    "plt.plot(history[\"val_loss\"], label=\"Val\")\n",
    "plt.title(\"Loss\")\n",
    "plt.legend()\n",
    "\n",
    "plt.subplot(1, 3, 2)\n",
    "plt.plot(history[\"train_acc\"], label=\"Train\")\n",
    "plt.plot(history[\"val_acc\"], label=\"Val\")\n",
    "plt.title(\"Accuracy\")\n",
    "plt.legend()\n",
    "\n",
    "plt.subplot(1, 3, 3)\n",
    "plt.plot(history[\"train_auc\"], label=\"Train\")\n",
    "plt.plot(history[\"val_auc\"], label=\"Val\")\n",
    "plt.title(\"AUC\")\n",
    "plt.legend()\n",
    "\n",
    "plt.tight_layout()\n",
    "plt.savefig(\"summary.png\")\n",
    "plt.show()\n"
   ]
  },
  {
   "cell_type": "code",
   "execution_count": 7,
   "id": "278c55ee",
   "metadata": {},
   "outputs": [
    {
     "name": "stdout",
     "output_type": "stream",
     "text": [
      "Using cuda\n"
     ]
    },
    {
     "name": "stderr",
     "output_type": "stream",
     "text": [
      "Epoch 1/60 [Train]: 100%|██████████| 393/393 [02:34<00:00,  2.55it/s]\n",
      "Epoch 1/60 [Val]: 100%|██████████| 84/84 [00:23<00:00,  3.53it/s]\n"
     ]
    },
    {
     "name": "stdout",
     "output_type": "stream",
     "text": [
      "\n",
      "Epoch 1:\n",
      " Train -> Loss=0.9321, Acc=0.6940, Prec=0.4804, Rec=0.4474, F1=0.4596, AUC=0.8277\n",
      " Val   -> Loss=0.7511, Acc=0.7693, Prec=0.6566, Rec=0.5849, F1=0.5890, AUC=0.9023\n",
      "Best model (AUC) saved with AUC = 0.9023\n",
      "Best model (Loss) saved with Loss = 0.7511\n"
     ]
    },
    {
     "name": "stderr",
     "output_type": "stream",
     "text": [
      "Epoch 2/60 [Train]: 100%|██████████| 393/393 [02:24<00:00,  2.72it/s]\n",
      "Epoch 2/60 [Val]: 100%|██████████| 84/84 [00:21<00:00,  3.91it/s]\n"
     ]
    },
    {
     "name": "stdout",
     "output_type": "stream",
     "text": [
      "\n",
      "Epoch 2:\n",
      " Train -> Loss=0.7620, Acc=0.7434, Prec=0.5634, Rec=0.5193, F1=0.5376, AUC=0.8822\n",
      " Val   -> Loss=0.6835, Acc=0.7433, Prec=0.5976, Rec=0.5316, F1=0.5024, AUC=0.9217\n",
      "Best model (AUC) saved with AUC = 0.9217\n",
      "Best model (Loss) saved with Loss = 0.6835\n"
     ]
    },
    {
     "name": "stderr",
     "output_type": "stream",
     "text": [
      "Epoch 3/60 [Train]: 100%|██████████| 393/393 [02:20<00:00,  2.79it/s]\n",
      "Epoch 3/60 [Val]: 100%|██████████| 84/84 [00:21<00:00,  3.97it/s]\n"
     ]
    },
    {
     "name": "stdout",
     "output_type": "stream",
     "text": [
      "\n",
      "Epoch 3:\n",
      " Train -> Loss=0.6983, Acc=0.7638, Prec=0.5926, Rec=0.5496, F1=0.5667, AUC=0.8975\n",
      " Val   -> Loss=0.8147, Acc=0.7701, Prec=0.6462, Rec=0.5787, F1=0.5497, AUC=0.8600\n",
      "Validation AUC 0.8600 did not improve from 0.9217\n",
      "Validation Loss 0.8147 did not reduce from 0.6835\n"
     ]
    },
    {
     "name": "stderr",
     "output_type": "stream",
     "text": [
      "Epoch 4/60 [Train]: 100%|██████████| 393/393 [02:19<00:00,  2.81it/s]\n",
      "Epoch 4/60 [Val]: 100%|██████████| 84/84 [00:21<00:00,  3.99it/s]\n"
     ]
    },
    {
     "name": "stdout",
     "output_type": "stream",
     "text": [
      "\n",
      "Epoch 4:\n",
      " Train -> Loss=0.6331, Acc=0.7813, Prec=0.6225, Rec=0.5795, F1=0.5973, AUC=0.9142\n",
      " Val   -> Loss=0.5994, Acc=0.8244, Prec=0.7117, Rec=0.6620, F1=0.6725, AUC=0.9312\n",
      "Best model (AUC) saved with AUC = 0.9312\n",
      "Best model (Loss) saved with Loss = 0.5994\n"
     ]
    },
    {
     "name": "stderr",
     "output_type": "stream",
     "text": [
      "Epoch 5/60 [Train]: 100%|██████████| 393/393 [02:19<00:00,  2.82it/s]\n",
      "Epoch 5/60 [Val]: 100%|██████████| 84/84 [00:21<00:00,  3.96it/s]\n"
     ]
    },
    {
     "name": "stdout",
     "output_type": "stream",
     "text": [
      "\n",
      "Epoch 5:\n",
      " Train -> Loss=0.5598, Acc=0.8036, Prec=0.6659, Rec=0.6247, F1=0.6421, AUC=0.9327\n",
      " Val   -> Loss=0.4606, Acc=0.8482, Prec=0.7688, Rec=0.6988, F1=0.7212, AUC=0.9533\n",
      "Best model (AUC) saved with AUC = 0.9533\n",
      "Best model (Loss) saved with Loss = 0.4606\n"
     ]
    },
    {
     "name": "stderr",
     "output_type": "stream",
     "text": [
      "Epoch 6/60 [Train]: 100%|██████████| 393/393 [02:19<00:00,  2.81it/s]\n",
      "Epoch 6/60 [Val]: 100%|██████████| 84/84 [00:21<00:00,  3.98it/s]\n"
     ]
    },
    {
     "name": "stdout",
     "output_type": "stream",
     "text": [
      "\n",
      "Epoch 6:\n",
      " Train -> Loss=0.5138, Acc=0.8202, Prec=0.6990, Rec=0.6608, F1=0.6774, AUC=0.9438\n",
      " Val   -> Loss=0.4741, Acc=0.8408, Prec=0.7755, Rec=0.6614, F1=0.6603, AUC=0.9556\n",
      "Best model (AUC) saved with AUC = 0.9556\n",
      "Validation Loss 0.4741 did not reduce from 0.4606\n"
     ]
    },
    {
     "name": "stderr",
     "output_type": "stream",
     "text": [
      "Epoch 7/60 [Train]: 100%|██████████| 393/393 [02:19<00:00,  2.81it/s]\n",
      "Epoch 7/60 [Val]: 100%|██████████| 84/84 [00:22<00:00,  3.76it/s]\n"
     ]
    },
    {
     "name": "stdout",
     "output_type": "stream",
     "text": [
      "\n",
      "Epoch 7:\n",
      " Train -> Loss=0.4764, Acc=0.8338, Prec=0.7228, Rec=0.6832, F1=0.7003, AUC=0.9511\n",
      " Val   -> Loss=0.4588, Acc=0.8434, Prec=0.7690, Rec=0.7029, F1=0.7147, AUC=0.9595\n",
      "Best model (AUC) saved with AUC = 0.9595\n",
      "Best model (Loss) saved with Loss = 0.4588\n"
     ]
    },
    {
     "name": "stderr",
     "output_type": "stream",
     "text": [
      "Epoch 8/60 [Train]: 100%|██████████| 393/393 [02:23<00:00,  2.73it/s]\n",
      "Epoch 8/60 [Val]: 100%|██████████| 84/84 [00:22<00:00,  3.72it/s]\n"
     ]
    },
    {
     "name": "stdout",
     "output_type": "stream",
     "text": [
      "\n",
      "Epoch 8:\n",
      " Train -> Loss=0.4350, Acc=0.8511, Prec=0.7526, Rec=0.7121, F1=0.7297, AUC=0.9584\n",
      " Val   -> Loss=0.4319, Acc=0.8504, Prec=0.7444, Rec=0.7538, F1=0.7430, AUC=0.9612\n",
      "Best model (AUC) saved with AUC = 0.9612\n",
      "Best model (Loss) saved with Loss = 0.4319\n"
     ]
    },
    {
     "name": "stderr",
     "output_type": "stream",
     "text": [
      "Epoch 9/60 [Train]: 100%|██████████| 393/393 [02:22<00:00,  2.75it/s]\n",
      "Epoch 9/60 [Val]: 100%|██████████| 84/84 [00:21<00:00,  3.89it/s]\n"
     ]
    },
    {
     "name": "stdout",
     "output_type": "stream",
     "text": [
      "\n",
      "Epoch 9:\n",
      " Train -> Loss=0.4047, Acc=0.8609, Prec=0.7737, Rec=0.7394, F1=0.7550, AUC=0.9639\n",
      " Val   -> Loss=0.4135, Acc=0.8631, Prec=0.7748, Rec=0.7426, F1=0.7544, AUC=0.9623\n",
      "Best model (AUC) saved with AUC = 0.9623\n",
      "Best model (Loss) saved with Loss = 0.4135\n"
     ]
    },
    {
     "name": "stderr",
     "output_type": "stream",
     "text": [
      "Epoch 10/60 [Train]: 100%|██████████| 393/393 [02:21<00:00,  2.77it/s]\n",
      "Epoch 10/60 [Val]: 100%|██████████| 84/84 [00:21<00:00,  3.99it/s]\n"
     ]
    },
    {
     "name": "stdout",
     "output_type": "stream",
     "text": [
      "\n",
      "Epoch 10:\n",
      " Train -> Loss=0.3836, Acc=0.8660, Prec=0.7794, Rec=0.7504, F1=0.7637, AUC=0.9670\n",
      " Val   -> Loss=0.4048, Acc=0.8735, Prec=0.7882, Rec=0.7639, F1=0.7735, AUC=0.9643\n",
      "Best model (AUC) saved with AUC = 0.9643\n",
      "Best model (Loss) saved with Loss = 0.4048\n"
     ]
    },
    {
     "name": "stderr",
     "output_type": "stream",
     "text": [
      "Epoch 11/60 [Train]: 100%|██████████| 393/393 [02:21<00:00,  2.78it/s]\n",
      "Epoch 11/60 [Val]: 100%|██████████| 84/84 [00:21<00:00,  3.92it/s]\n"
     ]
    },
    {
     "name": "stdout",
     "output_type": "stream",
     "text": [
      "\n",
      "Epoch 11:\n",
      " Train -> Loss=0.3722, Acc=0.8691, Prec=0.7870, Rec=0.7523, F1=0.7684, AUC=0.9690\n",
      " Val   -> Loss=0.4046, Acc=0.8731, Prec=0.7906, Rec=0.7575, F1=0.7695, AUC=0.9643\n",
      "Best model (AUC) saved with AUC = 0.9643\n",
      "Best model (Loss) saved with Loss = 0.4046\n"
     ]
    },
    {
     "name": "stderr",
     "output_type": "stream",
     "text": [
      "Epoch 12/60 [Train]: 100%|██████████| 393/393 [02:22<00:00,  2.76it/s]\n",
      "Epoch 12/60 [Val]: 100%|██████████| 84/84 [00:21<00:00,  3.98it/s]\n"
     ]
    },
    {
     "name": "stdout",
     "output_type": "stream",
     "text": [
      "\n",
      "Epoch 12:\n",
      " Train -> Loss=0.3819, Acc=0.8683, Prec=0.7812, Rec=0.7517, F1=0.7652, AUC=0.9671\n",
      " Val   -> Loss=0.3987, Acc=0.8728, Prec=0.7849, Rec=0.7539, F1=0.7659, AUC=0.9648\n",
      "Best model (AUC) saved with AUC = 0.9648\n",
      "Best model (Loss) saved with Loss = 0.3987\n"
     ]
    },
    {
     "name": "stderr",
     "output_type": "stream",
     "text": [
      "Epoch 13/60 [Train]: 100%|██████████| 393/393 [02:21<00:00,  2.77it/s]\n",
      "Epoch 13/60 [Val]: 100%|██████████| 84/84 [00:21<00:00,  3.89it/s]\n"
     ]
    },
    {
     "name": "stdout",
     "output_type": "stream",
     "text": [
      "\n",
      "Epoch 13:\n",
      " Train -> Loss=0.3825, Acc=0.8646, Prec=0.7774, Rec=0.7445, F1=0.7596, AUC=0.9676\n",
      " Val   -> Loss=0.4139, Acc=0.8676, Prec=0.7795, Rec=0.7524, F1=0.7628, AUC=0.9629\n",
      "Validation AUC 0.9629 did not improve from 0.9648\n",
      "Validation Loss 0.4139 did not reduce from 0.3987\n"
     ]
    },
    {
     "name": "stderr",
     "output_type": "stream",
     "text": [
      "Epoch 14/60 [Train]: 100%|██████████| 393/393 [02:28<00:00,  2.65it/s]\n",
      "Epoch 14/60 [Val]: 100%|██████████| 84/84 [00:33<00:00,  2.53it/s]\n"
     ]
    },
    {
     "name": "stdout",
     "output_type": "stream",
     "text": [
      "\n",
      "Epoch 14:\n",
      " Train -> Loss=0.4087, Acc=0.8522, Prec=0.7551, Rec=0.7266, F1=0.7396, AUC=0.9639\n",
      " Val   -> Loss=0.4345, Acc=0.8564, Prec=0.7759, Rec=0.7371, F1=0.7491, AUC=0.9613\n",
      "Validation AUC 0.9613 did not improve from 0.9648\n",
      "Validation Loss 0.4345 did not reduce from 0.3987\n"
     ]
    },
    {
     "name": "stderr",
     "output_type": "stream",
     "text": [
      "Epoch 15/60 [Train]: 100%|██████████| 393/393 [02:26<00:00,  2.68it/s]\n",
      "Epoch 15/60 [Val]: 100%|██████████| 84/84 [00:21<00:00,  3.95it/s]\n"
     ]
    },
    {
     "name": "stdout",
     "output_type": "stream",
     "text": [
      "\n",
      "Epoch 15:\n",
      " Train -> Loss=0.4411, Acc=0.8467, Prec=0.7477, Rec=0.7131, F1=0.7286, AUC=0.9582\n",
      " Val   -> Loss=0.5677, Acc=0.8158, Prec=0.7527, Rec=0.6107, F1=0.6126, AUC=0.9408\n",
      "Validation AUC 0.9408 did not improve from 0.9648\n",
      "Validation Loss 0.5677 did not reduce from 0.3987\n"
     ]
    },
    {
     "name": "stderr",
     "output_type": "stream",
     "text": [
      "Epoch 16/60 [Train]: 100%|██████████| 393/393 [02:16<00:00,  2.87it/s]\n",
      "Epoch 16/60 [Val]: 100%|██████████| 84/84 [00:20<00:00,  4.07it/s]\n"
     ]
    },
    {
     "name": "stdout",
     "output_type": "stream",
     "text": [
      "\n",
      "Epoch 16:\n",
      " Train -> Loss=0.4683, Acc=0.8357, Prec=0.7276, Rec=0.6887, F1=0.7058, AUC=0.9535\n",
      " Val   -> Loss=0.4960, Acc=0.8333, Prec=0.7329, Rec=0.7078, F1=0.7111, AUC=0.9545\n",
      "Validation AUC 0.9545 did not improve from 0.9648\n",
      "Validation Loss 0.4960 did not reduce from 0.3987\n"
     ]
    },
    {
     "name": "stderr",
     "output_type": "stream",
     "text": [
      "Epoch 17/60 [Train]: 100%|██████████| 393/393 [02:20<00:00,  2.79it/s]\n",
      "Epoch 17/60 [Val]: 100%|██████████| 84/84 [00:21<00:00,  3.98it/s]\n"
     ]
    },
    {
     "name": "stdout",
     "output_type": "stream",
     "text": [
      "\n",
      "Epoch 17:\n",
      " Train -> Loss=0.4136, Acc=0.8561, Prec=0.7627, Rec=0.7329, F1=0.7465, AUC=0.9623\n",
      " Val   -> Loss=0.4466, Acc=0.8594, Prec=0.7772, Rec=0.7200, F1=0.7359, AUC=0.9591\n",
      "Validation AUC 0.9591 did not improve from 0.9648\n",
      "Validation Loss 0.4466 did not reduce from 0.3987\n"
     ]
    },
    {
     "name": "stderr",
     "output_type": "stream",
     "text": [
      "Epoch 18/60 [Train]: 100%|██████████| 393/393 [02:18<00:00,  2.84it/s]\n",
      "Epoch 18/60 [Val]: 100%|██████████| 84/84 [00:20<00:00,  4.03it/s]\n"
     ]
    },
    {
     "name": "stdout",
     "output_type": "stream",
     "text": [
      "\n",
      "Epoch 18:\n",
      " Train -> Loss=0.4091, Acc=0.8573, Prec=0.7633, Rec=0.7326, F1=0.7463, AUC=0.9634\n",
      " Val   -> Loss=0.4597, Acc=0.8538, Prec=0.7617, Rec=0.7319, F1=0.7385, AUC=0.9569\n",
      "Validation AUC 0.9569 did not improve from 0.9648\n",
      "Validation Loss 0.4597 did not reduce from 0.3987\n",
      "Early stopping triggered!\n",
      "\n",
      "=== Test Results ===\n",
      " Loss=0.4033, Acc=0.8613, Prec=0.7545, Rec=0.7362, F1=0.7440, AUC=0.9638, Spec=0.9594\n"
     ]
    },
    {
     "data": {
      "image/png": "[encoded data removed]",
      "text/plain": [
       "<Figure size 1200x400 with 3 Axes>"
      ]
     },
     "metadata": {},
     "output_type": "display_data"
    }
   ],
   "source": [
    "import torch\n",
    "import torch.nn as nn\n",
    "import torch.optim as optim\n",
    "from torch.utils.data import DataLoader\n",
    "from torchvision import datasets, transforms, models\n",
    "from sklearn.metrics import (\n",
    "    accuracy_score, precision_score, recall_score, f1_score,\n",
    "    roc_auc_score, confusion_matrix\n",
    ")\n",
    "import numpy as np\n",
    "from tqdm import tqdm\n",
    "import matplotlib.pyplot as plt\n",
    "import seaborn as sns\n",
    "\n",
    "# =====================\n",
    "# CONFIGURATION\n",
    "# =====================\n",
    "config = {\n",
    "    \"model\": \"mobilenetv2\",   # Options: mobilenetv2, convnext, dct, stft, wavelet, learnable_freq\n",
    "    \"epochs\": 60,\n",
    "    \"batch_size\": 32,\n",
    "    \"lr\": 1e-3,\n",
    "    \"weight_decay\": 1e-4,     # added for regularization\n",
    "    \"early_stopping_patience\": 7,\n",
    "    \"dropout\": 0.4,           # try 0.3, 0.4, 0.5\n",
    "    \"num_classes\": 5,  # update based on dataset\n",
    "    \"train_dir\": r\"F:\\final project\\Capstone Prj\\Dataset\\dataset_split\\train\",\n",
    "    \"val_dir\": r\"F:\\final project\\Capstone Prj\\Dataset\\dataset_split\\val\",\n",
    "    \"test_dir\": r\"F:\\final project\\Capstone Prj\\Dataset\\dataset_split\\test\",\n",
    "}\n",
    "\n",
    "# =====================\n",
    "# DATA PIPELINE\n",
    "# =====================\n",
    "train_transform = transforms.Compose([\n",
    "    transforms.Resize((224, 224)),\n",
    "    transforms.RandomHorizontalFlip(),\n",
    "    transforms.RandomRotation(15),\n",
    "    transforms.ColorJitter(brightness=0.2, contrast=0.2, saturation=0.2),\n",
    "    transforms.ToTensor(),\n",
    "])\n",
    "\n",
    "test_transform = transforms.Compose([\n",
    "    transforms.Resize((224, 224)),\n",
    "    transforms.ToTensor(),\n",
    "])\n",
    "\n",
    "train_data = datasets.ImageFolder(config[\"train_dir\"], transform=train_transform)\n",
    "val_data = datasets.ImageFolder(config[\"val_dir\"], transform=test_transform)\n",
    "test_data = datasets.ImageFolder(config[\"test_dir\"], transform=test_transform)\n",
    "\n",
    "train_loader = DataLoader(train_data, batch_size=config[\"batch_size\"], shuffle=True)\n",
    "val_loader = DataLoader(val_data, batch_size=config[\"batch_size\"], shuffle=False)\n",
    "test_loader = DataLoader(test_data, batch_size=config[\"batch_size\"], shuffle=False)\n",
    "\n",
    "# =====================\n",
    "# DEVICE\n",
    "# =====================\n",
    "device = torch.device(\"cuda\" if torch.cuda.is_available() else \"cpu\")\n",
    "print(f\"Using {device}\")\n",
    "\n",
    "# =====================\n",
    "# MODEL BUILDER\n",
    "# =====================\n",
    "class ClassifierHead(nn.Module):\n",
    "    def __init__(self, in_features, num_classes, dropout=0.5):\n",
    "        super().__init__()\n",
    "        self.fc = nn.Sequential(\n",
    "            nn.BatchNorm1d(in_features),\n",
    "            nn.Dropout(dropout),\n",
    "            nn.Linear(in_features, num_classes)\n",
    "        )\n",
    "    def forward(self, x):\n",
    "        return self.fc(x)\n",
    "\n",
    "def build_model(config):\n",
    "    if config[\"model\"] == \"mobilenetv2\":\n",
    "        base = models.mobilenet_v2(weights=\"IMAGENET1K_V1\")\n",
    "        in_features = base.classifier[1].in_features\n",
    "        base.classifier = ClassifierHead(in_features, config[\"num_classes\"], config[\"dropout\"])\n",
    "        return base\n",
    "\n",
    "    elif config[\"model\"] == \"convnext\":\n",
    "        base = models.convnext_tiny(weights=\"IMAGENET1K_V1\")\n",
    "        in_features = base.classifier[2].in_features\n",
    "        base.classifier[2] = nn.Linear(in_features, config[\"num_classes\"])\n",
    "        return base\n",
    "\n",
    "    elif config[\"model\"] == \"dct\":\n",
    "        return nn.Sequential(\n",
    "            nn.Flatten(),\n",
    "            nn.Linear(224*224*3, 512),\n",
    "            nn.ReLU(),\n",
    "            nn.Dropout(config[\"dropout\"]),\n",
    "            nn.Linear(512, config[\"num_classes\"])\n",
    "        )\n",
    "\n",
    "    elif config[\"model\"] == \"stft\":\n",
    "        return nn.Sequential(\n",
    "            nn.Conv2d(3, 16, 3, padding=1),\n",
    "            nn.ReLU(),\n",
    "            nn.AdaptiveAvgPool2d((1, 1)),\n",
    "            nn.Flatten(),\n",
    "            nn.Linear(16, config[\"num_classes\"])\n",
    "        )\n",
    "\n",
    "    elif config[\"model\"] == \"wavelet\":\n",
    "        return nn.Sequential(\n",
    "            nn.Conv2d(3, 32, 3, padding=1),\n",
    "            nn.ReLU(),\n",
    "            nn.AdaptiveAvgPool2d((1, 1)),\n",
    "            nn.Flatten(),\n",
    "            nn.Linear(32, config[\"num_classes\"])\n",
    "        )\n",
    "\n",
    "    elif config[\"model\"] == \"learnable_freq\":\n",
    "        return nn.Sequential(\n",
    "            nn.Conv2d(3, 32, 3, stride=1, padding=1),\n",
    "            nn.ReLU(),\n",
    "            nn.AdaptiveAvgPool2d((1, 1)),\n",
    "            nn.Flatten(),\n",
    "            nn.Linear(32, config[\"num_classes\"])\n",
    "        )\n",
    "\n",
    "    else:\n",
    "        raise ValueError(f\"Unknown model type: {config['model']}\")\n",
    "\n",
    "model = build_model(config).to(device)\n",
    "\n",
    "# =====================\n",
    "# TRAINING SETUP\n",
    "# =====================\n",
    "criterion = nn.CrossEntropyLoss()\n",
    "optimizer = optim.Adam(model.parameters(), lr=config[\"lr\"], weight_decay=config[\"weight_decay\"])\n",
    "\n",
    "# Scheduler: Reduce LR on plateau + Cosine Annealing\n",
    "scheduler_plateau = optim.lr_scheduler.ReduceLROnPlateau(optimizer, patience=3, factor=0.5)\n",
    "scheduler_cosine = optim.lr_scheduler.CosineAnnealingLR(optimizer, T_max=10)\n",
    "\n",
    "best_val_loss = np.inf\n",
    "best_val_auc = -np.inf\n",
    "patience_counter = 0\n",
    "\n",
    "# For tracking\n",
    "history = {\n",
    "    \"train_loss\": [], \"val_loss\": [],\n",
    "    \"train_acc\": [], \"val_acc\": [],\n",
    "    \"train_prec\": [], \"val_prec\": [],\n",
    "    \"train_rec\": [], \"val_rec\": [],\n",
    "    \"train_f1\": [], \"val_f1\": [],\n",
    "    \"train_auc\": [], \"val_auc\": []\n",
    "}\n",
    "\n",
    "# =====================\n",
    "# HELPER FUNCTIONS\n",
    "# =====================\n",
    "def compute_metrics(y_true, y_pred, y_prob, average=\"macro\"):\n",
    "    acc = accuracy_score(y_true, y_pred)\n",
    "    prec = precision_score(y_true, y_pred, average=average, zero_division=0)\n",
    "    rec = recall_score(y_true, y_pred, average=average, zero_division=0)\n",
    "    f1 = f1_score(y_true, y_pred, average=average, zero_division=0)\n",
    "    try:\n",
    "        auc = roc_auc_score(y_true, y_prob, multi_class=\"ovr\")\n",
    "    except:\n",
    "        auc = 0.0\n",
    "    return acc, prec, rec, f1, auc\n",
    "\n",
    "# =====================\n",
    "# TRAINING LOOP\n",
    "# =====================\n",
    "for epoch in range(config[\"epochs\"]):\n",
    "    # -------- TRAIN --------\n",
    "    model.train()\n",
    "    train_loss, train_preds, train_labels, train_probs = 0, [], [], []\n",
    "    for images, labels in tqdm(train_loader, desc=f\"Epoch {epoch+1}/{config['epochs']} [Train]\"):\n",
    "        images, labels = images.to(device), labels.to(device)\n",
    "        optimizer.zero_grad()\n",
    "        preds = model(images)\n",
    "        loss = criterion(preds, labels)\n",
    "        loss.backward()\n",
    "        optimizer.step()\n",
    "        train_loss += loss.item()\n",
    "        probs = torch.softmax(preds, dim=1)\n",
    "        train_preds.extend(torch.argmax(preds, 1).cpu().numpy())\n",
    "        train_labels.extend(labels.cpu().numpy())\n",
    "        train_probs.extend(probs.cpu().detach().numpy())\n",
    "\n",
    "    train_loss /= len(train_loader)\n",
    "    train_acc, train_prec, train_rec, train_f1, train_auc = compute_metrics(\n",
    "        train_labels, train_preds, train_probs\n",
    "    )\n",
    "\n",
    "    # -------- VALIDATION --------\n",
    "    model.eval()\n",
    "    val_loss, val_preds, val_labels, val_probs = 0, [], [], []\n",
    "    with torch.no_grad():\n",
    "        for images, labels in tqdm(val_loader, desc=f\"Epoch {epoch+1}/{config['epochs']} [Val]\"):\n",
    "            images, labels = images.to(device), labels.to(device)\n",
    "            preds = model(images)\n",
    "            loss = criterion(preds, labels)\n",
    "            val_loss += loss.item()\n",
    "            probs = torch.softmax(preds, dim=1)\n",
    "            val_preds.extend(torch.argmax(preds, 1).cpu().numpy())\n",
    "            val_labels.extend(labels.cpu().numpy())\n",
    "            val_probs.extend(probs.cpu().numpy())\n",
    "\n",
    "    val_loss /= len(val_loader)\n",
    "    val_acc, val_prec, val_rec, val_f1, val_auc = compute_metrics(\n",
    "        val_labels, val_preds, val_probs\n",
    "    )\n",
    "\n",
    "    # Save history\n",
    "    history[\"train_loss\"].append(train_loss)\n",
    "    history[\"val_loss\"].append(val_loss)\n",
    "    history[\"train_acc\"].append(train_acc)\n",
    "    history[\"val_acc\"].append(val_acc)\n",
    "    history[\"train_prec\"].append(train_prec)\n",
    "    history[\"val_prec\"].append(val_prec)\n",
    "    history[\"train_rec\"].append(train_rec)\n",
    "    history[\"val_rec\"].append(val_rec)\n",
    "    history[\"train_f1\"].append(train_f1)\n",
    "    history[\"val_f1\"].append(val_f1)\n",
    "    history[\"train_auc\"].append(train_auc)\n",
    "    history[\"val_auc\"].append(val_auc)\n",
    "\n",
    "    # Print results\n",
    "    print(f\"\\nEpoch {epoch+1}:\")\n",
    "    print(f\" Train -> Loss={train_loss:.4f}, Acc={train_acc:.4f}, Prec={train_prec:.4f}, \"\n",
    "          f\"Rec={train_rec:.4f}, F1={train_f1:.4f}, AUC={train_auc:.4f}\")\n",
    "    print(f\" Val   -> Loss={val_loss:.4f}, Acc={val_acc:.4f}, Prec={val_prec:.4f}, \"\n",
    "          f\"Rec={val_rec:.4f}, F1={val_f1:.4f}, AUC={val_auc:.4f}\")\n",
    "\n",
    "    # Save best model based on AUC\n",
    "    if val_auc > best_val_auc:\n",
    "        best_val_auc = val_auc\n",
    "        patience_counter = 0\n",
    "        torch.save(model.state_dict(), \"best_model_auc.pth\")\n",
    "        print(f\"Best model (AUC) saved with AUC = {best_val_auc:.4f}\")\n",
    "    else:\n",
    "        print(f\"Validation AUC {val_auc:.4f} did not improve from {best_val_auc:.4f}\")\n",
    "\n",
    "    # Save best model based on Loss\n",
    "    if val_loss < best_val_loss:\n",
    "        best_val_loss = val_loss\n",
    "        torch.save(model.state_dict(), \"best_model_loss.pth\")\n",
    "        print(f\"Best model (Loss) saved with Loss = {best_val_loss:.4f}\")\n",
    "    else:\n",
    "        print(f\"Validation Loss {val_loss:.4f} did not reduce from {best_val_loss:.4f}\")\n",
    "\n",
    "    # Step schedulers\n",
    "    scheduler_plateau.step(val_loss)\n",
    "    scheduler_cosine.step()\n",
    "\n",
    "    # Early stopping (based on both)\n",
    "    patience_counter += 1 if val_auc <= best_val_auc and val_loss >= best_val_loss else 0\n",
    "    if patience_counter >= config[\"early_stopping_patience\"]:\n",
    "        print(\"Early stopping triggered!\")\n",
    "        break\n",
    "\n",
    "    # Save plots every epoch\n",
    "    plt.figure(figsize=(12, 4))\n",
    "    plt.subplot(1, 3, 1)\n",
    "    plt.plot(history[\"train_loss\"], label=\"Train\")\n",
    "    plt.plot(history[\"val_loss\"], label=\"Val\")\n",
    "    plt.title(\"Loss\")\n",
    "    plt.legend()\n",
    "\n",
    "    plt.subplot(1, 3, 2)\n",
    "    plt.plot(history[\"train_acc\"], label=\"Train\")\n",
    "    plt.plot(history[\"val_acc\"], label=\"Val\")\n",
    "    plt.title(\"Accuracy\")\n",
    "    plt.legend()\n",
    "\n",
    "    plt.subplot(1, 3, 3)\n",
    "    plt.plot(history[\"train_auc\"], label=\"Train\")\n",
    "    plt.plot(history[\"val_auc\"], label=\"Val\")\n",
    "    plt.title(\"AUC\")\n",
    "    plt.legend()\n",
    "\n",
    "    plt.tight_layout()\n",
    "    plt.savefig(f\"epoch_{epoch+1}_plots.png\")\n",
    "    plt.close()\n",
    "\n",
    "# =====================\n",
    "# TESTING\n",
    "# =====================\n",
    "model_path = \"best_model_auc.pth\"  # load best by AUC\n",
    "model.load_state_dict(torch.load(model_path))\n",
    "model.eval()\n",
    "test_loss, test_preds, test_labels, test_probs = 0, [], [], []\n",
    "with torch.no_grad():\n",
    "    for images, labels in test_loader:\n",
    "        images, labels = images.to(device), labels.to(device)\n",
    "        preds = model(images)\n",
    "        loss = criterion(preds, labels)\n",
    "        test_loss += loss.item()\n",
    "        probs = torch.softmax(preds, dim=1)\n",
    "        test_preds.extend(torch.argmax(preds, 1).cpu().numpy())\n",
    "        test_labels.extend(labels.cpu().numpy())\n",
    "        test_probs.extend(probs.cpu().numpy())\n",
    "\n",
    "test_loss /= len(test_loader)\n",
    "test_acc, test_prec, test_rec, test_f1, test_auc = compute_metrics(test_labels, test_preds, test_probs)\n",
    "\n",
    "# Specificity (macro-averaged)\n",
    "cm = confusion_matrix(test_labels, test_preds)\n",
    "tn = cm.sum() - (cm.sum(axis=1) + cm.sum(axis=0) - np.diag(cm))\n",
    "fp = cm.sum(axis=0) - np.diag(cm)\n",
    "specificity = np.mean(tn / (tn + fp + 1e-8))\n",
    "\n",
    "print(\"\\n=== Test Results ===\")\n",
    "print(f\" Loss={test_loss:.4f}, Acc={test_acc:.4f}, Prec={test_prec:.4f}, \"\n",
    "      f\"Rec={test_rec:.4f}, F1={test_f1:.4f}, AUC={test_auc:.4f}, Spec={specificity:.4f}\")\n",
    "\n",
    "# Confusion matrix plot\n",
    "plt.figure(figsize=(8, 6))\n",
    "sns.heatmap(cm, annot=True, fmt=\"d\", cmap=\"Blues\",\n",
    "            xticklabels=test_data.classes, yticklabels=test_data.classes)\n",
    "plt.xlabel(\"Predicted\")\n",
    "plt.ylabel(\"True\")\n",
    "plt.title(\"Confusion Matrix\")\n",
    "plt.tight_layout()\n",
    "plt.savefig(\"confusion_matrix.png\")\n",
    "plt.close()\n",
    "\n",
    "# =====================\n",
    "# FINAL SUMMARY PLOT\n",
    "# =====================\n",
    "plt.figure(figsize=(12, 4))\n",
    "plt.subplot(1, 3, 1)\n",
    "plt.plot(history[\"train_loss\"], label=\"Train\")\n",
    "plt.plot(history[\"val_loss\"], label=\"Val\")\n",
    "plt.title(\"Loss\")\n",
    "plt.legend()\n",
    "\n",
    "plt.subplot(1, 3, 2)\n",
    "plt.plot(history[\"train_acc\"], label=\"Train\")\n",
    "plt.plot(history[\"val_acc\"], label=\"Val\")\n",
    "plt.title(\"Accuracy\")\n",
    "plt.legend()\n",
    "\n",
    "plt.subplot(1, 3, 3)\n",
    "plt.plot(history[\"train_auc\"], label=\"Train\")\n",
    "plt.plot(history[\"val_auc\"], label=\"Val\")\n",
    "plt.title(\"AUC\")\n",
    "plt.legend()\n",
    "\n",
    "plt.tight_layout()\n",
    "plt.savefig(\"summary.png\")\n",
    "plt.show()\n"
   ]
  }
 ],
 "metadata": {
  "kernelspec": {
   "display_name": "Capstone",
   "language": "python",
   "name": "python3"
  },
  "language_info": {
   "codemirror_mode": {
    "name": "ipython",
    "version": 3
   },
   "file_extension": ".py",
   "mimetype": "text/x-python",
   "name": "python",
   "nbconvert_exporter": "python",
   "pygments_lexer": "ipython3",
   "version": "3.13.5"
  }
 },
 "nbformat": 4,
 "nbformat_minor": 5
}

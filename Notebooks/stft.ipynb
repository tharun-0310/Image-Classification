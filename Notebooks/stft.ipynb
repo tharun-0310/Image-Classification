{
 "cells": [
  {
   "cell_type": "markdown",
   "id": "204b3b73",
   "metadata": {},
   "source": [
    "# Imports"
   ]
  },
  {
   "cell_type": "code",
   "execution_count": 1,
   "id": "6c2bc7ce",
   "metadata": {},
   "outputs": [],
   "source": [
    "import torch\n",
    "import os\n",
    "import torch.nn as nn\n",
    "import torch.optim as optim\n",
    "from torch.utils.data import DataLoader\n",
    "from torchvision import datasets, transforms, models\n",
    "from sklearn.metrics import (\n",
    "    accuracy_score, precision_score, recall_score, f1_score,\n",
    "    roc_auc_score, confusion_matrix\n",
    ")\n",
    "import numpy as np\n",
    "from tqdm import tqdm\n",
    "import matplotlib.pyplot as plt\n",
    "import seaborn as sns"
   ]
  },
  {
   "cell_type": "markdown",
   "id": "30c6abb6",
   "metadata": {},
   "source": [
    "# Configuration's"
   ]
  },
  {
   "cell_type": "code",
   "execution_count": 2,
   "id": "8748977d",
   "metadata": {},
   "outputs": [
    {
     "name": "stdout",
     "output_type": "stream",
     "text": [
      "Models will be saved in: models\\stft\\best_auc.pth\n",
      "Models will be saved in: models\\stft\\best_loss.pth\n"
     ]
    }
   ],
   "source": [
    "# =====================\n",
    "# CONFIGURATION\n",
    "# =====================\n",
    "config = {\n",
    "    \"model\": \"stft\",   # Options: mobilenetv2, convnext, dct, stft, wavelet, learnable_freq\n",
    "    \"epochs\": 60,\n",
    "    \"batch_size\": 32,\n",
    "    \"lr\": 1e-3,\n",
    "    \"early_stopping_patience\": 7,\n",
    "    \"dropout\": 0.4,\n",
    "    \"num_classes\": 5,  # update based on dataset\n",
    "    \"train_dir\": r\"F:\\final project\\Capstone Prj\\Dataset\\dataset_split\\train\",\n",
    "    \"val_dir\": r\"F:\\final project\\Capstone Prj\\Dataset\\dataset_split\\val\",\n",
    "    \"test_dir\": r\"F:\\final project\\Capstone Prj\\Dataset\\dataset_split\\test\",\n",
    "}\n",
    "config[\"save_dir\"] = os.path.join(\"models\", config[\"model\"])\n",
    "os.makedirs(config[\"save_dir\"], exist_ok=True)\n",
    "\n",
    "config[\"model_path_auc\"] = os.path.join(config[\"save_dir\"], \"best_auc.pth\")\n",
    "config[\"model_path_loss\"] = os.path.join(config[\"save_dir\"], \"best_loss.pth\")\n",
    "print(f\"Models will be saved in: {config['model_path_auc']}\")\n",
    "print(f\"Models will be saved in: {config['model_path_loss']}\")"
   ]
  },
  {
   "cell_type": "markdown",
   "id": "4c1b7db9",
   "metadata": {},
   "source": [
    "# Transformation and DataLoader"
   ]
  },
  {
   "cell_type": "code",
   "execution_count": 3,
   "id": "6058244e",
   "metadata": {},
   "outputs": [
    {
     "name": "stdout",
     "output_type": "stream",
     "text": [
      "Using device: cuda - NVIDIA GeForce RTX 3050 Laptop GPU\n"
     ]
    }
   ],
   "source": [
    "# =====================\n",
    "# DATA PIPELINE\n",
    "# =====================\n",
    "transform = transforms.Compose([\n",
    "    transforms.Resize((224, 224)),\n",
    "    transforms.ToTensor(),\n",
    "])\n",
    "\n",
    "train_data = datasets.ImageFolder(config[\"train_dir\"], transform=transform)\n",
    "val_data = datasets.ImageFolder(config[\"val_dir\"], transform=transform)\n",
    "test_data = datasets.ImageFolder(config[\"test_dir\"], transform=transform)\n",
    "\n",
    "train_loader = DataLoader(train_data, batch_size=config[\"batch_size\"], shuffle=True)\n",
    "val_loader = DataLoader(val_data, batch_size=config[\"batch_size\"], shuffle=False)\n",
    "test_loader = DataLoader(test_data, batch_size=config[\"batch_size\"], shuffle=False)\n",
    "\n",
    "# =====================\n",
    "# DEVICE\n",
    "# =====================\n",
    "device = torch.device(\"cuda\" if torch.cuda.is_available() else \"cpu\")\n",
    "print(f\"Using device: {device}\" + (f\" - {torch.cuda.get_device_name(0)}\" if torch.cuda.is_available() else \"\"))"
   ]
  },
  {
   "cell_type": "markdown",
   "id": "0944a897",
   "metadata": {},
   "source": [
    "# Model Builder"
   ]
  },
  {
   "cell_type": "code",
   "execution_count": 4,
   "id": "87224b01",
   "metadata": {},
   "outputs": [],
   "source": [
    "# =====================\n",
    "# MODEL BUILDER\n",
    "# =====================\n",
    "class ClassifierHead(nn.Module):\n",
    "    def __init__(self, in_features, num_classes, dropout=0.5):\n",
    "        super().__init__()\n",
    "        self.fc = nn.Sequential(\n",
    "            nn.BatchNorm1d(in_features),\n",
    "            nn.Dropout(dropout),\n",
    "            nn.Linear(in_features, num_classes)\n",
    "        )\n",
    "    def forward(self, x):\n",
    "        return self.fc(x)\n",
    "\n",
    "def build_model(config):\n",
    "    if config[\"model\"] == \"mobilenetv2\":\n",
    "        base = models.mobilenet_v2(weights=\"IMAGENET1K_V1\")\n",
    "        in_features = base.classifier[1].in_features\n",
    "        base.classifier = ClassifierHead(in_features, config[\"num_classes\"], config[\"dropout\"])\n",
    "        return base\n",
    "\n",
    "    elif config[\"model\"] == \"convnext\":\n",
    "        base = models.convnext_tiny(weights=\"IMAGENET1K_V1\")\n",
    "        in_features = base.classifier[2].in_features\n",
    "        base.classifier[2] = nn.Linear(in_features, config[\"num_classes\"])\n",
    "        return base\n",
    "\n",
    "    elif config[\"model\"] == \"dct\":\n",
    "        return nn.Sequential(\n",
    "            nn.Flatten(),\n",
    "            nn.Linear(224*224*3, 512),\n",
    "            nn.ReLU(),\n",
    "            nn.Dropout(config[\"dropout\"]),\n",
    "            nn.Linear(512, config[\"num_classes\"])\n",
    "        )\n",
    "\n",
    "    elif config[\"model\"] == \"stft\":\n",
    "        return nn.Sequential(\n",
    "            nn.Conv2d(3, 16, 3, padding=1),\n",
    "            nn.ReLU(),\n",
    "            nn.AdaptiveAvgPool2d((1, 1)),\n",
    "            nn.Flatten(),\n",
    "            nn.Linear(16, config[\"num_classes\"])\n",
    "        )\n",
    "\n",
    "    elif config[\"model\"] == \"wavelet\":\n",
    "        return nn.Sequential(\n",
    "            nn.Conv2d(3, 32, 3, padding=1),\n",
    "            nn.ReLU(),\n",
    "            nn.AdaptiveAvgPool2d((1, 1)),\n",
    "            nn.Flatten(),\n",
    "            nn.Linear(32, config[\"num_classes\"])\n",
    "        )\n",
    "\n",
    "    elif config[\"model\"] == \"learnable_freq\":\n",
    "        return nn.Sequential(\n",
    "            nn.Conv2d(3, 32, 3, stride=1, padding=1),\n",
    "            nn.ReLU(),\n",
    "            nn.AdaptiveAvgPool2d((1, 1)),\n",
    "            nn.Flatten(),\n",
    "            nn.Linear(32, config[\"num_classes\"])\n",
    "        )\n",
    "\n",
    "    else:\n",
    "        raise ValueError(f\"Unknown model type: {config['model']}\")\n",
    "\n",
    "model = build_model(config).to(device)\n",
    "\n",
    "# =====================\n",
    "# TRAINING SETUP\n",
    "# =====================\n",
    "criterion = nn.CrossEntropyLoss()\n",
    "optimizer = optim.Adam(model.parameters(), lr=config[\"lr\"])\n",
    "scheduler = optim.lr_scheduler.ReduceLROnPlateau(optimizer, patience=2, factor=0.5)"
   ]
  },
  {
   "cell_type": "markdown",
   "id": "d326091d",
   "metadata": {},
   "source": [
    "# Helper Function's"
   ]
  },
  {
   "cell_type": "code",
   "execution_count": 5,
   "id": "37c76d82",
   "metadata": {},
   "outputs": [],
   "source": [
    "# =====================\n",
    "# HELPER FUNCTIONS\n",
    "# =====================\n",
    "def compute_metrics(y_true, y_pred, y_prob, average=\"macro\"):\n",
    "    acc = accuracy_score(y_true, y_pred)\n",
    "    prec = precision_score(y_true, y_pred, average=average, zero_division=0)\n",
    "    rec = recall_score(y_true, y_pred, average=average, zero_division=0)\n",
    "    f1 = f1_score(y_true, y_pred, average=average, zero_division=0)\n",
    "    try:\n",
    "        auc = roc_auc_score(y_true, y_prob, multi_class=\"ovr\")\n",
    "    except:\n",
    "        auc = 0.0\n",
    "    return acc, prec, rec, f1, auc"
   ]
  },
  {
   "cell_type": "markdown",
   "id": "a43892c3",
   "metadata": {},
   "source": [
    "# Training and Validation"
   ]
  },
  {
   "cell_type": "code",
   "execution_count": 6,
   "id": "a19a3dee",
   "metadata": {},
   "outputs": [
    {
     "name": "stderr",
     "output_type": "stream",
     "text": [
      "Epoch 1/60 [Train]: 100%|██████████| 393/393 [02:02<00:00,  3.20it/s]\n",
      "Epoch 1/60 [Val]: 100%|██████████| 84/84 [00:25<00:00,  3.27it/s]\n"
     ]
    },
    {
     "name": "stdout",
     "output_type": "stream",
     "text": [
      "\n",
      "Epoch 1:\n",
      " Train -> Loss=1.2427, Acc=0.5695, Prec=0.3641, Rec=0.1991, F1=0.1678, AUC=0.5225\n",
      " Val   -> Loss=1.1845, Acc=0.6153, Prec=0.1231, Rec=0.2000, F1=0.1524, AUC=0.5368\n",
      "Best model (AUC) saved with AUC = 0.5368\n",
      "Best model (Loss) saved with Loss = 1.1845\n"
     ]
    },
    {
     "name": "stderr",
     "output_type": "stream",
     "text": [
      "Epoch 2/60 [Train]: 100%|██████████| 393/393 [01:50<00:00,  3.55it/s]\n",
      "Epoch 2/60 [Val]: 100%|██████████| 84/84 [00:23<00:00,  3.58it/s]\n"
     ]
    },
    {
     "name": "stdout",
     "output_type": "stream",
     "text": [
      "\n",
      "Epoch 2:\n",
      " Train -> Loss=1.1863, Acc=0.6148, Prec=0.1230, Rec=0.2000, F1=0.1523, AUC=0.5304\n",
      " Val   -> Loss=1.1809, Acc=0.6153, Prec=0.1231, Rec=0.2000, F1=0.1524, AUC=0.5428\n",
      "Best model (AUC) saved with AUC = 0.5428\n",
      "Best model (Loss) saved with Loss = 1.1809\n"
     ]
    },
    {
     "name": "stderr",
     "output_type": "stream",
     "text": [
      "Epoch 3/60 [Train]: 100%|██████████| 393/393 [03:40<00:00,  1.78it/s]\n",
      "Epoch 3/60 [Val]: 100%|██████████| 84/84 [00:20<00:00,  4.16it/s]\n"
     ]
    },
    {
     "name": "stdout",
     "output_type": "stream",
     "text": [
      "\n",
      "Epoch 3:\n",
      " Train -> Loss=1.1837, Acc=0.6148, Prec=0.1230, Rec=0.2000, F1=0.1523, AUC=0.5368\n",
      " Val   -> Loss=1.1772, Acc=0.6153, Prec=0.1231, Rec=0.2000, F1=0.1524, AUC=0.5528\n",
      "Best model (AUC) saved with AUC = 0.5528\n",
      "Best model (Loss) saved with Loss = 1.1772\n"
     ]
    },
    {
     "name": "stderr",
     "output_type": "stream",
     "text": [
      "Epoch 4/60 [Train]: 100%|██████████| 393/393 [03:03<00:00,  2.14it/s]\n",
      "Epoch 4/60 [Val]: 100%|██████████| 84/84 [00:43<00:00,  1.92it/s]\n"
     ]
    },
    {
     "name": "stdout",
     "output_type": "stream",
     "text": [
      "\n",
      "Epoch 4:\n",
      " Train -> Loss=1.1801, Acc=0.6148, Prec=0.1230, Rec=0.2000, F1=0.1523, AUC=0.5434\n",
      " Val   -> Loss=1.1724, Acc=0.6153, Prec=0.1231, Rec=0.2000, F1=0.1524, AUC=0.5636\n",
      "Best model (AUC) saved with AUC = 0.5636\n",
      "Best model (Loss) saved with Loss = 1.1724\n"
     ]
    },
    {
     "name": "stderr",
     "output_type": "stream",
     "text": [
      "Epoch 5/60 [Train]: 100%|██████████| 393/393 [03:13<00:00,  2.04it/s]\n",
      "Epoch 5/60 [Val]: 100%|██████████| 84/84 [00:20<00:00,  4.10it/s]\n"
     ]
    },
    {
     "name": "stdout",
     "output_type": "stream",
     "text": [
      "\n",
      "Epoch 5:\n",
      " Train -> Loss=1.1772, Acc=0.6148, Prec=0.1230, Rec=0.2000, F1=0.1523, AUC=0.5526\n",
      " Val   -> Loss=1.1723, Acc=0.6153, Prec=0.1231, Rec=0.2000, F1=0.1524, AUC=0.5686\n",
      "Best model (AUC) saved with AUC = 0.5686\n",
      "Best model (Loss) saved with Loss = 1.1723\n"
     ]
    },
    {
     "name": "stderr",
     "output_type": "stream",
     "text": [
      "Epoch 6/60 [Train]: 100%|██████████| 393/393 [03:42<00:00,  1.77it/s]\n",
      "Epoch 6/60 [Val]: 100%|██████████| 84/84 [00:52<00:00,  1.58it/s]\n"
     ]
    },
    {
     "name": "stdout",
     "output_type": "stream",
     "text": [
      "\n",
      "Epoch 6:\n",
      " Train -> Loss=1.1760, Acc=0.6148, Prec=0.1230, Rec=0.2000, F1=0.1523, AUC=0.5587\n",
      " Val   -> Loss=1.1686, Acc=0.6153, Prec=0.1231, Rec=0.2000, F1=0.1524, AUC=0.5767\n",
      "Best model (AUC) saved with AUC = 0.5767\n",
      "Best model (Loss) saved with Loss = 1.1686\n"
     ]
    },
    {
     "name": "stderr",
     "output_type": "stream",
     "text": [
      "Epoch 7/60 [Train]: 100%|██████████| 393/393 [03:51<00:00,  1.70it/s]\n",
      "Epoch 7/60 [Val]: 100%|██████████| 84/84 [00:55<00:00,  1.51it/s]\n"
     ]
    },
    {
     "name": "stdout",
     "output_type": "stream",
     "text": [
      "\n",
      "Epoch 7:\n",
      " Train -> Loss=1.1736, Acc=0.6148, Prec=0.1230, Rec=0.2000, F1=0.1523, AUC=0.5636\n",
      " Val   -> Loss=1.1697, Acc=0.6153, Prec=0.1231, Rec=0.2000, F1=0.1524, AUC=0.5836\n",
      "Best model (AUC) saved with AUC = 0.5836\n",
      "Validation Loss 1.1697 did not reduced from 1.1686\n"
     ]
    },
    {
     "name": "stderr",
     "output_type": "stream",
     "text": [
      "Epoch 8/60 [Train]: 100%|██████████| 393/393 [04:47<00:00,  1.37it/s]\n",
      "Epoch 8/60 [Val]: 100%|██████████| 84/84 [00:46<00:00,  1.80it/s]\n"
     ]
    },
    {
     "name": "stdout",
     "output_type": "stream",
     "text": [
      "\n",
      "Epoch 8:\n",
      " Train -> Loss=1.1720, Acc=0.6148, Prec=0.1230, Rec=0.2000, F1=0.1523, AUC=0.5676\n",
      " Val   -> Loss=1.1649, Acc=0.6153, Prec=0.1231, Rec=0.2000, F1=0.1524, AUC=0.5863\n",
      "Best model (AUC) saved with AUC = 0.5863\n",
      "Best model (Loss) saved with Loss = 1.1649\n"
     ]
    },
    {
     "name": "stderr",
     "output_type": "stream",
     "text": [
      "Epoch 9/60 [Train]: 100%|██████████| 393/393 [03:47<00:00,  1.73it/s]\n",
      "Epoch 9/60 [Val]: 100%|██████████| 84/84 [00:55<00:00,  1.52it/s]\n"
     ]
    },
    {
     "name": "stdout",
     "output_type": "stream",
     "text": [
      "\n",
      "Epoch 9:\n",
      " Train -> Loss=1.1705, Acc=0.6148, Prec=0.1230, Rec=0.2000, F1=0.1523, AUC=0.5709\n",
      " Val   -> Loss=1.1636, Acc=0.6153, Prec=0.1231, Rec=0.2000, F1=0.1524, AUC=0.5899\n",
      "Best model (AUC) saved with AUC = 0.5899\n",
      "Best model (Loss) saved with Loss = 1.1636\n"
     ]
    },
    {
     "name": "stderr",
     "output_type": "stream",
     "text": [
      "Epoch 10/60 [Train]: 100%|██████████| 393/393 [02:32<00:00,  2.57it/s]\n",
      "Epoch 10/60 [Val]: 100%|██████████| 84/84 [00:22<00:00,  3.77it/s]\n"
     ]
    },
    {
     "name": "stdout",
     "output_type": "stream",
     "text": [
      "\n",
      "Epoch 10:\n",
      " Train -> Loss=1.1700, Acc=0.6148, Prec=0.1230, Rec=0.2000, F1=0.1523, AUC=0.5739\n",
      " Val   -> Loss=1.1606, Acc=0.6153, Prec=0.1231, Rec=0.2000, F1=0.1524, AUC=0.5940\n",
      "Best model (AUC) saved with AUC = 0.5940\n",
      "Best model (Loss) saved with Loss = 1.1606\n"
     ]
    },
    {
     "name": "stderr",
     "output_type": "stream",
     "text": [
      "Epoch 11/60 [Train]: 100%|██████████| 393/393 [01:51<00:00,  3.52it/s]\n",
      "Epoch 11/60 [Val]: 100%|██████████| 84/84 [00:21<00:00,  3.84it/s]\n"
     ]
    },
    {
     "name": "stdout",
     "output_type": "stream",
     "text": [
      "\n",
      "Epoch 11:\n",
      " Train -> Loss=1.1682, Acc=0.6148, Prec=0.1230, Rec=0.2000, F1=0.1523, AUC=0.5783\n",
      " Val   -> Loss=1.1595, Acc=0.6153, Prec=0.1231, Rec=0.2000, F1=0.1524, AUC=0.5979\n",
      "Best model (AUC) saved with AUC = 0.5979\n",
      "Best model (Loss) saved with Loss = 1.1595\n"
     ]
    },
    {
     "name": "stderr",
     "output_type": "stream",
     "text": [
      "Epoch 12/60 [Train]: 100%|██████████| 393/393 [01:43<00:00,  3.79it/s]\n",
      "Epoch 12/60 [Val]: 100%|██████████| 84/84 [00:22<00:00,  3.78it/s]\n"
     ]
    },
    {
     "name": "stdout",
     "output_type": "stream",
     "text": [
      "\n",
      "Epoch 12:\n",
      " Train -> Loss=1.1666, Acc=0.6148, Prec=0.1230, Rec=0.2000, F1=0.1523, AUC=0.5820\n",
      " Val   -> Loss=1.1578, Acc=0.6153, Prec=0.1231, Rec=0.2000, F1=0.1524, AUC=0.6009\n",
      "Best model (AUC) saved with AUC = 0.6009\n",
      "Best model (Loss) saved with Loss = 1.1578\n"
     ]
    },
    {
     "name": "stderr",
     "output_type": "stream",
     "text": [
      "Epoch 13/60 [Train]: 100%|██████████| 393/393 [01:44<00:00,  3.77it/s]\n",
      "Epoch 13/60 [Val]: 100%|██████████| 84/84 [00:22<00:00,  3.68it/s]\n"
     ]
    },
    {
     "name": "stdout",
     "output_type": "stream",
     "text": [
      "\n",
      "Epoch 13:\n",
      " Train -> Loss=1.1663, Acc=0.6148, Prec=0.1230, Rec=0.2000, F1=0.1523, AUC=0.5809\n",
      " Val   -> Loss=1.1559, Acc=0.6153, Prec=0.1231, Rec=0.2000, F1=0.1524, AUC=0.6062\n",
      "Best model (AUC) saved with AUC = 0.6062\n",
      "Best model (Loss) saved with Loss = 1.1559\n"
     ]
    },
    {
     "name": "stderr",
     "output_type": "stream",
     "text": [
      "Epoch 14/60 [Train]: 100%|██████████| 393/393 [01:40<00:00,  3.90it/s]\n",
      "Epoch 14/60 [Val]: 100%|██████████| 84/84 [00:20<00:00,  4.01it/s]\n"
     ]
    },
    {
     "name": "stdout",
     "output_type": "stream",
     "text": [
      "\n",
      "Epoch 14:\n",
      " Train -> Loss=1.1630, Acc=0.6148, Prec=0.1230, Rec=0.2000, F1=0.1523, AUC=0.5895\n",
      " Val   -> Loss=1.1536, Acc=0.6153, Prec=0.1231, Rec=0.2000, F1=0.1524, AUC=0.6126\n",
      "Best model (AUC) saved with AUC = 0.6126\n",
      "Best model (Loss) saved with Loss = 1.1536\n"
     ]
    },
    {
     "name": "stderr",
     "output_type": "stream",
     "text": [
      "Epoch 15/60 [Train]: 100%|██████████| 393/393 [01:40<00:00,  3.89it/s]\n",
      "Epoch 15/60 [Val]: 100%|██████████| 84/84 [00:20<00:00,  4.11it/s]\n"
     ]
    },
    {
     "name": "stdout",
     "output_type": "stream",
     "text": [
      "\n",
      "Epoch 15:\n",
      " Train -> Loss=1.1600, Acc=0.6149, Prec=0.3230, Rec=0.2002, F1=0.1526, AUC=0.5978\n",
      " Val   -> Loss=1.1488, Acc=0.6153, Prec=0.1231, Rec=0.2000, F1=0.1524, AUC=0.6241\n",
      "Best model (AUC) saved with AUC = 0.6241\n",
      "Best model (Loss) saved with Loss = 1.1488\n"
     ]
    },
    {
     "name": "stderr",
     "output_type": "stream",
     "text": [
      "Epoch 16/60 [Train]: 100%|██████████| 393/393 [01:38<00:00,  3.98it/s]\n",
      "Epoch 16/60 [Val]: 100%|██████████| 84/84 [00:21<00:00,  3.97it/s]\n"
     ]
    },
    {
     "name": "stdout",
     "output_type": "stream",
     "text": [
      "\n",
      "Epoch 16:\n",
      " Train -> Loss=1.1550, Acc=0.6148, Prec=0.1896, Rec=0.2001, F1=0.1526, AUC=0.6112\n",
      " Val   -> Loss=1.1427, Acc=0.6157, Prec=0.2232, Rec=0.2007, F1=0.1539, AUC=0.6346\n",
      "Best model (AUC) saved with AUC = 0.6346\n",
      "Best model (Loss) saved with Loss = 1.1427\n"
     ]
    },
    {
     "name": "stderr",
     "output_type": "stream",
     "text": [
      "Epoch 17/60 [Train]: 100%|██████████| 393/393 [01:37<00:00,  4.02it/s]\n",
      "Epoch 17/60 [Val]: 100%|██████████| 84/84 [00:18<00:00,  4.47it/s]\n"
     ]
    },
    {
     "name": "stdout",
     "output_type": "stream",
     "text": [
      "\n",
      "Epoch 17:\n",
      " Train -> Loss=1.1513, Acc=0.6153, Prec=0.2120, Rec=0.2012, F1=0.1548, AUC=0.6191\n",
      " Val   -> Loss=1.1425, Acc=0.6168, Prec=0.2035, Rec=0.2029, F1=0.1584, AUC=0.6435\n",
      "Best model (AUC) saved with AUC = 0.6435\n",
      "Best model (Loss) saved with Loss = 1.1425\n"
     ]
    },
    {
     "name": "stderr",
     "output_type": "stream",
     "text": [
      "Epoch 18/60 [Train]: 100%|██████████| 393/393 [01:28<00:00,  4.45it/s]\n",
      "Epoch 18/60 [Val]: 100%|██████████| 84/84 [00:18<00:00,  4.44it/s]\n"
     ]
    },
    {
     "name": "stdout",
     "output_type": "stream",
     "text": [
      "\n",
      "Epoch 18:\n",
      " Train -> Loss=1.1455, Acc=0.6156, Prec=0.1931, Rec=0.2022, F1=0.1570, AUC=0.6254\n",
      " Val   -> Loss=1.1326, Acc=0.6168, Prec=0.1862, Rec=0.2035, F1=0.1597, AUC=0.6461\n",
      "Best model (AUC) saved with AUC = 0.6461\n",
      "Best model (Loss) saved with Loss = 1.1326\n"
     ]
    },
    {
     "name": "stderr",
     "output_type": "stream",
     "text": [
      "Epoch 19/60 [Train]: 100%|██████████| 393/393 [01:26<00:00,  4.56it/s]\n",
      "Epoch 19/60 [Val]: 100%|██████████| 84/84 [00:18<00:00,  4.48it/s]\n"
     ]
    },
    {
     "name": "stdout",
     "output_type": "stream",
     "text": [
      "\n",
      "Epoch 19:\n",
      " Train -> Loss=1.1425, Acc=0.6163, Prec=0.1957, Rec=0.2045, F1=0.1618, AUC=0.6337\n",
      " Val   -> Loss=1.1281, Acc=0.6187, Prec=0.2130, Rec=0.2084, F1=0.1690, AUC=0.6509\n",
      "Best model (AUC) saved with AUC = 0.6509\n",
      "Best model (Loss) saved with Loss = 1.1281\n"
     ]
    },
    {
     "name": "stderr",
     "output_type": "stream",
     "text": [
      "Epoch 20/60 [Train]: 100%|██████████| 393/393 [01:27<00:00,  4.47it/s]\n",
      "Epoch 20/60 [Val]: 100%|██████████| 84/84 [00:19<00:00,  4.40it/s]\n"
     ]
    },
    {
     "name": "stdout",
     "output_type": "stream",
     "text": [
      "\n",
      "Epoch 20:\n",
      " Train -> Loss=1.1383, Acc=0.6171, Prec=0.2009, Rec=0.2062, F1=0.1649, AUC=0.6366\n",
      " Val   -> Loss=1.1261, Acc=0.6217, Prec=0.2205, Rec=0.2155, F1=0.1810, AUC=0.6552\n",
      "Best model (AUC) saved with AUC = 0.6552\n",
      "Best model (Loss) saved with Loss = 1.1261\n"
     ]
    },
    {
     "name": "stderr",
     "output_type": "stream",
     "text": [
      "Epoch 21/60 [Train]: 100%|██████████| 393/393 [01:27<00:00,  4.51it/s]\n",
      "Epoch 21/60 [Val]: 100%|██████████| 84/84 [00:18<00:00,  4.55it/s]\n"
     ]
    },
    {
     "name": "stdout",
     "output_type": "stream",
     "text": [
      "\n",
      "Epoch 21:\n",
      " Train -> Loss=1.1341, Acc=0.6170, Prec=0.1925, Rec=0.2072, F1=0.1670, AUC=0.6436\n",
      " Val   -> Loss=1.1224, Acc=0.6190, Prec=0.2170, Rec=0.2091, F1=0.1703, AUC=0.6600\n",
      "Best model (AUC) saved with AUC = 0.6600\n",
      "Best model (Loss) saved with Loss = 1.1224\n"
     ]
    },
    {
     "name": "stderr",
     "output_type": "stream",
     "text": [
      "Epoch 22/60 [Train]: 100%|██████████| 393/393 [01:26<00:00,  4.53it/s]\n",
      "Epoch 22/60 [Val]: 100%|██████████| 84/84 [00:18<00:00,  4.47it/s]\n"
     ]
    },
    {
     "name": "stdout",
     "output_type": "stream",
     "text": [
      "\n",
      "Epoch 22:\n",
      " Train -> Loss=1.1327, Acc=0.6176, Prec=0.1925, Rec=0.2085, F1=0.1691, AUC=0.6452\n",
      " Val   -> Loss=1.1199, Acc=0.6213, Prec=0.2222, Rec=0.2141, F1=0.1788, AUC=0.6606\n",
      "Best model (AUC) saved with AUC = 0.6606\n",
      "Best model (Loss) saved with Loss = 1.1199\n"
     ]
    },
    {
     "name": "stderr",
     "output_type": "stream",
     "text": [
      "Epoch 23/60 [Train]: 100%|██████████| 393/393 [01:26<00:00,  4.52it/s]\n",
      "Epoch 23/60 [Val]: 100%|██████████| 84/84 [00:18<00:00,  4.61it/s]\n"
     ]
    },
    {
     "name": "stdout",
     "output_type": "stream",
     "text": [
      "\n",
      "Epoch 23:\n",
      " Train -> Loss=1.1299, Acc=0.6181, Prec=0.1962, Rec=0.2103, F1=0.1724, AUC=0.6524\n",
      " Val   -> Loss=1.1171, Acc=0.6228, Prec=0.2181, Rec=0.2183, F1=0.1853, AUC=0.6660\n",
      "Best model (AUC) saved with AUC = 0.6660\n",
      "Best model (Loss) saved with Loss = 1.1171\n"
     ]
    },
    {
     "name": "stderr",
     "output_type": "stream",
     "text": [
      "Epoch 24/60 [Train]: 100%|██████████| 393/393 [01:27<00:00,  4.48it/s]\n",
      "Epoch 24/60 [Val]: 100%|██████████| 84/84 [00:18<00:00,  4.52it/s]\n"
     ]
    },
    {
     "name": "stdout",
     "output_type": "stream",
     "text": [
      "\n",
      "Epoch 24:\n",
      " Train -> Loss=1.1276, Acc=0.6184, Prec=0.1932, Rec=0.2108, F1=0.1731, AUC=0.6550\n",
      " Val   -> Loss=1.1131, Acc=0.6220, Prec=0.2188, Rec=0.2162, F1=0.1821, AUC=0.6664\n",
      "Best model (AUC) saved with AUC = 0.6664\n",
      "Best model (Loss) saved with Loss = 1.1131\n"
     ]
    },
    {
     "name": "stderr",
     "output_type": "stream",
     "text": [
      "Epoch 25/60 [Train]: 100%|██████████| 393/393 [01:26<00:00,  4.56it/s]\n",
      "Epoch 25/60 [Val]: 100%|██████████| 84/84 [00:19<00:00,  4.36it/s]\n"
     ]
    },
    {
     "name": "stdout",
     "output_type": "stream",
     "text": [
      "\n",
      "Epoch 25:\n",
      " Train -> Loss=1.1247, Acc=0.6182, Prec=0.1906, Rec=0.2115, F1=0.1744, AUC=0.6583\n",
      " Val   -> Loss=1.1114, Acc=0.6246, Prec=0.2241, Rec=0.2231, F1=0.1927, AUC=0.6701\n",
      "Best model (AUC) saved with AUC = 0.6701\n",
      "Best model (Loss) saved with Loss = 1.1114\n"
     ]
    },
    {
     "name": "stderr",
     "output_type": "stream",
     "text": [
      "Epoch 26/60 [Train]: 100%|██████████| 393/393 [01:27<00:00,  4.51it/s]\n",
      "Epoch 26/60 [Val]: 100%|██████████| 84/84 [00:17<00:00,  4.67it/s]\n"
     ]
    },
    {
     "name": "stdout",
     "output_type": "stream",
     "text": [
      "\n",
      "Epoch 26:\n",
      " Train -> Loss=1.1222, Acc=0.6192, Prec=0.1935, Rec=0.2133, F1=0.1772, AUC=0.6601\n",
      " Val   -> Loss=1.1092, Acc=0.6220, Prec=0.2226, Rec=0.2156, F1=0.1812, AUC=0.6747\n",
      "Best model (AUC) saved with AUC = 0.6747\n",
      "Best model (Loss) saved with Loss = 1.1092\n"
     ]
    },
    {
     "name": "stderr",
     "output_type": "stream",
     "text": [
      "Epoch 27/60 [Train]: 100%|██████████| 393/393 [01:26<00:00,  4.56it/s]\n",
      "Epoch 27/60 [Val]: 100%|██████████| 84/84 [00:18<00:00,  4.46it/s]\n"
     ]
    },
    {
     "name": "stdout",
     "output_type": "stream",
     "text": [
      "\n",
      "Epoch 27:\n",
      " Train -> Loss=1.1197, Acc=0.6189, Prec=0.1910, Rec=0.2129, F1=0.1766, AUC=0.6632\n",
      " Val   -> Loss=1.1071, Acc=0.6250, Prec=0.2181, Rec=0.2245, F1=0.1942, AUC=0.6752\n",
      "Best model (AUC) saved with AUC = 0.6752\n",
      "Best model (Loss) saved with Loss = 1.1071\n"
     ]
    },
    {
     "name": "stderr",
     "output_type": "stream",
     "text": [
      "Epoch 28/60 [Train]: 100%|██████████| 393/393 [01:25<00:00,  4.59it/s]\n",
      "Epoch 28/60 [Val]: 100%|██████████| 84/84 [00:19<00:00,  4.41it/s]\n"
     ]
    },
    {
     "name": "stdout",
     "output_type": "stream",
     "text": [
      "\n",
      "Epoch 28:\n",
      " Train -> Loss=1.1173, Acc=0.6194, Prec=0.1909, Rec=0.2144, F1=0.1788, AUC=0.6645\n",
      " Val   -> Loss=1.1042, Acc=0.6254, Prec=0.2195, Rec=0.2252, F1=0.1953, AUC=0.6786\n",
      "Best model (AUC) saved with AUC = 0.6786\n",
      "Best model (Loss) saved with Loss = 1.1042\n"
     ]
    },
    {
     "name": "stderr",
     "output_type": "stream",
     "text": [
      "Epoch 29/60 [Train]: 100%|██████████| 393/393 [01:27<00:00,  4.50it/s]\n",
      "Epoch 29/60 [Val]: 100%|██████████| 84/84 [00:18<00:00,  4.58it/s]\n"
     ]
    },
    {
     "name": "stdout",
     "output_type": "stream",
     "text": [
      "\n",
      "Epoch 29:\n",
      " Train -> Loss=1.1167, Acc=0.6198, Prec=0.1938, Rec=0.2154, F1=0.1805, AUC=0.6666\n",
      " Val   -> Loss=1.1039, Acc=0.6246, Prec=0.2188, Rec=0.2231, F1=0.1925, AUC=0.6775\n",
      "Validation AUC 0.6775 did not improve from 0.6786\n",
      "Best model (Loss) saved with Loss = 1.1039\n"
     ]
    },
    {
     "name": "stderr",
     "output_type": "stream",
     "text": [
      "Epoch 30/60 [Train]: 100%|██████████| 393/393 [01:30<00:00,  4.35it/s]\n",
      "Epoch 30/60 [Val]: 100%|██████████| 84/84 [00:18<00:00,  4.54it/s]\n"
     ]
    },
    {
     "name": "stdout",
     "output_type": "stream",
     "text": [
      "\n",
      "Epoch 30:\n",
      " Train -> Loss=1.1154, Acc=0.6194, Prec=0.2564, Rec=0.2149, F1=0.1797, AUC=0.6658\n",
      " Val   -> Loss=1.1035, Acc=0.6243, Prec=0.2254, Rec=0.2218, F1=0.1908, AUC=0.6812\n",
      "Best model (AUC) saved with AUC = 0.6812\n",
      "Best model (Loss) saved with Loss = 1.1035\n"
     ]
    },
    {
     "name": "stderr",
     "output_type": "stream",
     "text": [
      "Epoch 31/60 [Train]: 100%|██████████| 393/393 [01:28<00:00,  4.46it/s]\n",
      "Epoch 31/60 [Val]: 100%|██████████| 84/84 [00:19<00:00,  4.32it/s]\n"
     ]
    },
    {
     "name": "stdout",
     "output_type": "stream",
     "text": [
      "\n",
      "Epoch 31:\n",
      " Train -> Loss=1.1140, Acc=0.6200, Prec=0.2570, Rec=0.2161, F1=0.1814, AUC=0.6707\n",
      " Val   -> Loss=1.0999, Acc=0.6246, Prec=0.2163, Rec=0.2231, F1=0.1923, AUC=0.6808\n",
      "Validation AUC 0.6808 did not improve from 0.6812\n",
      "Best model (Loss) saved with Loss = 1.0999\n"
     ]
    },
    {
     "name": "stderr",
     "output_type": "stream",
     "text": [
      "Epoch 32/60 [Train]: 100%|██████████| 393/393 [01:32<00:00,  4.27it/s]\n",
      "Epoch 32/60 [Val]: 100%|██████████| 84/84 [00:19<00:00,  4.28it/s]\n"
     ]
    },
    {
     "name": "stdout",
     "output_type": "stream",
     "text": [
      "\n",
      "Epoch 32:\n",
      " Train -> Loss=1.1104, Acc=0.6200, Prec=0.2564, Rec=0.2161, F1=0.1814, AUC=0.6728\n",
      " Val   -> Loss=1.0989, Acc=0.6257, Prec=0.2155, Rec=0.2259, F1=0.1960, AUC=0.6827\n",
      "Best model (AUC) saved with AUC = 0.6827\n",
      "Best model (Loss) saved with Loss = 1.0989\n"
     ]
    },
    {
     "name": "stderr",
     "output_type": "stream",
     "text": [
      "Epoch 33/60 [Train]: 100%|██████████| 393/393 [01:31<00:00,  4.28it/s]\n",
      "Epoch 33/60 [Val]: 100%|██████████| 84/84 [00:19<00:00,  4.35it/s]\n"
     ]
    },
    {
     "name": "stdout",
     "output_type": "stream",
     "text": [
      "\n",
      "Epoch 33:\n",
      " Train -> Loss=1.1097, Acc=0.6196, Prec=0.3880, Rec=0.2171, F1=0.1831, AUC=0.6758\n",
      " Val   -> Loss=1.0991, Acc=0.6231, Prec=0.2752, Rec=0.2191, F1=0.1875, AUC=0.6855\n",
      "Best model (AUC) saved with AUC = 0.6855\n",
      "Validation Loss 1.0991 did not reduced from 1.0989\n"
     ]
    },
    {
     "name": "stderr",
     "output_type": "stream",
     "text": [
      "Epoch 34/60 [Train]: 100%|██████████| 393/393 [01:32<00:00,  4.25it/s]\n",
      "Epoch 34/60 [Val]: 100%|██████████| 84/84 [00:21<00:00,  3.89it/s]\n"
     ]
    },
    {
     "name": "stdout",
     "output_type": "stream",
     "text": [
      "\n",
      "Epoch 34:\n",
      " Train -> Loss=1.1085, Acc=0.6204, Prec=0.2920, Rec=0.2177, F1=0.1840, AUC=0.6755\n",
      " Val   -> Loss=1.0961, Acc=0.6250, Prec=0.4152, Rec=0.2246, F1=0.1951, AUC=0.6870\n",
      "Best model (AUC) saved with AUC = 0.6870\n",
      "Best model (Loss) saved with Loss = 1.0961\n"
     ]
    },
    {
     "name": "stderr",
     "output_type": "stream",
     "text": [
      "Epoch 35/60 [Train]: 100%|██████████| 393/393 [01:35<00:00,  4.12it/s]\n",
      "Epoch 35/60 [Val]: 100%|██████████| 84/84 [00:19<00:00,  4.23it/s]\n"
     ]
    },
    {
     "name": "stdout",
     "output_type": "stream",
     "text": [
      "\n",
      "Epoch 35:\n",
      " Train -> Loss=1.1077, Acc=0.6204, Prec=0.3062, Rec=0.2171, F1=0.1831, AUC=0.6777\n",
      " Val   -> Loss=1.0972, Acc=0.6280, Prec=0.2151, Rec=0.2309, F1=0.2022, AUC=0.6872\n",
      "Best model (AUC) saved with AUC = 0.6872\n",
      "Validation Loss 1.0972 did not reduced from 1.0961\n"
     ]
    },
    {
     "name": "stderr",
     "output_type": "stream",
     "text": [
      "Epoch 36/60 [Train]: 100%|██████████| 393/393 [01:37<00:00,  4.03it/s]\n",
      "Epoch 36/60 [Val]: 100%|██████████| 84/84 [01:06<00:00,  1.27it/s]\n"
     ]
    },
    {
     "name": "stdout",
     "output_type": "stream",
     "text": [
      "\n",
      "Epoch 36:\n",
      " Train -> Loss=1.1047, Acc=0.6208, Prec=0.2363, Rec=0.2192, F1=0.1861, AUC=0.6794\n",
      " Val   -> Loss=1.0918, Acc=0.6265, Prec=0.2161, Rec=0.2274, F1=0.1979, AUC=0.6907\n",
      "Best model (AUC) saved with AUC = 0.6907\n",
      "Best model (Loss) saved with Loss = 1.0918\n"
     ]
    },
    {
     "name": "stderr",
     "output_type": "stream",
     "text": [
      "Epoch 37/60 [Train]: 100%|██████████| 393/393 [03:47<00:00,  1.73it/s]\n",
      "Epoch 37/60 [Val]: 100%|██████████| 84/84 [00:20<00:00,  4.18it/s]\n"
     ]
    },
    {
     "name": "stdout",
     "output_type": "stream",
     "text": [
      "\n",
      "Epoch 37:\n",
      " Train -> Loss=1.1037, Acc=0.6204, Prec=0.4154, Rec=0.2182, F1=0.1847, AUC=0.6818\n",
      " Val   -> Loss=1.0904, Acc=0.6291, Prec=0.2183, Rec=0.2325, F1=0.2042, AUC=0.6913\n",
      "Best model (AUC) saved with AUC = 0.6913\n",
      "Best model (Loss) saved with Loss = 1.0904\n"
     ]
    },
    {
     "name": "stderr",
     "output_type": "stream",
     "text": [
      "Epoch 38/60 [Train]: 100%|██████████| 393/393 [05:00<00:00,  1.31it/s]\n",
      "Epoch 38/60 [Val]: 100%|██████████| 84/84 [00:39<00:00,  2.13it/s]\n"
     ]
    },
    {
     "name": "stdout",
     "output_type": "stream",
     "text": [
      "\n",
      "Epoch 38:\n",
      " Train -> Loss=1.1033, Acc=0.6204, Prec=0.2149, Rec=0.2184, F1=0.1848, AUC=0.6818\n",
      " Val   -> Loss=1.0913, Acc=0.6287, Prec=0.2172, Rec=0.2318, F1=0.2033, AUC=0.6909\n",
      "Validation AUC 0.6909 did not improve from 0.6913\n",
      "Validation Loss 1.0913 did not reduced from 1.0904\n"
     ]
    },
    {
     "name": "stderr",
     "output_type": "stream",
     "text": [
      "Epoch 39/60 [Train]: 100%|██████████| 393/393 [05:21<00:00,  1.22it/s]\n",
      "Epoch 39/60 [Val]: 100%|██████████| 84/84 [00:27<00:00,  3.10it/s]\n"
     ]
    },
    {
     "name": "stdout",
     "output_type": "stream",
     "text": [
      "\n",
      "Epoch 39:\n",
      " Train -> Loss=1.1023, Acc=0.6214, Prec=0.3764, Rec=0.2204, F1=0.1880, AUC=0.6829\n",
      " Val   -> Loss=1.0895, Acc=0.6265, Prec=0.2887, Rec=0.2317, F1=0.2082, AUC=0.6943\n",
      "Best model (AUC) saved with AUC = 0.6943\n",
      "Best model (Loss) saved with Loss = 1.0895\n"
     ]
    },
    {
     "name": "stderr",
     "output_type": "stream",
     "text": [
      "Epoch 40/60 [Train]: 100%|██████████| 393/393 [02:17<00:00,  2.87it/s]\n",
      "Epoch 40/60 [Val]: 100%|██████████| 84/84 [00:45<00:00,  1.85it/s]\n"
     ]
    },
    {
     "name": "stdout",
     "output_type": "stream",
     "text": [
      "\n",
      "Epoch 40:\n",
      " Train -> Loss=1.0998, Acc=0.6204, Prec=0.2244, Rec=0.2186, F1=0.1856, AUC=0.6846\n",
      " Val   -> Loss=1.0884, Acc=0.6261, Prec=0.2727, Rec=0.2264, F1=0.1977, AUC=0.6932\n",
      "Validation AUC 0.6932 did not improve from 0.6943\n",
      "Best model (Loss) saved with Loss = 1.0884\n"
     ]
    },
    {
     "name": "stderr",
     "output_type": "stream",
     "text": [
      "Epoch 41/60 [Train]: 100%|██████████| 393/393 [01:39<00:00,  3.96it/s]\n",
      "Epoch 41/60 [Val]: 100%|██████████| 84/84 [00:20<00:00,  4.07it/s]\n"
     ]
    },
    {
     "name": "stdout",
     "output_type": "stream",
     "text": [
      "\n",
      "Epoch 41:\n",
      " Train -> Loss=1.1002, Acc=0.6207, Prec=0.2557, Rec=0.2190, F1=0.1858, AUC=0.6853\n",
      " Val   -> Loss=1.0868, Acc=0.6250, Prec=0.2661, Rec=0.2259, F1=0.1974, AUC=0.6954\n",
      "Best model (AUC) saved with AUC = 0.6954\n",
      "Best model (Loss) saved with Loss = 1.0868\n"
     ]
    },
    {
     "name": "stderr",
     "output_type": "stream",
     "text": [
      "Epoch 42/60 [Train]: 100%|██████████| 393/393 [01:38<00:00,  3.97it/s]\n",
      "Epoch 42/60 [Val]: 100%|██████████| 84/84 [00:20<00:00,  4.16it/s]\n"
     ]
    },
    {
     "name": "stdout",
     "output_type": "stream",
     "text": [
      "\n",
      "Epoch 42:\n",
      " Train -> Loss=1.0989, Acc=0.6216, Prec=0.3221, Rec=0.2210, F1=0.1889, AUC=0.6864\n",
      " Val   -> Loss=1.0862, Acc=0.6295, Prec=0.3000, Rec=0.2347, F1=0.2093, AUC=0.6954\n",
      "Validation AUC 0.6954 did not improve from 0.6954\n",
      "Best model (Loss) saved with Loss = 1.0862\n"
     ]
    },
    {
     "name": "stderr",
     "output_type": "stream",
     "text": [
      "Epoch 43/60 [Train]: 100%|██████████| 393/393 [01:36<00:00,  4.09it/s]\n",
      "Epoch 43/60 [Val]: 100%|██████████| 84/84 [00:20<00:00,  4.10it/s]\n"
     ]
    },
    {
     "name": "stdout",
     "output_type": "stream",
     "text": [
      "\n",
      "Epoch 43:\n",
      " Train -> Loss=1.0962, Acc=0.6214, Prec=0.3107, Rec=0.2211, F1=0.1891, AUC=0.6878\n",
      " Val   -> Loss=1.0847, Acc=0.6295, Prec=0.2755, Rec=0.2347, F1=0.2091, AUC=0.6979\n",
      "Best model (AUC) saved with AUC = 0.6979\n",
      "Best model (Loss) saved with Loss = 1.0847\n"
     ]
    },
    {
     "name": "stderr",
     "output_type": "stream",
     "text": [
      "Epoch 44/60 [Train]: 100%|██████████| 393/393 [01:32<00:00,  4.23it/s]\n",
      "Epoch 44/60 [Val]: 100%|██████████| 84/84 [00:19<00:00,  4.23it/s]\n"
     ]
    },
    {
     "name": "stdout",
     "output_type": "stream",
     "text": [
      "\n",
      "Epoch 44:\n",
      " Train -> Loss=1.0955, Acc=0.6216, Prec=0.3020, Rec=0.2222, F1=0.1907, AUC=0.6889\n",
      " Val   -> Loss=1.0818, Acc=0.6291, Prec=0.3135, Rec=0.2368, F1=0.2155, AUC=0.6990\n",
      "Best model (AUC) saved with AUC = 0.6990\n",
      "Best model (Loss) saved with Loss = 1.0818\n"
     ]
    },
    {
     "name": "stderr",
     "output_type": "stream",
     "text": [
      "Epoch 45/60 [Train]: 100%|██████████| 393/393 [03:04<00:00,  2.13it/s]\n",
      "Epoch 45/60 [Val]: 100%|██████████| 84/84 [01:09<00:00,  1.22it/s]\n"
     ]
    },
    {
     "name": "stdout",
     "output_type": "stream",
     "text": [
      "\n",
      "Epoch 45:\n",
      " Train -> Loss=1.0951, Acc=0.6220, Prec=0.3331, Rec=0.2227, F1=0.1919, AUC=0.6898\n",
      " Val   -> Loss=1.0811, Acc=0.6287, Prec=0.2740, Rec=0.2332, F1=0.2072, AUC=0.6994\n",
      "Best model (AUC) saved with AUC = 0.6994\n",
      "Best model (Loss) saved with Loss = 1.0811\n"
     ]
    },
    {
     "name": "stderr",
     "output_type": "stream",
     "text": [
      "Epoch 46/60 [Train]: 100%|██████████| 393/393 [02:44<00:00,  2.39it/s]\n",
      "Epoch 46/60 [Val]: 100%|██████████| 84/84 [00:21<00:00,  3.92it/s]\n"
     ]
    },
    {
     "name": "stdout",
     "output_type": "stream",
     "text": [
      "\n",
      "Epoch 46:\n",
      " Train -> Loss=1.0926, Acc=0.6219, Prec=0.2578, Rec=0.2220, F1=0.1899, AUC=0.6914\n",
      " Val   -> Loss=1.0808, Acc=0.6280, Prec=0.2733, Rec=0.2317, F1=0.2054, AUC=0.6986\n",
      "Validation AUC 0.6986 did not improve from 0.6994\n",
      "Best model (Loss) saved with Loss = 1.0808\n"
     ]
    },
    {
     "name": "stderr",
     "output_type": "stream",
     "text": [
      "Epoch 47/60 [Train]: 100%|██████████| 393/393 [01:40<00:00,  3.93it/s]\n",
      "Epoch 47/60 [Val]: 100%|██████████| 84/84 [00:18<00:00,  4.59it/s]\n"
     ]
    },
    {
     "name": "stdout",
     "output_type": "stream",
     "text": [
      "\n",
      "Epoch 47:\n",
      " Train -> Loss=1.0930, Acc=0.6224, Prec=0.2726, Rec=0.2238, F1=0.1932, AUC=0.6914\n",
      " Val   -> Loss=1.0841, Acc=0.6283, Prec=0.3344, Rec=0.2345, F1=0.2122, AUC=0.6986\n",
      "Validation AUC 0.6986 did not improve from 0.6994\n",
      "Validation Loss 1.0841 did not reduced from 1.0808\n"
     ]
    },
    {
     "name": "stderr",
     "output_type": "stream",
     "text": [
      "Epoch 48/60 [Train]: 100%|██████████| 393/393 [01:33<00:00,  4.20it/s]\n",
      "Epoch 48/60 [Val]: 100%|██████████| 84/84 [00:20<00:00,  4.06it/s]\n"
     ]
    },
    {
     "name": "stdout",
     "output_type": "stream",
     "text": [
      "\n",
      "Epoch 48:\n",
      " Train -> Loss=1.0909, Acc=0.6216, Prec=0.2380, Rec=0.2210, F1=0.1889, AUC=0.6943\n",
      " Val   -> Loss=1.0806, Acc=0.6302, Prec=0.2996, Rec=0.2395, F1=0.2175, AUC=0.7033\n",
      "Best model (AUC) saved with AUC = 0.7033\n",
      "Best model (Loss) saved with Loss = 1.0806\n"
     ]
    },
    {
     "name": "stderr",
     "output_type": "stream",
     "text": [
      "Epoch 49/60 [Train]: 100%|██████████| 393/393 [01:28<00:00,  4.42it/s]\n",
      "Epoch 49/60 [Val]: 100%|██████████| 84/84 [00:18<00:00,  4.46it/s]\n"
     ]
    },
    {
     "name": "stdout",
     "output_type": "stream",
     "text": [
      "\n",
      "Epoch 49:\n",
      " Train -> Loss=1.0905, Acc=0.6228, Prec=0.2790, Rec=0.2243, F1=0.1939, AUC=0.6931\n",
      " Val   -> Loss=1.0772, Acc=0.6287, Prec=0.3061, Rec=0.2346, F1=0.2109, AUC=0.7026\n",
      "Validation AUC 0.7026 did not improve from 0.7033\n",
      "Best model (Loss) saved with Loss = 1.0772\n"
     ]
    },
    {
     "name": "stderr",
     "output_type": "stream",
     "text": [
      "Epoch 50/60 [Train]: 100%|██████████| 393/393 [01:27<00:00,  4.50it/s]\n",
      "Epoch 50/60 [Val]: 100%|██████████| 84/84 [00:19<00:00,  4.22it/s]\n"
     ]
    },
    {
     "name": "stdout",
     "output_type": "stream",
     "text": [
      "\n",
      "Epoch 50:\n",
      " Train -> Loss=1.0910, Acc=0.6221, Prec=0.2759, Rec=0.2228, F1=0.1921, AUC=0.6935\n",
      " Val   -> Loss=1.0789, Acc=0.6324, Prec=0.3213, Rec=0.2447, F1=0.2259, AUC=0.7028\n",
      "Validation AUC 0.7028 did not improve from 0.7033\n",
      "Validation Loss 1.0789 did not reduced from 1.0772\n"
     ]
    },
    {
     "name": "stderr",
     "output_type": "stream",
     "text": [
      "Epoch 51/60 [Train]: 100%|██████████| 393/393 [01:30<00:00,  4.33it/s]\n",
      "Epoch 51/60 [Val]: 100%|██████████| 84/84 [00:18<00:00,  4.63it/s]\n"
     ]
    },
    {
     "name": "stdout",
     "output_type": "stream",
     "text": [
      "\n",
      "Epoch 51:\n",
      " Train -> Loss=1.0902, Acc=0.6216, Prec=0.2717, Rec=0.2227, F1=0.1922, AUC=0.6930\n",
      " Val   -> Loss=1.0785, Acc=0.6321, Prec=0.3070, Rec=0.2430, F1=0.2208, AUC=0.7043\n",
      "Best model (AUC) saved with AUC = 0.7043\n",
      "Validation Loss 1.0785 did not reduced from 1.0772\n"
     ]
    },
    {
     "name": "stderr",
     "output_type": "stream",
     "text": [
      "Epoch 52/60 [Train]: 100%|██████████| 393/393 [01:31<00:00,  4.31it/s]\n",
      "Epoch 52/60 [Val]: 100%|██████████| 84/84 [00:19<00:00,  4.23it/s]\n"
     ]
    },
    {
     "name": "stdout",
     "output_type": "stream",
     "text": [
      "\n",
      "Epoch 52:\n",
      " Train -> Loss=1.0867, Acc=0.6224, Prec=0.2704, Rec=0.2243, F1=0.1936, AUC=0.6977\n",
      " Val   -> Loss=1.0820, Acc=0.6269, Prec=0.2836, Rec=0.2339, F1=0.2118, AUC=0.7051\n",
      "Best model (AUC) saved with AUC = 0.7051\n",
      "Validation Loss 1.0820 did not reduced from 1.0772\n"
     ]
    },
    {
     "name": "stderr",
     "output_type": "stream",
     "text": [
      "Epoch 53/60 [Train]: 100%|██████████| 393/393 [01:28<00:00,  4.46it/s]\n",
      "Epoch 53/60 [Val]: 100%|██████████| 84/84 [00:19<00:00,  4.27it/s]\n"
     ]
    },
    {
     "name": "stdout",
     "output_type": "stream",
     "text": [
      "\n",
      "Epoch 53:\n",
      " Train -> Loss=1.0873, Acc=0.6221, Prec=0.2974, Rec=0.2245, F1=0.1949, AUC=0.6969\n",
      " Val   -> Loss=1.0744, Acc=0.6295, Prec=0.2724, Rec=0.2353, F1=0.2095, AUC=0.7060\n",
      "Best model (AUC) saved with AUC = 0.7060\n",
      "Best model (Loss) saved with Loss = 1.0744\n"
     ]
    },
    {
     "name": "stderr",
     "output_type": "stream",
     "text": [
      "Epoch 54/60 [Train]: 100%|██████████| 393/393 [01:30<00:00,  4.35it/s]\n",
      "Epoch 54/60 [Val]: 100%|██████████| 84/84 [00:19<00:00,  4.32it/s]\n"
     ]
    },
    {
     "name": "stdout",
     "output_type": "stream",
     "text": [
      "\n",
      "Epoch 54:\n",
      " Train -> Loss=1.0857, Acc=0.6233, Prec=0.2810, Rec=0.2247, F1=0.1942, AUC=0.6988\n",
      " Val   -> Loss=1.0743, Acc=0.6295, Prec=0.3193, Rec=0.2375, F1=0.2163, AUC=0.7073\n",
      "Best model (AUC) saved with AUC = 0.7073\n",
      "Best model (Loss) saved with Loss = 1.0743\n"
     ]
    },
    {
     "name": "stderr",
     "output_type": "stream",
     "text": [
      "Epoch 55/60 [Train]: 100%|██████████| 393/393 [01:26<00:00,  4.53it/s]\n",
      "Epoch 55/60 [Val]: 100%|██████████| 84/84 [00:19<00:00,  4.39it/s]\n"
     ]
    },
    {
     "name": "stdout",
     "output_type": "stream",
     "text": [
      "\n",
      "Epoch 55:\n",
      " Train -> Loss=1.0851, Acc=0.6230, Prec=0.2981, Rec=0.2265, F1=0.1978, AUC=0.6980\n",
      " Val   -> Loss=1.0734, Acc=0.6306, Prec=0.2959, Rec=0.2426, F1=0.2244, AUC=0.7065\n",
      "Validation AUC 0.7065 did not improve from 0.7073\n",
      "Best model (Loss) saved with Loss = 1.0734\n"
     ]
    },
    {
     "name": "stderr",
     "output_type": "stream",
     "text": [
      "Epoch 56/60 [Train]: 100%|██████████| 393/393 [01:33<00:00,  4.22it/s]\n",
      "Epoch 56/60 [Val]: 100%|██████████| 84/84 [00:19<00:00,  4.24it/s]\n"
     ]
    },
    {
     "name": "stdout",
     "output_type": "stream",
     "text": [
      "\n",
      "Epoch 56:\n",
      " Train -> Loss=1.0838, Acc=0.6224, Prec=0.2974, Rec=0.2258, F1=0.1975, AUC=0.6997\n",
      " Val   -> Loss=1.0732, Acc=0.6291, Prec=0.3046, Rec=0.2354, F1=0.2117, AUC=0.7081\n",
      "Best model (AUC) saved with AUC = 0.7081\n",
      "Best model (Loss) saved with Loss = 1.0732\n"
     ]
    },
    {
     "name": "stderr",
     "output_type": "stream",
     "text": [
      "Epoch 57/60 [Train]: 100%|██████████| 393/393 [01:33<00:00,  4.19it/s]\n",
      "Epoch 57/60 [Val]: 100%|██████████| 84/84 [00:19<00:00,  4.21it/s]\n"
     ]
    },
    {
     "name": "stdout",
     "output_type": "stream",
     "text": [
      "\n",
      "Epoch 57:\n",
      " Train -> Loss=1.0835, Acc=0.6228, Prec=0.2899, Rec=0.2257, F1=0.1962, AUC=0.7012\n",
      " Val   -> Loss=1.0758, Acc=0.6310, Prec=0.2873, Rec=0.2442, F1=0.2245, AUC=0.7066\n",
      "Validation AUC 0.7066 did not improve from 0.7081\n",
      "Validation Loss 1.0758 did not reduced from 1.0732\n"
     ]
    },
    {
     "name": "stderr",
     "output_type": "stream",
     "text": [
      "Epoch 58/60 [Train]: 100%|██████████| 393/393 [01:32<00:00,  4.24it/s]\n",
      "Epoch 58/60 [Val]: 100%|██████████| 84/84 [00:19<00:00,  4.21it/s]\n"
     ]
    },
    {
     "name": "stdout",
     "output_type": "stream",
     "text": [
      "\n",
      "Epoch 58:\n",
      " Train -> Loss=1.0838, Acc=0.6227, Prec=0.3065, Rec=0.2268, F1=0.1987, AUC=0.6992\n",
      " Val   -> Loss=1.0708, Acc=0.6283, Prec=0.4056, Rec=0.2338, F1=0.2104, AUC=0.7078\n",
      "Validation AUC 0.7078 did not improve from 0.7081\n",
      "Best model (Loss) saved with Loss = 1.0708\n"
     ]
    },
    {
     "name": "stderr",
     "output_type": "stream",
     "text": [
      "Epoch 59/60 [Train]: 100%|██████████| 393/393 [01:29<00:00,  4.38it/s]\n",
      "Epoch 59/60 [Val]: 100%|██████████| 84/84 [00:18<00:00,  4.47it/s]\n"
     ]
    },
    {
     "name": "stdout",
     "output_type": "stream",
     "text": [
      "\n",
      "Epoch 59:\n",
      " Train -> Loss=1.0816, Acc=0.6224, Prec=0.2900, Rec=0.2252, F1=0.1959, AUC=0.7005\n",
      " Val   -> Loss=1.0714, Acc=0.6283, Prec=0.3056, Rec=0.2333, F1=0.2092, AUC=0.7081\n",
      "Validation AUC 0.7081 did not improve from 0.7081\n",
      "Validation Loss 1.0714 did not reduced from 1.0708\n"
     ]
    },
    {
     "name": "stderr",
     "output_type": "stream",
     "text": [
      "Epoch 60/60 [Train]: 100%|██████████| 393/393 [01:32<00:00,  4.25it/s]\n",
      "Epoch 60/60 [Val]: 100%|██████████| 84/84 [00:19<00:00,  4.24it/s]"
     ]
    },
    {
     "name": "stdout",
     "output_type": "stream",
     "text": [
      "\n",
      "Epoch 60:\n",
      " Train -> Loss=1.0813, Acc=0.6237, Prec=0.2644, Rec=0.2279, F1=0.1998, AUC=0.7018\n",
      " Val   -> Loss=1.0679, Acc=0.6302, Prec=0.3080, Rec=0.2394, F1=0.2169, AUC=0.7093\n",
      "Best model (AUC) saved with AUC = 0.7093\n",
      "Best model (Loss) saved with Loss = 1.0679\n"
     ]
    },
    {
     "name": "stderr",
     "output_type": "stream",
     "text": [
      "\n"
     ]
    }
   ],
   "source": [
    "best_val_loss = np.inf\n",
    "best_val_auc = -np.inf\n",
    "patience_counter = 0\n",
    "\n",
    "# For tracking\n",
    "history = {\n",
    "    \"train_loss\": [], \"val_loss\": [],\n",
    "    \"train_acc\": [], \"val_acc\": [],\n",
    "    \"train_prec\": [], \"val_prec\": [],\n",
    "    \"train_rec\": [], \"val_rec\": [],\n",
    "    \"train_f1\": [], \"val_f1\": [],\n",
    "    \"train_auc\": [], \"val_auc\": []\n",
    "}\n",
    "\n",
    "# Adding SEED \n",
    "SEED = 42\n",
    "np.random.seed(SEED)\n",
    "torch.manual_seed(SEED)\n",
    "torch.cuda.manual_seed(SEED)\n",
    "torch.backends.cudnn.deterministic = True\n",
    "torch.backends.cudnn.benchmark = False\n",
    "\n",
    "# =====================\n",
    "# TRAINING LOOP\n",
    "# =====================\n",
    "for epoch in range(config[\"epochs\"]):\n",
    "    # -------- TRAIN --------\n",
    "    model.train()\n",
    "    train_loss, train_preds, train_labels, train_probs = 0, [], [], []\n",
    "    for images, labels in tqdm(train_loader, desc=f\"Epoch {epoch+1}/{config['epochs']} [Train]\"):\n",
    "        images, labels = images.to(device), labels.to(device)\n",
    "        optimizer.zero_grad()\n",
    "        preds = model(images)\n",
    "        loss = criterion(preds, labels)\n",
    "        loss.backward()\n",
    "        optimizer.step()\n",
    "        train_loss += loss.item()\n",
    "        probs = torch.softmax(preds, dim=1)\n",
    "        train_preds.extend(torch.argmax(preds, 1).cpu().numpy())\n",
    "        train_labels.extend(labels.cpu().numpy())\n",
    "        train_probs.extend(probs.cpu().detach().numpy())\n",
    "\n",
    "    train_loss /= len(train_loader)\n",
    "    train_acc, train_prec, train_rec, train_f1, train_auc = compute_metrics(\n",
    "        train_labels, train_preds, train_probs\n",
    "    )\n",
    "\n",
    "    # -------- VALIDATION --------\n",
    "    model.eval()\n",
    "    val_loss, val_preds, val_labels, val_probs = 0, [], [], []\n",
    "    with torch.no_grad():\n",
    "        for images, labels in tqdm(val_loader, desc=f\"Epoch {epoch+1}/{config['epochs']} [Val]\"):\n",
    "            images, labels = images.to(device), labels.to(device)\n",
    "            preds = model(images)\n",
    "            loss = criterion(preds, labels)\n",
    "            val_loss += loss.item()\n",
    "            probs = torch.softmax(preds, dim=1)\n",
    "            val_preds.extend(torch.argmax(preds, 1).cpu().numpy())\n",
    "            val_labels.extend(labels.cpu().numpy())\n",
    "            val_probs.extend(probs.cpu().numpy())\n",
    "\n",
    "    val_loss /= len(val_loader)\n",
    "    val_acc, val_prec, val_rec, val_f1, val_auc = compute_metrics(\n",
    "        val_labels, val_preds, val_probs\n",
    "    )\n",
    "\n",
    "    # Save history\n",
    "    history[\"train_loss\"].append(train_loss)\n",
    "    history[\"val_loss\"].append(val_loss)\n",
    "    history[\"train_acc\"].append(train_acc)\n",
    "    history[\"val_acc\"].append(val_acc)\n",
    "    history[\"train_prec\"].append(train_prec)\n",
    "    history[\"val_prec\"].append(val_prec)\n",
    "    history[\"train_rec\"].append(train_rec)\n",
    "    history[\"val_rec\"].append(val_rec)\n",
    "    history[\"train_f1\"].append(train_f1)\n",
    "    history[\"val_f1\"].append(val_f1)\n",
    "    history[\"train_auc\"].append(train_auc)\n",
    "    history[\"val_auc\"].append(val_auc)\n",
    "\n",
    "    # Print results like your screenshot\n",
    "    print(f\"\\nEpoch {epoch+1}:\")\n",
    "    print(f\" Train -> Loss={train_loss:.4f}, Acc={train_acc:.4f}, Prec={train_prec:.4f}, \"\n",
    "          f\"Rec={train_rec:.4f}, F1={train_f1:.4f}, AUC={train_auc:.4f}\")\n",
    "    print(f\" Val   -> Loss={val_loss:.4f}, Acc={val_acc:.4f}, Prec={val_prec:.4f}, \"\n",
    "          f\"Rec={val_rec:.4f}, F1={val_f1:.4f}, AUC={val_auc:.4f}\")\n",
    "\n",
    "    # Save best model based on AUC\n",
    "    if val_auc > best_val_auc:\n",
    "        best_val_auc = val_auc\n",
    "        patience_counter = 0\n",
    "        torch.save(model.state_dict(), config[\"model_path_auc\"])\n",
    "        print(f\"Best model (AUC) saved with AUC = {best_val_auc:.4f}\")\n",
    "    else:\n",
    "        print(f\"Validation AUC {val_auc:.4f} did not improve from {best_val_auc:.4f}\")\n",
    "\n",
    "    # Save best model based on Loss\n",
    "    if val_loss < best_val_loss:\n",
    "        best_val_loss = val_loss\n",
    "        torch.save(model.state_dict(), config[\"model_path_loss\"])\n",
    "        print(f\"Best model (Loss) saved with Loss = {best_val_loss:.4f}\")\n",
    "    else:\n",
    "        print(f\"Validation Loss {val_loss:.4f} did not reduced from {best_val_loss:.4f}\")\n",
    "\n",
    "    # Early stopping (based on AUC)\n",
    "    if val_auc <= best_val_auc:\n",
    "        patience_counter += 1\n",
    "        if patience_counter >= config[\"early_stopping_patience\"]:\n",
    "            print(\"Early stopping triggered!\")\n",
    "            break\n"
   ]
  },
  {
   "cell_type": "markdown",
   "id": "4e72c595",
   "metadata": {},
   "source": [
    "# Testing and Plotting"
   ]
  },
  {
   "cell_type": "code",
   "execution_count": 7,
   "id": "4febc929",
   "metadata": {},
   "outputs": [
    {
     "name": "stdout",
     "output_type": "stream",
     "text": [
      "\n",
      "=== Test Results ===\n",
      " Loss=1.0893, Acc=0.6243, Prec=0.4496, Rec=0.2282, F1=0.2002, AUC=0.7019, Spec=0.8126\n"
     ]
    },
    {
     "data": {
      "image/png": "[encoded data removed]",
      "text/plain": [
       "<Figure size 1200x400 with 3 Axes>"
      ]
     },
     "metadata": {},
     "output_type": "display_data"
    }
   ],
   "source": [
    "# =====================\n",
    "# TESTING\n",
    "# =====================\n",
    "model.load_state_dict(torch.load(config[\"model_path_auc\"]))\n",
    "model.eval()\n",
    "test_loss, test_preds, test_labels, test_probs = 0, [], [], []\n",
    "with torch.no_grad():\n",
    "    for images, labels in test_loader:\n",
    "        images, labels = images.to(device), labels.to(device)\n",
    "        preds = model(images)\n",
    "        loss = criterion(preds, labels)\n",
    "        test_loss += loss.item()\n",
    "        probs = torch.softmax(preds, dim=1)\n",
    "        test_preds.extend(torch.argmax(preds, 1).cpu().numpy())\n",
    "        test_labels.extend(labels.cpu().numpy())\n",
    "        test_probs.extend(probs.cpu().numpy())\n",
    "\n",
    "test_loss /= len(test_loader)\n",
    "test_acc, test_prec, test_rec, test_f1, test_auc = compute_metrics(test_labels, test_preds, test_probs)\n",
    "\n",
    "# Specificity (macro-averaged)\n",
    "cm = confusion_matrix(test_labels, test_preds)\n",
    "tn = cm.sum() - (cm.sum(axis=1) + cm.sum(axis=0) - np.diag(cm))\n",
    "fp = cm.sum(axis=0) - np.diag(cm)\n",
    "specificity = np.mean(tn / (tn + fp + 1e-8))\n",
    "\n",
    "print(\"\\n=== Test Results ===\")\n",
    "print(f\" Loss={test_loss:.4f}, Acc={test_acc:.4f}, Prec={test_prec:.4f}, \"\n",
    "      f\"Rec={test_rec:.4f}, F1={test_f1:.4f}, AUC={test_auc:.4f}, Spec={specificity:.4f}\")\n",
    "\n",
    "# Confusion matrix plot\n",
    "plt.figure(figsize=(8, 6))\n",
    "sns.heatmap(cm, annot=True, fmt=\"d\", cmap=\"Blues\",\n",
    "            xticklabels=test_data.classes, yticklabels=test_data.classes)\n",
    "plt.xlabel(\"Predicted\")\n",
    "plt.ylabel(\"True\")\n",
    "plt.title(\"Confusion Matrix\")\n",
    "plt.tight_layout()\n",
    "plt.savefig(\"confusion_matrix.png\")\n",
    "plt.close()\n",
    "\n",
    "# =====================\n",
    "# FINAL SUMMARY PLOT\n",
    "# =====================\n",
    "plt.figure(figsize=(12, 4))\n",
    "plt.subplot(1, 3, 1)\n",
    "plt.plot(history[\"train_loss\"], label=\"Train\")\n",
    "plt.plot(history[\"val_loss\"], label=\"Val\")\n",
    "plt.title(\"Loss\")\n",
    "plt.legend()\n",
    "\n",
    "plt.subplot(1, 3, 2)\n",
    "plt.plot(history[\"train_acc\"], label=\"Train\")\n",
    "plt.plot(history[\"val_acc\"], label=\"Val\")\n",
    "plt.title(\"Accuracy\")\n",
    "plt.legend()\n",
    "\n",
    "plt.subplot(1, 3, 3)\n",
    "plt.plot(history[\"train_auc\"], label=\"Train\")\n",
    "plt.plot(history[\"val_auc\"], label=\"Val\")\n",
    "plt.title(\"AUC\")\n",
    "plt.legend()\n",
    "\n",
    "plt.tight_layout()\n",
    "plt.savefig(\"summary.png\")\n",
    "plt.show()"
   ]
  },
  {
   "cell_type": "markdown",
   "id": "fecaa94f",
   "metadata": {},
   "source": []
  }
 ],
 "metadata": {
  "kernelspec": {
   "display_name": "Capstone",
   "language": "python",
   "name": "python3"
  },
  "language_info": {
   "codemirror_mode": {
    "name": "ipython",
    "version": 3
   },
   "file_extension": ".py",
   "mimetype": "text/x-python",
   "name": "python",
   "nbconvert_exporter": "python",
   "pygments_lexer": "ipython3",
   "version": "3.13.5"
  }
 },
 "nbformat": 4,
 "nbformat_minor": 5
}

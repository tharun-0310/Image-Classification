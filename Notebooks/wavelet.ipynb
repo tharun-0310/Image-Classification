{
 "cells": [
  {
   "cell_type": "markdown",
   "id": "df64218d",
   "metadata": {},
   "source": [
    "# Imports"
   ]
  },
  {
   "cell_type": "code",
   "execution_count": 1,
   "id": "9743f416",
   "metadata": {},
   "outputs": [],
   "source": [
    "import torch\n",
    "import os\n",
    "import torch.nn as nn\n",
    "import torch.optim as optim\n",
    "from torch.utils.data import DataLoader\n",
    "from torchvision import datasets, transforms, models\n",
    "from sklearn.metrics import (\n",
    "    accuracy_score, precision_score, recall_score, f1_score,\n",
    "    roc_auc_score, confusion_matrix\n",
    ")\n",
    "import numpy as np\n",
    "from tqdm import tqdm\n",
    "import matplotlib.pyplot as plt\n",
    "import seaborn as sns"
   ]
  },
  {
   "cell_type": "markdown",
   "id": "cdf1cce8",
   "metadata": {},
   "source": [
    "# Configuration's"
   ]
  },
  {
   "cell_type": "code",
   "execution_count": 2,
   "id": "2e6d1f13",
   "metadata": {},
   "outputs": [
    {
     "name": "stdout",
     "output_type": "stream",
     "text": [
      "Models will be saved in: models\\wavelet\\best_auc.pth\n",
      "Models will be saved in: models\\wavelet\\best_loss.pth\n"
     ]
    }
   ],
   "source": [
    "# =====================\n",
    "# CONFIGURATION\n",
    "# =====================\n",
    "config = {\n",
    "    \"model\": \"wavelet\",   # Options: mobilenetv2, convnext, dct, stft, wavelet, learnable_freq\n",
    "    \"epochs\": 60,\n",
    "    \"batch_size\": 32,\n",
    "    \"lr\": 1e-3,\n",
    "    \"early_stopping_patience\": 7,\n",
    "    \"dropout\": 0.4,\n",
    "    \"num_classes\": 5,  # update based on dataset\n",
    "    \"train_dir\": r\"F:\\final project\\Capstone Prj\\Dataset\\dataset_split\\train\",\n",
    "    \"val_dir\": r\"F:\\final project\\Capstone Prj\\Dataset\\dataset_split\\val\",\n",
    "    \"test_dir\": r\"F:\\final project\\Capstone Prj\\Dataset\\dataset_split\\test\",\n",
    "}\n",
    "config[\"save_dir\"] = os.path.join(\"models\", config[\"model\"])\n",
    "os.makedirs(config[\"save_dir\"], exist_ok=True)\n",
    "\n",
    "config[\"model_path_auc\"] = os.path.join(config[\"save_dir\"], \"best_auc.pth\")\n",
    "config[\"model_path_loss\"] = os.path.join(config[\"save_dir\"], \"best_loss.pth\")\n",
    "print(f\"Models will be saved in: {config['model_path_auc']}\")\n",
    "print(f\"Models will be saved in: {config['model_path_loss']}\")"
   ]
  },
  {
   "cell_type": "markdown",
   "id": "3ad3cc3a",
   "metadata": {},
   "source": [
    "# Transformation and DataLoader"
   ]
  },
  {
   "cell_type": "code",
   "execution_count": 3,
   "id": "2eb094af",
   "metadata": {},
   "outputs": [
    {
     "name": "stdout",
     "output_type": "stream",
     "text": [
      "Using device: cuda - NVIDIA GeForce RTX 3050 Laptop GPU\n"
     ]
    }
   ],
   "source": [
    "# =====================\n",
    "# DATA PIPELINE\n",
    "# =====================\n",
    "transform = transforms.Compose([\n",
    "    transforms.Resize((224, 224)),\n",
    "    transforms.ToTensor(),\n",
    "])\n",
    "\n",
    "train_data = datasets.ImageFolder(config[\"train_dir\"], transform=transform)\n",
    "val_data = datasets.ImageFolder(config[\"val_dir\"], transform=transform)\n",
    "test_data = datasets.ImageFolder(config[\"test_dir\"], transform=transform)\n",
    "\n",
    "train_loader = DataLoader(train_data, batch_size=config[\"batch_size\"], shuffle=True)\n",
    "val_loader = DataLoader(val_data, batch_size=config[\"batch_size\"], shuffle=False)\n",
    "test_loader = DataLoader(test_data, batch_size=config[\"batch_size\"], shuffle=False)\n",
    "\n",
    "# =====================\n",
    "# DEVICE\n",
    "# =====================\n",
    "device = torch.device(\"cuda\" if torch.cuda.is_available() else \"cpu\")\n",
    "print(f\"Using device: {device}\" + (f\" - {torch.cuda.get_device_name(0)}\" if torch.cuda.is_available() else \"\"))"
   ]
  },
  {
   "cell_type": "markdown",
   "id": "0bb332c7",
   "metadata": {},
   "source": [
    "# Model Builder"
   ]
  },
  {
   "cell_type": "code",
   "execution_count": 4,
   "id": "529c9e30",
   "metadata": {},
   "outputs": [],
   "source": [
    "# =====================\n",
    "# MODEL BUILDER\n",
    "# =====================\n",
    "class ClassifierHead(nn.Module):\n",
    "    def __init__(self, in_features, num_classes, dropout=0.5):\n",
    "        super().__init__()\n",
    "        self.fc = nn.Sequential(\n",
    "            nn.BatchNorm1d(in_features),\n",
    "            nn.Dropout(dropout),\n",
    "            nn.Linear(in_features, num_classes)\n",
    "        )\n",
    "    def forward(self, x):\n",
    "        return self.fc(x)\n",
    "\n",
    "def build_model(config):\n",
    "    if config[\"model\"] == \"mobilenetv2\":\n",
    "        base = models.mobilenet_v2(weights=\"IMAGENET1K_V1\")\n",
    "        in_features = base.classifier[1].in_features\n",
    "        base.classifier = ClassifierHead(in_features, config[\"num_classes\"], config[\"dropout\"])\n",
    "        return base\n",
    "\n",
    "    elif config[\"model\"] == \"convnext\":\n",
    "        base = models.convnext_tiny(weights=\"IMAGENET1K_V1\")\n",
    "        in_features = base.classifier[2].in_features\n",
    "        base.classifier[2] = nn.Linear(in_features, config[\"num_classes\"])\n",
    "        return base\n",
    "\n",
    "    elif config[\"model\"] == \"dct\":\n",
    "        return nn.Sequential(\n",
    "            nn.Flatten(),\n",
    "            nn.Linear(224*224*3, 512),\n",
    "            nn.ReLU(),\n",
    "            nn.Dropout(config[\"dropout\"]),\n",
    "            nn.Linear(512, config[\"num_classes\"])\n",
    "        )\n",
    "\n",
    "    elif config[\"model\"] == \"stft\":\n",
    "        return nn.Sequential(\n",
    "            nn.Conv2d(3, 16, 3, padding=1),\n",
    "            nn.ReLU(),\n",
    "            nn.AdaptiveAvgPool2d((1, 1)),\n",
    "            nn.Flatten(),\n",
    "            nn.Linear(16, config[\"num_classes\"])\n",
    "        )\n",
    "\n",
    "    elif config[\"model\"] == \"wavelet\":\n",
    "        return nn.Sequential(\n",
    "            nn.Conv2d(3, 32, 3, padding=1),\n",
    "            nn.ReLU(),\n",
    "            nn.AdaptiveAvgPool2d((1, 1)),\n",
    "            nn.Flatten(),\n",
    "            nn.Linear(32, config[\"num_classes\"])\n",
    "        )\n",
    "\n",
    "    elif config[\"model\"] == \"learnable_freq\":\n",
    "        return nn.Sequential(\n",
    "            nn.Conv2d(3, 32, 3, stride=1, padding=1),\n",
    "            nn.ReLU(),\n",
    "            nn.AdaptiveAvgPool2d((1, 1)),\n",
    "            nn.Flatten(),\n",
    "            nn.Linear(32, config[\"num_classes\"])\n",
    "        )\n",
    "\n",
    "    else:\n",
    "        raise ValueError(f\"Unknown model type: {config['model']}\")\n",
    "\n",
    "model = build_model(config).to(device)\n",
    "\n",
    "# =====================\n",
    "# TRAINING SETUP\n",
    "# =====================\n",
    "criterion = nn.CrossEntropyLoss()\n",
    "optimizer = optim.Adam(model.parameters(), lr=config[\"lr\"])\n",
    "scheduler = optim.lr_scheduler.ReduceLROnPlateau(optimizer, patience=2, factor=0.5)"
   ]
  },
  {
   "cell_type": "markdown",
   "id": "ef297151",
   "metadata": {},
   "source": [
    "# Helper Function's"
   ]
  },
  {
   "cell_type": "code",
   "execution_count": 5,
   "id": "a9aa5607",
   "metadata": {},
   "outputs": [],
   "source": [
    "# =====================\n",
    "# HELPER FUNCTIONS\n",
    "# =====================\n",
    "def compute_metrics(y_true, y_pred, y_prob, average=\"macro\"):\n",
    "    acc = accuracy_score(y_true, y_pred)\n",
    "    prec = precision_score(y_true, y_pred, average=average, zero_division=0)\n",
    "    rec = recall_score(y_true, y_pred, average=average, zero_division=0)\n",
    "    f1 = f1_score(y_true, y_pred, average=average, zero_division=0)\n",
    "    try:\n",
    "        auc = roc_auc_score(y_true, y_prob, multi_class=\"ovr\")\n",
    "    except:\n",
    "        auc = 0.0\n",
    "    return acc, prec, rec, f1, auc"
   ]
  },
  {
   "cell_type": "markdown",
   "id": "fbb1420e",
   "metadata": {},
   "source": [
    "# Training and Validation"
   ]
  },
  {
   "cell_type": "code",
   "execution_count": 6,
   "id": "8279fcd6",
   "metadata": {},
   "outputs": [
    {
     "name": "stderr",
     "output_type": "stream",
     "text": [
      "Epoch 1/60 [Train]: 100%|██████████| 393/393 [02:01<00:00,  3.24it/s]\n",
      "Epoch 1/60 [Val]: 100%|██████████| 84/84 [00:21<00:00,  3.92it/s]\n"
     ]
    },
    {
     "name": "stdout",
     "output_type": "stream",
     "text": [
      "\n",
      "Epoch 1:\n",
      " Train -> Loss=1.1976, Acc=0.6148, Prec=0.1230, Rec=0.2000, F1=0.1523, AUC=0.5291\n",
      " Val   -> Loss=1.1767, Acc=0.6153, Prec=0.1231, Rec=0.2000, F1=0.1524, AUC=0.5475\n",
      "Best model (AUC) saved with AUC = 0.5475\n",
      "Best model (Loss) saved with Loss = 1.1767\n"
     ]
    },
    {
     "name": "stderr",
     "output_type": "stream",
     "text": [
      "Epoch 2/60 [Train]: 100%|██████████| 393/393 [01:41<00:00,  3.87it/s]\n",
      "Epoch 2/60 [Val]: 100%|██████████| 84/84 [00:18<00:00,  4.44it/s]\n"
     ]
    },
    {
     "name": "stdout",
     "output_type": "stream",
     "text": [
      "\n",
      "Epoch 2:\n",
      " Train -> Loss=1.1798, Acc=0.6148, Prec=0.1230, Rec=0.2000, F1=0.1523, AUC=0.5425\n",
      " Val   -> Loss=1.1742, Acc=0.6153, Prec=0.1231, Rec=0.2000, F1=0.1524, AUC=0.5720\n",
      "Best model (AUC) saved with AUC = 0.5720\n",
      "Best model (Loss) saved with Loss = 1.1742\n"
     ]
    },
    {
     "name": "stderr",
     "output_type": "stream",
     "text": [
      "Epoch 3/60 [Train]: 100%|██████████| 393/393 [01:39<00:00,  3.95it/s]\n",
      "Epoch 3/60 [Val]: 100%|██████████| 84/84 [00:19<00:00,  4.24it/s]\n"
     ]
    },
    {
     "name": "stdout",
     "output_type": "stream",
     "text": [
      "\n",
      "Epoch 3:\n",
      " Train -> Loss=1.1764, Acc=0.6148, Prec=0.1230, Rec=0.2000, F1=0.1523, AUC=0.5576\n",
      " Val   -> Loss=1.1686, Acc=0.6153, Prec=0.1231, Rec=0.2000, F1=0.1524, AUC=0.5875\n",
      "Best model (AUC) saved with AUC = 0.5875\n",
      "Best model (Loss) saved with Loss = 1.1686\n"
     ]
    },
    {
     "name": "stderr",
     "output_type": "stream",
     "text": [
      "Epoch 4/60 [Train]: 100%|██████████| 393/393 [01:40<00:00,  3.90it/s]\n",
      "Epoch 4/60 [Val]: 100%|██████████| 84/84 [00:21<00:00,  3.92it/s]\n"
     ]
    },
    {
     "name": "stdout",
     "output_type": "stream",
     "text": [
      "\n",
      "Epoch 4:\n",
      " Train -> Loss=1.1708, Acc=0.6148, Prec=0.1230, Rec=0.2000, F1=0.1523, AUC=0.5711\n",
      " Val   -> Loss=1.1587, Acc=0.6153, Prec=0.1231, Rec=0.2000, F1=0.1524, AUC=0.6026\n",
      "Best model (AUC) saved with AUC = 0.6026\n",
      "Best model (Loss) saved with Loss = 1.1587\n"
     ]
    },
    {
     "name": "stderr",
     "output_type": "stream",
     "text": [
      "Epoch 5/60 [Train]: 100%|██████████| 393/393 [01:42<00:00,  3.84it/s]\n",
      "Epoch 5/60 [Val]: 100%|██████████| 84/84 [00:20<00:00,  4.05it/s]\n"
     ]
    },
    {
     "name": "stdout",
     "output_type": "stream",
     "text": [
      "\n",
      "Epoch 5:\n",
      " Train -> Loss=1.1646, Acc=0.6148, Prec=0.1230, Rec=0.2000, F1=0.1523, AUC=0.5853\n",
      " Val   -> Loss=1.1556, Acc=0.6153, Prec=0.1231, Rec=0.2000, F1=0.1524, AUC=0.6154\n",
      "Best model (AUC) saved with AUC = 0.6154\n",
      "Best model (Loss) saved with Loss = 1.1556\n"
     ]
    },
    {
     "name": "stderr",
     "output_type": "stream",
     "text": [
      "Epoch 6/60 [Train]: 100%|██████████| 393/393 [01:43<00:00,  3.81it/s]\n",
      "Epoch 6/60 [Val]: 100%|██████████| 84/84 [00:19<00:00,  4.37it/s]\n"
     ]
    },
    {
     "name": "stdout",
     "output_type": "stream",
     "text": [
      "\n",
      "Epoch 6:\n",
      " Train -> Loss=1.1595, Acc=0.6149, Prec=0.3230, Rec=0.2003, F1=0.1529, AUC=0.6011\n",
      " Val   -> Loss=1.1474, Acc=0.6161, Prec=0.2565, Rec=0.2015, F1=0.1554, AUC=0.6331\n",
      "Best model (AUC) saved with AUC = 0.6331\n",
      "Best model (Loss) saved with Loss = 1.1474\n"
     ]
    },
    {
     "name": "stderr",
     "output_type": "stream",
     "text": [
      "Epoch 7/60 [Train]: 100%|██████████| 393/393 [01:45<00:00,  3.72it/s]\n",
      "Epoch 7/60 [Val]: 100%|██████████| 84/84 [00:19<00:00,  4.29it/s]\n"
     ]
    },
    {
     "name": "stdout",
     "output_type": "stream",
     "text": [
      "\n",
      "Epoch 7:\n",
      " Train -> Loss=1.1525, Acc=0.6152, Prec=0.1968, Rec=0.2010, F1=0.1545, AUC=0.6160\n",
      " Val   -> Loss=1.1475, Acc=0.6168, Prec=0.1963, Rec=0.2029, F1=0.1584, AUC=0.6445\n",
      "Best model (AUC) saved with AUC = 0.6445\n",
      "Validation Loss 1.1475 did not reduced from 1.1474\n"
     ]
    },
    {
     "name": "stderr",
     "output_type": "stream",
     "text": [
      "Epoch 8/60 [Train]: 100%|██████████| 393/393 [01:41<00:00,  3.86it/s]\n",
      "Epoch 8/60 [Val]: 100%|██████████| 84/84 [00:19<00:00,  4.31it/s]\n"
     ]
    },
    {
     "name": "stdout",
     "output_type": "stream",
     "text": [
      "\n",
      "Epoch 8:\n",
      " Train -> Loss=1.1465, Acc=0.6157, Prec=0.2180, Rec=0.2026, F1=0.1579, AUC=0.6255\n",
      " Val   -> Loss=1.1328, Acc=0.6172, Prec=0.1951, Rec=0.2036, F1=0.1598, AUC=0.6585\n",
      "Best model (AUC) saved with AUC = 0.6585\n",
      "Best model (Loss) saved with Loss = 1.1328\n"
     ]
    },
    {
     "name": "stderr",
     "output_type": "stream",
     "text": [
      "Epoch 9/60 [Train]: 100%|██████████| 393/393 [01:42<00:00,  3.83it/s]\n",
      "Epoch 9/60 [Val]: 100%|██████████| 84/84 [00:18<00:00,  4.44it/s]\n"
     ]
    },
    {
     "name": "stdout",
     "output_type": "stream",
     "text": [
      "\n",
      "Epoch 9:\n",
      " Train -> Loss=1.1395, Acc=0.6165, Prec=0.2017, Rec=0.2047, F1=0.1621, AUC=0.6418\n",
      " Val   -> Loss=1.1291, Acc=0.6187, Prec=0.2138, Rec=0.2090, F1=0.1702, AUC=0.6648\n",
      "Best model (AUC) saved with AUC = 0.6648\n",
      "Best model (Loss) saved with Loss = 1.1291\n"
     ]
    },
    {
     "name": "stderr",
     "output_type": "stream",
     "text": [
      "Epoch 10/60 [Train]: 100%|██████████| 393/393 [01:43<00:00,  3.79it/s]\n",
      "Epoch 10/60 [Val]: 100%|██████████| 84/84 [00:21<00:00,  3.89it/s]\n"
     ]
    },
    {
     "name": "stdout",
     "output_type": "stream",
     "text": [
      "\n",
      "Epoch 10:\n",
      " Train -> Loss=1.1357, Acc=0.6169, Prec=0.1929, Rec=0.2058, F1=0.1641, AUC=0.6506\n",
      " Val   -> Loss=1.1207, Acc=0.6187, Prec=0.2192, Rec=0.2072, F1=0.1666, AUC=0.6745\n",
      "Best model (AUC) saved with AUC = 0.6745\n",
      "Best model (Loss) saved with Loss = 1.1207\n"
     ]
    },
    {
     "name": "stderr",
     "output_type": "stream",
     "text": [
      "Epoch 11/60 [Train]: 100%|██████████| 393/393 [01:43<00:00,  3.79it/s]\n",
      "Epoch 11/60 [Val]: 100%|██████████| 84/84 [00:19<00:00,  4.39it/s]\n"
     ]
    },
    {
     "name": "stdout",
     "output_type": "stream",
     "text": [
      "\n",
      "Epoch 11:\n",
      " Train -> Loss=1.1299, Acc=0.6169, Prec=0.1934, Rec=0.2072, F1=0.1669, AUC=0.6568\n",
      " Val   -> Loss=1.1180, Acc=0.6220, Prec=0.2226, Rec=0.2156, F1=0.1812, AUC=0.6774\n",
      "Best model (AUC) saved with AUC = 0.6774\n",
      "Best model (Loss) saved with Loss = 1.1180\n"
     ]
    },
    {
     "name": "stderr",
     "output_type": "stream",
     "text": [
      "Epoch 12/60 [Train]: 100%|██████████| 393/393 [01:41<00:00,  3.87it/s]\n",
      "Epoch 12/60 [Val]: 100%|██████████| 84/84 [00:19<00:00,  4.21it/s]\n"
     ]
    },
    {
     "name": "stdout",
     "output_type": "stream",
     "text": [
      "\n",
      "Epoch 12:\n",
      " Train -> Loss=1.1256, Acc=0.6175, Prec=0.1906, Rec=0.2083, F1=0.1688, AUC=0.6635\n",
      " Val   -> Loss=1.1158, Acc=0.6194, Prec=0.2207, Rec=0.2099, F1=0.1716, AUC=0.6812\n",
      "Best model (AUC) saved with AUC = 0.6812\n",
      "Best model (Loss) saved with Loss = 1.1158\n"
     ]
    },
    {
     "name": "stderr",
     "output_type": "stream",
     "text": [
      "Epoch 13/60 [Train]: 100%|██████████| 393/393 [01:37<00:00,  4.01it/s]\n",
      "Epoch 13/60 [Val]: 100%|██████████| 84/84 [00:18<00:00,  4.55it/s]\n"
     ]
    },
    {
     "name": "stdout",
     "output_type": "stream",
     "text": [
      "\n",
      "Epoch 13:\n",
      " Train -> Loss=1.1218, Acc=0.6181, Prec=0.1922, Rec=0.2101, F1=0.1719, AUC=0.6651\n",
      " Val   -> Loss=1.1061, Acc=0.6202, Prec=0.2164, Rec=0.2119, F1=0.1752, AUC=0.6861\n",
      "Best model (AUC) saved with AUC = 0.6861\n",
      "Best model (Loss) saved with Loss = 1.1061\n"
     ]
    },
    {
     "name": "stderr",
     "output_type": "stream",
     "text": [
      "Epoch 14/60 [Train]: 100%|██████████| 393/393 [01:38<00:00,  4.01it/s]\n",
      "Epoch 14/60 [Val]: 100%|██████████| 84/84 [00:18<00:00,  4.50it/s]\n"
     ]
    },
    {
     "name": "stdout",
     "output_type": "stream",
     "text": [
      "\n",
      "Epoch 14:\n",
      " Train -> Loss=1.1163, Acc=0.6187, Prec=0.1940, Rec=0.2117, F1=0.1746, AUC=0.6722\n",
      " Val   -> Loss=1.1024, Acc=0.6228, Prec=0.2271, Rec=0.2170, F1=0.1836, AUC=0.6901\n",
      "Best model (AUC) saved with AUC = 0.6901\n",
      "Best model (Loss) saved with Loss = 1.1024\n"
     ]
    },
    {
     "name": "stderr",
     "output_type": "stream",
     "text": [
      "Epoch 15/60 [Train]: 100%|██████████| 393/393 [01:42<00:00,  3.85it/s]\n",
      "Epoch 15/60 [Val]: 100%|██████████| 84/84 [00:21<00:00,  3.90it/s]\n"
     ]
    },
    {
     "name": "stdout",
     "output_type": "stream",
     "text": [
      "\n",
      "Epoch 15:\n",
      " Train -> Loss=1.1112, Acc=0.6195, Prec=0.3940, Rec=0.2134, F1=0.1774, AUC=0.6777\n",
      " Val   -> Loss=1.0981, Acc=0.6224, Prec=0.2773, Rec=0.2170, F1=0.1842, AUC=0.6922\n",
      "Best model (AUC) saved with AUC = 0.6922\n",
      "Best model (Loss) saved with Loss = 1.0981\n"
     ]
    },
    {
     "name": "stderr",
     "output_type": "stream",
     "text": [
      "Epoch 16/60 [Train]: 100%|██████████| 393/393 [01:39<00:00,  3.96it/s]\n",
      "Epoch 16/60 [Val]: 100%|██████████| 84/84 [00:18<00:00,  4.51it/s]\n"
     ]
    },
    {
     "name": "stdout",
     "output_type": "stream",
     "text": [
      "\n",
      "Epoch 16:\n",
      " Train -> Loss=1.1083, Acc=0.6200, Prec=0.1966, Rec=0.2149, F1=0.1796, AUC=0.6798\n",
      " Val   -> Loss=1.0962, Acc=0.6209, Prec=0.2482, Rec=0.2141, F1=0.1793, AUC=0.6938\n",
      "Best model (AUC) saved with AUC = 0.6938\n",
      "Best model (Loss) saved with Loss = 1.0962\n"
     ]
    },
    {
     "name": "stderr",
     "output_type": "stream",
     "text": [
      "Epoch 17/60 [Train]: 100%|██████████| 393/393 [01:35<00:00,  4.10it/s]\n",
      "Epoch 17/60 [Val]: 100%|██████████| 84/84 [00:18<00:00,  4.66it/s]\n"
     ]
    },
    {
     "name": "stdout",
     "output_type": "stream",
     "text": [
      "\n",
      "Epoch 17:\n",
      " Train -> Loss=1.1053, Acc=0.6200, Prec=0.1938, Rec=0.2155, F1=0.1805, AUC=0.6841\n",
      " Val   -> Loss=1.0941, Acc=0.6250, Prec=0.2227, Rec=0.2226, F1=0.1918, AUC=0.6955\n",
      "Best model (AUC) saved with AUC = 0.6955\n",
      "Best model (Loss) saved with Loss = 1.0941\n"
     ]
    },
    {
     "name": "stderr",
     "output_type": "stream",
     "text": [
      "Epoch 18/60 [Train]: 100%|██████████| 393/393 [01:38<00:00,  3.98it/s]\n",
      "Epoch 18/60 [Val]: 100%|██████████| 84/84 [00:19<00:00,  4.29it/s]\n"
     ]
    },
    {
     "name": "stdout",
     "output_type": "stream",
     "text": [
      "\n",
      "Epoch 18:\n",
      " Train -> Loss=1.1002, Acc=0.6203, Prec=0.1945, Rec=0.2159, F1=0.1810, AUC=0.6866\n",
      " Val   -> Loss=1.0871, Acc=0.6257, Prec=0.2184, Rec=0.2253, F1=0.1953, AUC=0.6985\n",
      "Best model (AUC) saved with AUC = 0.6985\n",
      "Best model (Loss) saved with Loss = 1.0871\n"
     ]
    },
    {
     "name": "stderr",
     "output_type": "stream",
     "text": [
      "Epoch 19/60 [Train]: 100%|██████████| 393/393 [01:40<00:00,  3.91it/s]\n",
      "Epoch 19/60 [Val]: 100%|██████████| 84/84 [00:19<00:00,  4.35it/s]\n"
     ]
    },
    {
     "name": "stdout",
     "output_type": "stream",
     "text": [
      "\n",
      "Epoch 19:\n",
      " Train -> Loss=1.0988, Acc=0.6212, Prec=0.1944, Rec=0.2177, F1=0.1836, AUC=0.6892\n",
      " Val   -> Loss=1.0832, Acc=0.6280, Prec=0.2222, Rec=0.2303, F1=0.2020, AUC=0.6996\n",
      "Best model (AUC) saved with AUC = 0.6996\n",
      "Best model (Loss) saved with Loss = 1.0832\n"
     ]
    },
    {
     "name": "stderr",
     "output_type": "stream",
     "text": [
      "Epoch 20/60 [Train]: 100%|██████████| 393/393 [01:40<00:00,  3.93it/s]\n",
      "Epoch 20/60 [Val]: 100%|██████████| 84/84 [00:19<00:00,  4.28it/s]\n"
     ]
    },
    {
     "name": "stdout",
     "output_type": "stream",
     "text": [
      "\n",
      "Epoch 20:\n",
      " Train -> Loss=1.0944, Acc=0.6209, Prec=0.2325, Rec=0.2185, F1=0.1851, AUC=0.6912\n",
      " Val   -> Loss=1.0862, Acc=0.6291, Prec=0.2164, Rec=0.2361, F1=0.2084, AUC=0.7009\n",
      "Best model (AUC) saved with AUC = 0.7009\n",
      "Validation Loss 1.0862 did not reduced from 1.0832\n"
     ]
    },
    {
     "name": "stderr",
     "output_type": "stream",
     "text": [
      "Epoch 21/60 [Train]: 100%|██████████| 393/393 [01:37<00:00,  4.05it/s]\n",
      "Epoch 21/60 [Val]: 100%|██████████| 84/84 [00:18<00:00,  4.54it/s]\n"
     ]
    },
    {
     "name": "stdout",
     "output_type": "stream",
     "text": [
      "\n",
      "Epoch 21:\n",
      " Train -> Loss=1.0914, Acc=0.6208, Prec=0.2591, Rec=0.2187, F1=0.1852, AUC=0.6940\n",
      " Val   -> Loss=1.0783, Acc=0.6272, Prec=0.2895, Rec=0.2303, F1=0.2041, AUC=0.7023\n",
      "Best model (AUC) saved with AUC = 0.7023\n",
      "Best model (Loss) saved with Loss = 1.0783\n"
     ]
    },
    {
     "name": "stderr",
     "output_type": "stream",
     "text": [
      "Epoch 22/60 [Train]: 100%|██████████| 393/393 [01:36<00:00,  4.08it/s]\n",
      "Epoch 22/60 [Val]: 100%|██████████| 84/84 [00:18<00:00,  4.55it/s]\n"
     ]
    },
    {
     "name": "stdout",
     "output_type": "stream",
     "text": [
      "\n",
      "Epoch 22:\n",
      " Train -> Loss=1.0916, Acc=0.6215, Prec=0.2335, Rec=0.2202, F1=0.1875, AUC=0.6915\n",
      " Val   -> Loss=1.0793, Acc=0.6265, Prec=0.2770, Rec=0.2295, F1=0.2039, AUC=0.7033\n",
      "Best model (AUC) saved with AUC = 0.7033\n",
      "Validation Loss 1.0793 did not reduced from 1.0783\n"
     ]
    },
    {
     "name": "stderr",
     "output_type": "stream",
     "text": [
      "Epoch 23/60 [Train]: 100%|██████████| 393/393 [01:37<00:00,  4.04it/s]\n",
      "Epoch 23/60 [Val]: 100%|██████████| 84/84 [00:18<00:00,  4.56it/s]\n"
     ]
    },
    {
     "name": "stdout",
     "output_type": "stream",
     "text": [
      "\n",
      "Epoch 23:\n",
      " Train -> Loss=1.0884, Acc=0.6213, Prec=0.2964, Rec=0.2213, F1=0.1892, AUC=0.6963\n",
      " Val   -> Loss=1.0805, Acc=0.6295, Prec=0.3156, Rec=0.2370, F1=0.2105, AUC=0.7048\n",
      "Best model (AUC) saved with AUC = 0.7048\n",
      "Validation Loss 1.0805 did not reduced from 1.0783\n"
     ]
    },
    {
     "name": "stderr",
     "output_type": "stream",
     "text": [
      "Epoch 24/60 [Train]: 100%|██████████| 393/393 [01:40<00:00,  3.91it/s]\n",
      "Epoch 24/60 [Val]: 100%|██████████| 84/84 [00:19<00:00,  4.38it/s]\n"
     ]
    },
    {
     "name": "stdout",
     "output_type": "stream",
     "text": [
      "\n",
      "Epoch 24:\n",
      " Train -> Loss=1.0864, Acc=0.6223, Prec=0.2163, Rec=0.2215, F1=0.1892, AUC=0.6968\n",
      " Val   -> Loss=1.0721, Acc=0.6265, Prec=0.2805, Rec=0.2308, F1=0.2056, AUC=0.7051\n",
      "Best model (AUC) saved with AUC = 0.7051\n",
      "Best model (Loss) saved with Loss = 1.0721\n"
     ]
    },
    {
     "name": "stderr",
     "output_type": "stream",
     "text": [
      "Epoch 25/60 [Train]: 100%|██████████| 393/393 [01:37<00:00,  4.02it/s]\n",
      "Epoch 25/60 [Val]: 100%|██████████| 84/84 [00:18<00:00,  4.61it/s]\n"
     ]
    },
    {
     "name": "stdout",
     "output_type": "stream",
     "text": [
      "\n",
      "Epoch 25:\n",
      " Train -> Loss=1.0840, Acc=0.6215, Prec=0.2836, Rec=0.2219, F1=0.1898, AUC=0.6986\n",
      " Val   -> Loss=1.0728, Acc=0.6280, Prec=0.2622, Rec=0.2341, F1=0.2069, AUC=0.7070\n",
      "Best model (AUC) saved with AUC = 0.7070\n",
      "Validation Loss 1.0728 did not reduced from 1.0721\n"
     ]
    },
    {
     "name": "stderr",
     "output_type": "stream",
     "text": [
      "Epoch 26/60 [Train]: 100%|██████████| 393/393 [01:36<00:00,  4.06it/s]\n",
      "Epoch 26/60 [Val]: 100%|██████████| 84/84 [00:18<00:00,  4.59it/s]\n"
     ]
    },
    {
     "name": "stdout",
     "output_type": "stream",
     "text": [
      "\n",
      "Epoch 26:\n",
      " Train -> Loss=1.0820, Acc=0.6214, Prec=0.2272, Rec=0.2220, F1=0.1902, AUC=0.6988\n",
      " Val   -> Loss=1.0693, Acc=0.6276, Prec=0.2992, Rec=0.2323, F1=0.2079, AUC=0.7074\n",
      "Best model (AUC) saved with AUC = 0.7074\n",
      "Best model (Loss) saved with Loss = 1.0693\n"
     ]
    },
    {
     "name": "stderr",
     "output_type": "stream",
     "text": [
      "Epoch 27/60 [Train]: 100%|██████████| 393/393 [01:36<00:00,  4.09it/s]\n",
      "Epoch 27/60 [Val]: 100%|██████████| 84/84 [00:19<00:00,  4.32it/s]\n"
     ]
    },
    {
     "name": "stdout",
     "output_type": "stream",
     "text": [
      "\n",
      "Epoch 27:\n",
      " Train -> Loss=1.0789, Acc=0.6221, Prec=0.2305, Rec=0.2225, F1=0.1907, AUC=0.7015\n",
      " Val   -> Loss=1.0665, Acc=0.6280, Prec=0.2637, Rec=0.2341, F1=0.2071, AUC=0.7086\n",
      "Best model (AUC) saved with AUC = 0.7086\n",
      "Best model (Loss) saved with Loss = 1.0665\n"
     ]
    },
    {
     "name": "stderr",
     "output_type": "stream",
     "text": [
      "Epoch 28/60 [Train]: 100%|██████████| 393/393 [01:43<00:00,  3.80it/s]\n",
      "Epoch 28/60 [Val]: 100%|██████████| 84/84 [00:19<00:00,  4.24it/s]\n"
     ]
    },
    {
     "name": "stdout",
     "output_type": "stream",
     "text": [
      "\n",
      "Epoch 28:\n",
      " Train -> Loss=1.0770, Acc=0.6226, Prec=0.2545, Rec=0.2238, F1=0.1926, AUC=0.7023\n",
      " Val   -> Loss=1.0735, Acc=0.6310, Prec=0.3908, Rec=0.2423, F1=0.2200, AUC=0.7094\n",
      "Best model (AUC) saved with AUC = 0.7094\n",
      "Validation Loss 1.0735 did not reduced from 1.0665\n"
     ]
    },
    {
     "name": "stderr",
     "output_type": "stream",
     "text": [
      "Epoch 29/60 [Train]: 100%|██████████| 393/393 [01:38<00:00,  3.98it/s]\n",
      "Epoch 29/60 [Val]: 100%|██████████| 84/84 [00:20<00:00,  4.14it/s]\n"
     ]
    },
    {
     "name": "stdout",
     "output_type": "stream",
     "text": [
      "\n",
      "Epoch 29:\n",
      " Train -> Loss=1.0775, Acc=0.6221, Prec=0.2245, Rec=0.2239, F1=0.1927, AUC=0.7022\n",
      " Val   -> Loss=1.0665, Acc=0.6291, Prec=0.3582, Rec=0.2366, F1=0.2130, AUC=0.7100\n",
      "Best model (AUC) saved with AUC = 0.7100\n",
      "Validation Loss 1.0665 did not reduced from 1.0665\n"
     ]
    },
    {
     "name": "stderr",
     "output_type": "stream",
     "text": [
      "Epoch 30/60 [Train]: 100%|██████████| 393/393 [01:36<00:00,  4.07it/s]\n",
      "Epoch 30/60 [Val]: 100%|██████████| 84/84 [00:18<00:00,  4.64it/s]\n"
     ]
    },
    {
     "name": "stdout",
     "output_type": "stream",
     "text": [
      "\n",
      "Epoch 30:\n",
      " Train -> Loss=1.0754, Acc=0.6227, Prec=0.2344, Rec=0.2246, F1=0.1934, AUC=0.7014\n",
      " Val   -> Loss=1.0623, Acc=0.6287, Prec=0.2912, Rec=0.2370, F1=0.2129, AUC=0.7117\n",
      "Best model (AUC) saved with AUC = 0.7117\n",
      "Best model (Loss) saved with Loss = 1.0623\n"
     ]
    },
    {
     "name": "stderr",
     "output_type": "stream",
     "text": [
      "Epoch 31/60 [Train]: 100%|██████████| 393/393 [01:43<00:00,  3.80it/s]\n",
      "Epoch 31/60 [Val]: 100%|██████████| 84/84 [00:21<00:00,  3.90it/s]\n"
     ]
    },
    {
     "name": "stdout",
     "output_type": "stream",
     "text": [
      "\n",
      "Epoch 31:\n",
      " Train -> Loss=1.0743, Acc=0.6235, Prec=0.2588, Rec=0.2275, F1=0.1980, AUC=0.7050\n",
      " Val   -> Loss=1.0622, Acc=0.6287, Prec=0.3542, Rec=0.2349, F1=0.2104, AUC=0.7117\n",
      "Validation AUC 0.7117 did not improve from 0.7117\n",
      "Best model (Loss) saved with Loss = 1.0622\n"
     ]
    },
    {
     "name": "stderr",
     "output_type": "stream",
     "text": [
      "Epoch 32/60 [Train]: 100%|██████████| 393/393 [01:47<00:00,  3.64it/s]\n",
      "Epoch 32/60 [Val]: 100%|██████████| 84/84 [00:21<00:00,  3.89it/s]\n"
     ]
    },
    {
     "name": "stdout",
     "output_type": "stream",
     "text": [
      "\n",
      "Epoch 32:\n",
      " Train -> Loss=1.0712, Acc=0.6236, Prec=0.2294, Rec=0.2269, F1=0.1968, AUC=0.7050\n",
      " Val   -> Loss=1.0601, Acc=0.6310, Prec=0.3988, Rec=0.2397, F1=0.2168, AUC=0.7131\n",
      "Best model (AUC) saved with AUC = 0.7131\n",
      "Best model (Loss) saved with Loss = 1.0601\n"
     ]
    },
    {
     "name": "stderr",
     "output_type": "stream",
     "text": [
      "Epoch 33/60 [Train]: 100%|██████████| 393/393 [01:50<00:00,  3.54it/s]\n",
      "Epoch 33/60 [Val]: 100%|██████████| 84/84 [00:22<00:00,  3.77it/s]\n"
     ]
    },
    {
     "name": "stdout",
     "output_type": "stream",
     "text": [
      "\n",
      "Epoch 33:\n",
      " Train -> Loss=1.0705, Acc=0.6239, Prec=0.2545, Rec=0.2283, F1=0.1986, AUC=0.7067\n",
      " Val   -> Loss=1.0609, Acc=0.6276, Prec=0.3791, Rec=0.2320, F1=0.2095, AUC=0.7127\n",
      "Validation AUC 0.7127 did not improve from 0.7131\n",
      "Validation Loss 1.0609 did not reduced from 1.0601\n"
     ]
    },
    {
     "name": "stderr",
     "output_type": "stream",
     "text": [
      "Epoch 34/60 [Train]: 100%|██████████| 393/393 [01:50<00:00,  3.57it/s]\n",
      "Epoch 34/60 [Val]: 100%|██████████| 84/84 [00:20<00:00,  4.05it/s]\n"
     ]
    },
    {
     "name": "stdout",
     "output_type": "stream",
     "text": [
      "\n",
      "Epoch 34:\n",
      " Train -> Loss=1.0705, Acc=0.6235, Prec=0.3003, Rec=0.2278, F1=0.1989, AUC=0.7060\n",
      " Val   -> Loss=1.0613, Acc=0.6295, Prec=0.3009, Rec=0.2360, F1=0.2126, AUC=0.7137\n",
      "Best model (AUC) saved with AUC = 0.7137\n",
      "Validation Loss 1.0613 did not reduced from 1.0601\n"
     ]
    },
    {
     "name": "stderr",
     "output_type": "stream",
     "text": [
      "Epoch 35/60 [Train]: 100%|██████████| 393/393 [01:50<00:00,  3.56it/s]\n",
      "Epoch 35/60 [Val]: 100%|██████████| 84/84 [00:20<00:00,  4.01it/s]\n"
     ]
    },
    {
     "name": "stdout",
     "output_type": "stream",
     "text": [
      "\n",
      "Epoch 35:\n",
      " Train -> Loss=1.0699, Acc=0.6234, Prec=0.2535, Rec=0.2263, F1=0.1965, AUC=0.7079\n",
      " Val   -> Loss=1.0715, Acc=0.6332, Prec=0.3583, Rec=0.2538, F1=0.2331, AUC=0.7151\n",
      "Best model (AUC) saved with AUC = 0.7151\n",
      "Validation Loss 1.0715 did not reduced from 1.0601\n"
     ]
    },
    {
     "name": "stderr",
     "output_type": "stream",
     "text": [
      "Epoch 36/60 [Train]: 100%|██████████| 393/393 [01:49<00:00,  3.58it/s]\n",
      "Epoch 36/60 [Val]: 100%|██████████| 84/84 [00:21<00:00,  3.93it/s]\n"
     ]
    },
    {
     "name": "stdout",
     "output_type": "stream",
     "text": [
      "\n",
      "Epoch 36:\n",
      " Train -> Loss=1.0660, Acc=0.6256, Prec=0.2831, Rec=0.2306, F1=0.2015, AUC=0.7092\n",
      " Val   -> Loss=1.0554, Acc=0.6291, Prec=0.3902, Rec=0.2370, F1=0.2133, AUC=0.7156\n",
      "Best model (AUC) saved with AUC = 0.7156\n",
      "Best model (Loss) saved with Loss = 1.0554\n"
     ]
    },
    {
     "name": "stderr",
     "output_type": "stream",
     "text": [
      "Epoch 37/60 [Train]: 100%|██████████| 393/393 [01:49<00:00,  3.57it/s]\n",
      "Epoch 37/60 [Val]: 100%|██████████| 84/84 [00:22<00:00,  3.70it/s]\n"
     ]
    },
    {
     "name": "stdout",
     "output_type": "stream",
     "text": [
      "\n",
      "Epoch 37:\n",
      " Train -> Loss=1.0660, Acc=0.6247, Prec=0.2910, Rec=0.2301, F1=0.2015, AUC=0.7095\n",
      " Val   -> Loss=1.0558, Acc=0.6321, Prec=0.3396, Rec=0.2473, F1=0.2247, AUC=0.7171\n",
      "Best model (AUC) saved with AUC = 0.7171\n",
      "Validation Loss 1.0558 did not reduced from 1.0554\n"
     ]
    },
    {
     "name": "stderr",
     "output_type": "stream",
     "text": [
      "Epoch 38/60 [Train]: 100%|██████████| 393/393 [01:49<00:00,  3.57it/s]\n",
      "Epoch 38/60 [Val]: 100%|██████████| 84/84 [00:21<00:00,  3.94it/s]\n"
     ]
    },
    {
     "name": "stdout",
     "output_type": "stream",
     "text": [
      "\n",
      "Epoch 38:\n",
      " Train -> Loss=1.0662, Acc=0.6249, Prec=0.2809, Rec=0.2323, F1=0.2046, AUC=0.7094\n",
      " Val   -> Loss=1.0630, Acc=0.6332, Prec=0.3270, Rec=0.2507, F1=0.2293, AUC=0.7166\n",
      "Validation AUC 0.7166 did not improve from 0.7171\n",
      "Validation Loss 1.0630 did not reduced from 1.0554\n"
     ]
    },
    {
     "name": "stderr",
     "output_type": "stream",
     "text": [
      "Epoch 39/60 [Train]: 100%|██████████| 393/393 [01:48<00:00,  3.61it/s]\n",
      "Epoch 39/60 [Val]: 100%|██████████| 84/84 [00:21<00:00,  3.95it/s]\n"
     ]
    },
    {
     "name": "stdout",
     "output_type": "stream",
     "text": [
      "\n",
      "Epoch 39:\n",
      " Train -> Loss=1.0656, Acc=0.6257, Prec=0.2963, Rec=0.2324, F1=0.2044, AUC=0.7104\n",
      " Val   -> Loss=1.0563, Acc=0.6317, Prec=0.3362, Rec=0.2478, F1=0.2326, AUC=0.7192\n",
      "Best model (AUC) saved with AUC = 0.7192\n",
      "Validation Loss 1.0563 did not reduced from 1.0554\n"
     ]
    },
    {
     "name": "stderr",
     "output_type": "stream",
     "text": [
      "Epoch 40/60 [Train]: 100%|██████████| 393/393 [01:49<00:00,  3.58it/s]\n",
      "Epoch 40/60 [Val]: 100%|██████████| 84/84 [00:21<00:00,  3.90it/s]\n"
     ]
    },
    {
     "name": "stdout",
     "output_type": "stream",
     "text": [
      "\n",
      "Epoch 40:\n",
      " Train -> Loss=1.0635, Acc=0.6262, Prec=0.3166, Rec=0.2338, F1=0.2076, AUC=0.7106\n",
      " Val   -> Loss=1.0540, Acc=0.6313, Prec=0.4086, Rec=0.2397, F1=0.2193, AUC=0.7169\n",
      "Validation AUC 0.7169 did not improve from 0.7192\n",
      "Best model (Loss) saved with Loss = 1.0540\n"
     ]
    },
    {
     "name": "stderr",
     "output_type": "stream",
     "text": [
      "Epoch 41/60 [Train]: 100%|██████████| 393/393 [01:48<00:00,  3.62it/s]\n",
      "Epoch 41/60 [Val]: 100%|██████████| 84/84 [00:20<00:00,  4.08it/s]\n"
     ]
    },
    {
     "name": "stdout",
     "output_type": "stream",
     "text": [
      "\n",
      "Epoch 41:\n",
      " Train -> Loss=1.0646, Acc=0.6248, Prec=0.2791, Rec=0.2305, F1=0.2017, AUC=0.7112\n",
      " Val   -> Loss=1.0516, Acc=0.6343, Prec=0.4035, Rec=0.2491, F1=0.2284, AUC=0.7191\n",
      "Validation AUC 0.7191 did not improve from 0.7192\n",
      "Best model (Loss) saved with Loss = 1.0516\n"
     ]
    },
    {
     "name": "stderr",
     "output_type": "stream",
     "text": [
      "Epoch 42/60 [Train]: 100%|██████████| 393/393 [01:50<00:00,  3.57it/s]\n",
      "Epoch 42/60 [Val]: 100%|██████████| 84/84 [00:22<00:00,  3.68it/s]\n"
     ]
    },
    {
     "name": "stdout",
     "output_type": "stream",
     "text": [
      "\n",
      "Epoch 42:\n",
      " Train -> Loss=1.0629, Acc=0.6251, Prec=0.2773, Rec=0.2317, F1=0.2027, AUC=0.7124\n",
      " Val   -> Loss=1.0568, Acc=0.6343, Prec=0.3937, Rec=0.2524, F1=0.2300, AUC=0.7198\n",
      "Best model (AUC) saved with AUC = 0.7198\n",
      "Validation Loss 1.0568 did not reduced from 1.0516\n"
     ]
    },
    {
     "name": "stderr",
     "output_type": "stream",
     "text": [
      "Epoch 43/60 [Train]: 100%|██████████| 393/393 [01:38<00:00,  4.01it/s]\n",
      "Epoch 43/60 [Val]: 100%|██████████| 84/84 [00:18<00:00,  4.43it/s]\n"
     ]
    },
    {
     "name": "stdout",
     "output_type": "stream",
     "text": [
      "\n",
      "Epoch 43:\n",
      " Train -> Loss=1.0607, Acc=0.6261, Prec=0.2989, Rec=0.2344, F1=0.2070, AUC=0.7131\n",
      " Val   -> Loss=1.0522, Acc=0.6324, Prec=0.4374, Rec=0.2512, F1=0.2290, AUC=0.7214\n",
      "Best model (AUC) saved with AUC = 0.7214\n",
      "Validation Loss 1.0522 did not reduced from 1.0516\n"
     ]
    },
    {
     "name": "stderr",
     "output_type": "stream",
     "text": [
      "Epoch 44/60 [Train]: 100%|██████████| 393/393 [01:35<00:00,  4.13it/s]\n",
      "Epoch 44/60 [Val]: 100%|██████████| 84/84 [00:18<00:00,  4.59it/s]\n"
     ]
    },
    {
     "name": "stdout",
     "output_type": "stream",
     "text": [
      "\n",
      "Epoch 44:\n",
      " Train -> Loss=1.0601, Acc=0.6270, Prec=0.3360, Rec=0.2362, F1=0.2105, AUC=0.7130\n",
      " Val   -> Loss=1.0477, Acc=0.6317, Prec=0.3477, Rec=0.2474, F1=0.2303, AUC=0.7223\n",
      "Best model (AUC) saved with AUC = 0.7223\n",
      "Best model (Loss) saved with Loss = 1.0477\n"
     ]
    },
    {
     "name": "stderr",
     "output_type": "stream",
     "text": [
      "Epoch 45/60 [Train]: 100%|██████████| 393/393 [01:38<00:00,  4.00it/s]\n",
      "Epoch 45/60 [Val]: 100%|██████████| 84/84 [00:19<00:00,  4.38it/s]\n"
     ]
    },
    {
     "name": "stdout",
     "output_type": "stream",
     "text": [
      "\n",
      "Epoch 45:\n",
      " Train -> Loss=1.0598, Acc=0.6269, Prec=0.3161, Rec=0.2362, F1=0.2107, AUC=0.7146\n",
      " Val   -> Loss=1.0478, Acc=0.6347, Prec=0.4199, Rec=0.2517, F1=0.2321, AUC=0.7220\n",
      "Validation AUC 0.7220 did not improve from 0.7223\n",
      "Validation Loss 1.0478 did not reduced from 1.0477\n"
     ]
    },
    {
     "name": "stderr",
     "output_type": "stream",
     "text": [
      "Epoch 46/60 [Train]: 100%|██████████| 393/393 [01:38<00:00,  3.99it/s]\n",
      "Epoch 46/60 [Val]: 100%|██████████| 84/84 [00:18<00:00,  4.63it/s]\n"
     ]
    },
    {
     "name": "stdout",
     "output_type": "stream",
     "text": [
      "\n",
      "Epoch 46:\n",
      " Train -> Loss=1.0575, Acc=0.6263, Prec=0.3164, Rec=0.2358, F1=0.2093, AUC=0.7154\n",
      " Val   -> Loss=1.0467, Acc=0.6354, Prec=0.4187, Rec=0.2519, F1=0.2335, AUC=0.7223\n",
      "Validation AUC 0.7223 did not improve from 0.7223\n",
      "Best model (Loss) saved with Loss = 1.0467\n"
     ]
    },
    {
     "name": "stderr",
     "output_type": "stream",
     "text": [
      "Epoch 47/60 [Train]: 100%|██████████| 393/393 [01:37<00:00,  4.02it/s]\n",
      "Epoch 47/60 [Val]: 100%|██████████| 84/84 [00:18<00:00,  4.62it/s]\n"
     ]
    },
    {
     "name": "stdout",
     "output_type": "stream",
     "text": [
      "\n",
      "Epoch 47:\n",
      " Train -> Loss=1.0573, Acc=0.6266, Prec=0.3249, Rec=0.2364, F1=0.2107, AUC=0.7165\n",
      " Val   -> Loss=1.0498, Acc=0.6358, Prec=0.3808, Rec=0.2552, F1=0.2411, AUC=0.7230\n",
      "Best model (AUC) saved with AUC = 0.7230\n",
      "Validation Loss 1.0498 did not reduced from 1.0467\n"
     ]
    },
    {
     "name": "stderr",
     "output_type": "stream",
     "text": [
      "Epoch 48/60 [Train]: 100%|██████████| 393/393 [01:37<00:00,  4.05it/s]\n",
      "Epoch 48/60 [Val]: 100%|██████████| 84/84 [00:19<00:00,  4.22it/s]\n"
     ]
    },
    {
     "name": "stdout",
     "output_type": "stream",
     "text": [
      "\n",
      "Epoch 48:\n",
      " Train -> Loss=1.0558, Acc=0.6266, Prec=0.3153, Rec=0.2360, F1=0.2113, AUC=0.7176\n",
      " Val   -> Loss=1.0504, Acc=0.6362, Prec=0.4090, Rec=0.2581, F1=0.2382, AUC=0.7241\n",
      "Best model (AUC) saved with AUC = 0.7241\n",
      "Validation Loss 1.0504 did not reduced from 1.0467\n"
     ]
    },
    {
     "name": "stderr",
     "output_type": "stream",
     "text": [
      "Epoch 49/60 [Train]: 100%|██████████| 393/393 [01:36<00:00,  4.08it/s]\n",
      "Epoch 49/60 [Val]: 100%|██████████| 84/84 [00:19<00:00,  4.41it/s]\n"
     ]
    },
    {
     "name": "stdout",
     "output_type": "stream",
     "text": [
      "\n",
      "Epoch 49:\n",
      " Train -> Loss=1.0561, Acc=0.6274, Prec=0.3395, Rec=0.2386, F1=0.2155, AUC=0.7167\n",
      " Val   -> Loss=1.0465, Acc=0.6358, Prec=0.4229, Rec=0.2549, F1=0.2366, AUC=0.7245\n",
      "Best model (AUC) saved with AUC = 0.7245\n",
      "Best model (Loss) saved with Loss = 1.0465\n"
     ]
    },
    {
     "name": "stderr",
     "output_type": "stream",
     "text": [
      "Epoch 50/60 [Train]: 100%|██████████| 393/393 [01:36<00:00,  4.07it/s]\n",
      "Epoch 50/60 [Val]: 100%|██████████| 84/84 [00:18<00:00,  4.51it/s]\n"
     ]
    },
    {
     "name": "stdout",
     "output_type": "stream",
     "text": [
      "\n",
      "Epoch 50:\n",
      " Train -> Loss=1.0570, Acc=0.6280, Prec=0.3456, Rec=0.2398, F1=0.2159, AUC=0.7166\n",
      " Val   -> Loss=1.0433, Acc=0.6332, Prec=0.3533, Rec=0.2506, F1=0.2308, AUC=0.7260\n",
      "Best model (AUC) saved with AUC = 0.7260\n",
      "Best model (Loss) saved with Loss = 1.0433\n"
     ]
    },
    {
     "name": "stderr",
     "output_type": "stream",
     "text": [
      "Epoch 51/60 [Train]: 100%|██████████| 393/393 [01:37<00:00,  4.03it/s]\n",
      "Epoch 51/60 [Val]: 100%|██████████| 84/84 [00:18<00:00,  4.57it/s]\n"
     ]
    },
    {
     "name": "stdout",
     "output_type": "stream",
     "text": [
      "\n",
      "Epoch 51:\n",
      " Train -> Loss=1.0569, Acc=0.6267, Prec=0.3231, Rec=0.2392, F1=0.2167, AUC=0.7165\n",
      " Val   -> Loss=1.0516, Acc=0.6369, Prec=0.4042, Rec=0.2688, F1=0.2492, AUC=0.7265\n",
      "Best model (AUC) saved with AUC = 0.7265\n",
      "Validation Loss 1.0516 did not reduced from 1.0433\n"
     ]
    },
    {
     "name": "stderr",
     "output_type": "stream",
     "text": [
      "Epoch 52/60 [Train]: 100%|██████████| 393/393 [01:37<00:00,  4.02it/s]\n",
      "Epoch 52/60 [Val]: 100%|██████████| 84/84 [00:19<00:00,  4.25it/s]\n"
     ]
    },
    {
     "name": "stdout",
     "output_type": "stream",
     "text": [
      "\n",
      "Epoch 52:\n",
      " Train -> Loss=1.0518, Acc=0.6274, Prec=0.3315, Rec=0.2387, F1=0.2137, AUC=0.7211\n",
      " Val   -> Loss=1.0554, Acc=0.6302, Prec=0.4160, Rec=0.2462, F1=0.2310, AUC=0.7246\n",
      "Validation AUC 0.7246 did not improve from 0.7265\n",
      "Validation Loss 1.0554 did not reduced from 1.0433\n"
     ]
    },
    {
     "name": "stderr",
     "output_type": "stream",
     "text": [
      "Epoch 53/60 [Train]: 100%|██████████| 393/393 [01:41<00:00,  3.86it/s]\n",
      "Epoch 53/60 [Val]: 100%|██████████| 84/84 [00:18<00:00,  4.56it/s]\n"
     ]
    },
    {
     "name": "stdout",
     "output_type": "stream",
     "text": [
      "\n",
      "Epoch 53:\n",
      " Train -> Loss=1.0533, Acc=0.6267, Prec=0.2958, Rec=0.2387, F1=0.2147, AUC=0.7202\n",
      " Val   -> Loss=1.0429, Acc=0.6339, Prec=0.3843, Rec=0.2489, F1=0.2256, AUC=0.7261\n",
      "Validation AUC 0.7261 did not improve from 0.7265\n",
      "Best model (Loss) saved with Loss = 1.0429\n"
     ]
    },
    {
     "name": "stderr",
     "output_type": "stream",
     "text": [
      "Epoch 54/60 [Train]: 100%|██████████| 393/393 [01:40<00:00,  3.89it/s]\n",
      "Epoch 54/60 [Val]: 100%|██████████| 84/84 [00:19<00:00,  4.38it/s]\n"
     ]
    },
    {
     "name": "stdout",
     "output_type": "stream",
     "text": [
      "\n",
      "Epoch 54:\n",
      " Train -> Loss=1.0512, Acc=0.6275, Prec=0.3073, Rec=0.2370, F1=0.2123, AUC=0.7215\n",
      " Val   -> Loss=1.0413, Acc=0.6321, Prec=0.4190, Rec=0.2452, F1=0.2258, AUC=0.7272\n",
      "Best model (AUC) saved with AUC = 0.7272\n",
      "Best model (Loss) saved with Loss = 1.0413\n"
     ]
    },
    {
     "name": "stderr",
     "output_type": "stream",
     "text": [
      "Epoch 55/60 [Train]: 100%|██████████| 393/393 [01:36<00:00,  4.05it/s]\n",
      "Epoch 55/60 [Val]: 100%|██████████| 84/84 [00:20<00:00,  4.10it/s]\n"
     ]
    },
    {
     "name": "stdout",
     "output_type": "stream",
     "text": [
      "\n",
      "Epoch 55:\n",
      " Train -> Loss=1.0522, Acc=0.6278, Prec=0.3344, Rec=0.2403, F1=0.2182, AUC=0.7191\n",
      " Val   -> Loss=1.0413, Acc=0.6347, Prec=0.3626, Rec=0.2573, F1=0.2458, AUC=0.7281\n",
      "Best model (AUC) saved with AUC = 0.7281\n",
      "Validation Loss 1.0413 did not reduced from 1.0413\n"
     ]
    },
    {
     "name": "stderr",
     "output_type": "stream",
     "text": [
      "Epoch 56/60 [Train]: 100%|██████████| 393/393 [01:36<00:00,  4.08it/s]\n",
      "Epoch 56/60 [Val]: 100%|██████████| 84/84 [00:18<00:00,  4.55it/s]\n"
     ]
    },
    {
     "name": "stdout",
     "output_type": "stream",
     "text": [
      "\n",
      "Epoch 56:\n",
      " Train -> Loss=1.0499, Acc=0.6273, Prec=0.3314, Rec=0.2405, F1=0.2179, AUC=0.7225\n",
      " Val   -> Loss=1.0486, Acc=0.6310, Prec=0.4888, Rec=0.2411, F1=0.2201, AUC=0.7271\n",
      "Validation AUC 0.7271 did not improve from 0.7281\n",
      "Validation Loss 1.0486 did not reduced from 1.0413\n"
     ]
    },
    {
     "name": "stderr",
     "output_type": "stream",
     "text": [
      "Epoch 57/60 [Train]: 100%|██████████| 393/393 [01:36<00:00,  4.09it/s]\n",
      "Epoch 57/60 [Val]: 100%|██████████| 84/84 [00:19<00:00,  4.36it/s]\n"
     ]
    },
    {
     "name": "stdout",
     "output_type": "stream",
     "text": [
      "\n",
      "Epoch 57:\n",
      " Train -> Loss=1.0494, Acc=0.6282, Prec=0.3161, Rec=0.2407, F1=0.2173, AUC=0.7240\n",
      " Val   -> Loss=1.0442, Acc=0.6362, Prec=0.4058, Rec=0.2639, F1=0.2446, AUC=0.7300\n",
      "Best model (AUC) saved with AUC = 0.7300\n",
      "Validation Loss 1.0442 did not reduced from 1.0413\n"
     ]
    },
    {
     "name": "stderr",
     "output_type": "stream",
     "text": [
      "Epoch 58/60 [Train]: 100%|██████████| 393/393 [01:41<00:00,  3.88it/s]\n",
      "Epoch 58/60 [Val]: 100%|██████████| 84/84 [00:20<00:00,  4.17it/s]\n"
     ]
    },
    {
     "name": "stdout",
     "output_type": "stream",
     "text": [
      "\n",
      "Epoch 58:\n",
      " Train -> Loss=1.0502, Acc=0.6291, Prec=0.3440, Rec=0.2438, F1=0.2241, AUC=0.7221\n",
      " Val   -> Loss=1.0386, Acc=0.6310, Prec=0.3284, Rec=0.2422, F1=0.2210, AUC=0.7297\n",
      "Validation AUC 0.7297 did not improve from 0.7300\n",
      "Best model (Loss) saved with Loss = 1.0386\n"
     ]
    },
    {
     "name": "stderr",
     "output_type": "stream",
     "text": [
      "Epoch 59/60 [Train]: 100%|██████████| 393/393 [01:41<00:00,  3.87it/s]\n",
      "Epoch 59/60 [Val]: 100%|██████████| 84/84 [00:19<00:00,  4.23it/s]\n"
     ]
    },
    {
     "name": "stdout",
     "output_type": "stream",
     "text": [
      "\n",
      "Epoch 59:\n",
      " Train -> Loss=1.0484, Acc=0.6285, Prec=0.3204, Rec=0.2419, F1=0.2196, AUC=0.7234\n",
      " Val   -> Loss=1.0511, Acc=0.6306, Prec=0.4758, Rec=0.2388, F1=0.2177, AUC=0.7269\n",
      "Validation AUC 0.7269 did not improve from 0.7300\n",
      "Validation Loss 1.0511 did not reduced from 1.0386\n"
     ]
    },
    {
     "name": "stderr",
     "output_type": "stream",
     "text": [
      "Epoch 60/60 [Train]: 100%|██████████| 393/393 [01:39<00:00,  3.97it/s]\n",
      "Epoch 60/60 [Val]: 100%|██████████| 84/84 [00:20<00:00,  4.10it/s]"
     ]
    },
    {
     "name": "stdout",
     "output_type": "stream",
     "text": [
      "\n",
      "Epoch 60:\n",
      " Train -> Loss=1.0478, Acc=0.6289, Prec=0.3263, Rec=0.2418, F1=0.2194, AUC=0.7247\n",
      " Val   -> Loss=1.0399, Acc=0.6384, Prec=0.3921, Rec=0.2621, F1=0.2480, AUC=0.7308\n",
      "Best model (AUC) saved with AUC = 0.7308\n",
      "Validation Loss 1.0399 did not reduced from 1.0386\n"
     ]
    },
    {
     "name": "stderr",
     "output_type": "stream",
     "text": [
      "\n"
     ]
    }
   ],
   "source": [
    "best_val_loss = np.inf\n",
    "best_val_auc = -np.inf\n",
    "patience_counter = 0\n",
    "\n",
    "# For tracking\n",
    "history = {\n",
    "    \"train_loss\": [], \"val_loss\": [],\n",
    "    \"train_acc\": [], \"val_acc\": [],\n",
    "    \"train_prec\": [], \"val_prec\": [],\n",
    "    \"train_rec\": [], \"val_rec\": [],\n",
    "    \"train_f1\": [], \"val_f1\": [],\n",
    "    \"train_auc\": [], \"val_auc\": []\n",
    "}\n",
    "\n",
    "# Adding SEED \n",
    "SEED = 42\n",
    "np.random.seed(SEED)\n",
    "torch.manual_seed(SEED)\n",
    "torch.cuda.manual_seed(SEED)\n",
    "torch.backends.cudnn.deterministic = True\n",
    "torch.backends.cudnn.benchmark = False\n",
    "\n",
    "# =====================\n",
    "# TRAINING LOOP\n",
    "# =====================\n",
    "for epoch in range(config[\"epochs\"]):\n",
    "    # -------- TRAIN --------\n",
    "    model.train()\n",
    "    train_loss, train_preds, train_labels, train_probs = 0, [], [], []\n",
    "    for images, labels in tqdm(train_loader, desc=f\"Epoch {epoch+1}/{config['epochs']} [Train]\"):\n",
    "        images, labels = images.to(device), labels.to(device)\n",
    "        optimizer.zero_grad()\n",
    "        preds = model(images)\n",
    "        loss = criterion(preds, labels)\n",
    "        loss.backward()\n",
    "        optimizer.step()\n",
    "        train_loss += loss.item()\n",
    "        probs = torch.softmax(preds, dim=1)\n",
    "        train_preds.extend(torch.argmax(preds, 1).cpu().numpy())\n",
    "        train_labels.extend(labels.cpu().numpy())\n",
    "        train_probs.extend(probs.cpu().detach().numpy())\n",
    "\n",
    "    train_loss /= len(train_loader)\n",
    "    train_acc, train_prec, train_rec, train_f1, train_auc = compute_metrics(\n",
    "        train_labels, train_preds, train_probs\n",
    "    )\n",
    "\n",
    "    # -------- VALIDATION --------\n",
    "    model.eval()\n",
    "    val_loss, val_preds, val_labels, val_probs = 0, [], [], []\n",
    "    with torch.no_grad():\n",
    "        for images, labels in tqdm(val_loader, desc=f\"Epoch {epoch+1}/{config['epochs']} [Val]\"):\n",
    "            images, labels = images.to(device), labels.to(device)\n",
    "            preds = model(images)\n",
    "            loss = criterion(preds, labels)\n",
    "            val_loss += loss.item()\n",
    "            probs = torch.softmax(preds, dim=1)\n",
    "            val_preds.extend(torch.argmax(preds, 1).cpu().numpy())\n",
    "            val_labels.extend(labels.cpu().numpy())\n",
    "            val_probs.extend(probs.cpu().numpy())\n",
    "\n",
    "    val_loss /= len(val_loader)\n",
    "    val_acc, val_prec, val_rec, val_f1, val_auc = compute_metrics(\n",
    "        val_labels, val_preds, val_probs\n",
    "    )\n",
    "\n",
    "    # Save history\n",
    "    history[\"train_loss\"].append(train_loss)\n",
    "    history[\"val_loss\"].append(val_loss)\n",
    "    history[\"train_acc\"].append(train_acc)\n",
    "    history[\"val_acc\"].append(val_acc)\n",
    "    history[\"train_prec\"].append(train_prec)\n",
    "    history[\"val_prec\"].append(val_prec)\n",
    "    history[\"train_rec\"].append(train_rec)\n",
    "    history[\"val_rec\"].append(val_rec)\n",
    "    history[\"train_f1\"].append(train_f1)\n",
    "    history[\"val_f1\"].append(val_f1)\n",
    "    history[\"train_auc\"].append(train_auc)\n",
    "    history[\"val_auc\"].append(val_auc)\n",
    "\n",
    "    # Print results like your screenshot\n",
    "    print(f\"\\nEpoch {epoch+1}:\")\n",
    "    print(f\" Train -> Loss={train_loss:.4f}, Acc={train_acc:.4f}, Prec={train_prec:.4f}, \"\n",
    "          f\"Rec={train_rec:.4f}, F1={train_f1:.4f}, AUC={train_auc:.4f}\")\n",
    "    print(f\" Val   -> Loss={val_loss:.4f}, Acc={val_acc:.4f}, Prec={val_prec:.4f}, \"\n",
    "          f\"Rec={val_rec:.4f}, F1={val_f1:.4f}, AUC={val_auc:.4f}\")\n",
    "\n",
    "    # Save best model based on AUC\n",
    "    if val_auc > best_val_auc:\n",
    "        best_val_auc = val_auc\n",
    "        patience_counter = 0\n",
    "        torch.save(model.state_dict(), config[\"model_path_auc\"])\n",
    "        print(f\"Best model (AUC) saved with AUC = {best_val_auc:.4f}\")\n",
    "    else:\n",
    "        print(f\"Validation AUC {val_auc:.4f} did not improve from {best_val_auc:.4f}\")\n",
    "\n",
    "    # Save best model based on Loss\n",
    "    if val_loss < best_val_loss:\n",
    "        best_val_loss = val_loss\n",
    "        torch.save(model.state_dict(), config[\"model_path_loss\"])\n",
    "        print(f\"Best model (Loss) saved with Loss = {best_val_loss:.4f}\")\n",
    "    else:\n",
    "        print(f\"Validation Loss {val_loss:.4f} did not reduced from {best_val_loss:.4f}\")\n",
    "\n",
    "    # Early stopping (based on AUC)\n",
    "    if val_auc <= best_val_auc:\n",
    "        patience_counter += 1\n",
    "        if patience_counter >= config[\"early_stopping_patience\"]:\n",
    "            print(\"Early stopping triggered!\")\n",
    "            break\n"
   ]
  },
  {
   "cell_type": "markdown",
   "id": "27bc9e82",
   "metadata": {},
   "source": [
    "# Testing and Plotting"
   ]
  },
  {
   "cell_type": "code",
   "execution_count": 7,
   "id": "e0b164db",
   "metadata": {},
   "outputs": [
    {
     "name": "stdout",
     "output_type": "stream",
     "text": [
      "\n",
      "=== Test Results ===\n",
      " Loss=1.0529, Acc=0.6283, Prec=0.4327, Rec=0.2470, F1=0.2274, AUC=0.7257, Spec=0.8207\n"
     ]
    },
    {
     "data": {
      "image/png": "[encoded data removed]",
      "text/plain": [
       "<Figure size 1200x400 with 3 Axes>"
      ]
     },
     "metadata": {},
     "output_type": "display_data"
    }
   ],
   "source": [
    "# =====================\n",
    "# TESTING\n",
    "# =====================\n",
    "model.load_state_dict(torch.load(config[\"model_path_auc\"]))\n",
    "model.eval()\n",
    "test_loss, test_preds, test_labels, test_probs = 0, [], [], []\n",
    "with torch.no_grad():\n",
    "    for images, labels in test_loader:\n",
    "        images, labels = images.to(device), labels.to(device)\n",
    "        preds = model(images)\n",
    "        loss = criterion(preds, labels)\n",
    "        test_loss += loss.item()\n",
    "        probs = torch.softmax(preds, dim=1)\n",
    "        test_preds.extend(torch.argmax(preds, 1).cpu().numpy())\n",
    "        test_labels.extend(labels.cpu().numpy())\n",
    "        test_probs.extend(probs.cpu().numpy())\n",
    "\n",
    "test_loss /= len(test_loader)\n",
    "test_acc, test_prec, test_rec, test_f1, test_auc = compute_metrics(test_labels, test_preds, test_probs)\n",
    "\n",
    "# Specificity (macro-averaged)\n",
    "cm = confusion_matrix(test_labels, test_preds)\n",
    "tn = cm.sum() - (cm.sum(axis=1) + cm.sum(axis=0) - np.diag(cm))\n",
    "fp = cm.sum(axis=0) - np.diag(cm)\n",
    "specificity = np.mean(tn / (tn + fp + 1e-8))\n",
    "\n",
    "print(\"\\n=== Test Results ===\")\n",
    "print(f\" Loss={test_loss:.4f}, Acc={test_acc:.4f}, Prec={test_prec:.4f}, \"\n",
    "      f\"Rec={test_rec:.4f}, F1={test_f1:.4f}, AUC={test_auc:.4f}, Spec={specificity:.4f}\")\n",
    "\n",
    "# Confusion matrix plot\n",
    "plt.figure(figsize=(8, 6))\n",
    "sns.heatmap(cm, annot=True, fmt=\"d\", cmap=\"Blues\",\n",
    "            xticklabels=test_data.classes, yticklabels=test_data.classes)\n",
    "plt.xlabel(\"Predicted\")\n",
    "plt.ylabel(\"True\")\n",
    "plt.title(\"Confusion Matrix\")\n",
    "plt.tight_layout()\n",
    "plt.savefig(\"confusion_matrix.png\")\n",
    "plt.close()\n",
    "\n",
    "# =====================\n",
    "# FINAL SUMMARY PLOT\n",
    "# =====================\n",
    "plt.figure(figsize=(12, 4))\n",
    "plt.subplot(1, 3, 1)\n",
    "plt.plot(history[\"train_loss\"], label=\"Train\")\n",
    "plt.plot(history[\"val_loss\"], label=\"Val\")\n",
    "plt.title(\"Loss\")\n",
    "plt.legend()\n",
    "\n",
    "plt.subplot(1, 3, 2)\n",
    "plt.plot(history[\"train_acc\"], label=\"Train\")\n",
    "plt.plot(history[\"val_acc\"], label=\"Val\")\n",
    "plt.title(\"Accuracy\")\n",
    "plt.legend()\n",
    "\n",
    "plt.subplot(1, 3, 3)\n",
    "plt.plot(history[\"train_auc\"], label=\"Train\")\n",
    "plt.plot(history[\"val_auc\"], label=\"Val\")\n",
    "plt.title(\"AUC\")\n",
    "plt.legend()\n",
    "\n",
    "plt.tight_layout()\n",
    "plt.savefig(\"summary.png\")\n",
    "plt.show()"
   ]
  },
  {
   "cell_type": "markdown",
   "id": "2b3a6744",
   "metadata": {},
   "source": []
  }
 ],
 "metadata": {
  "kernelspec": {
   "display_name": "Capstone",
   "language": "python",
   "name": "python3"
  },
  "language_info": {
   "codemirror_mode": {
    "name": "ipython",
    "version": 3
   },
   "file_extension": ".py",
   "mimetype": "text/x-python",
   "name": "python",
   "nbconvert_exporter": "python",
   "pygments_lexer": "ipython3",
   "version": "3.13.5"
  }
 },
 "nbformat": 4,
 "nbformat_minor": 5
}
